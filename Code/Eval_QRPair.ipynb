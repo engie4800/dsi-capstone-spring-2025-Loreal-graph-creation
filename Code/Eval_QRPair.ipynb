{
 "cells": [
  {
   "cell_type": "markdown",
   "metadata": {},
   "source": [
    "## Generator of Evaluation QA Pairs"
   ]
  },
  {
   "cell_type": "code",
   "execution_count": 5,
   "metadata": {},
   "outputs": [],
   "source": [
    "import datasets"
   ]
  },
  {
   "cell_type": "code",
   "execution_count": 6,
   "metadata": {},
   "outputs": [
    {
     "name": "stdout",
     "output_type": "stream",
     "text": [
      "DatasetDict({\n",
      "    train: Dataset({\n",
      "        features: ['parent_asin', 'date_first_available', 'title', 'description', 'filename', 'main_category', 'categories', 'store', 'average_rating', 'rating_number', 'price', 'features', 'details', 'embeddings', 'image', '__index_level_0__'],\n",
      "        num_rows: 117243\n",
      "    })\n",
      "})\n"
     ]
    }
   ],
   "source": [
    "amazon_product = datasets.load_dataset(\"milistu/AMAZON-Products-2023\")\n",
    "print(amazon_product)"
   ]
  },
  {
   "cell_type": "code",
   "execution_count": 7,
   "metadata": {},
   "outputs": [
    {
     "data": {
      "text/html": [
       "<div>\n",
       "<style scoped>\n",
       "    .dataframe tbody tr th:only-of-type {\n",
       "        vertical-align: middle;\n",
       "    }\n",
       "\n",
       "    .dataframe tbody tr th {\n",
       "        vertical-align: top;\n",
       "    }\n",
       "\n",
       "    .dataframe thead th {\n",
       "        text-align: right;\n",
       "    }\n",
       "</style>\n",
       "<table border=\"1\" class=\"dataframe\">\n",
       "  <thead>\n",
       "    <tr style=\"text-align: right;\">\n",
       "      <th></th>\n",
       "      <th>parent_asin</th>\n",
       "      <th>date_first_available</th>\n",
       "      <th>title</th>\n",
       "      <th>description</th>\n",
       "      <th>filename</th>\n",
       "      <th>main_category</th>\n",
       "      <th>categories</th>\n",
       "      <th>store</th>\n",
       "      <th>average_rating</th>\n",
       "      <th>rating_number</th>\n",
       "      <th>price</th>\n",
       "      <th>features</th>\n",
       "      <th>details</th>\n",
       "      <th>embeddings</th>\n",
       "      <th>image</th>\n",
       "      <th>__index_level_0__</th>\n",
       "    </tr>\n",
       "  </thead>\n",
       "  <tbody>\n",
       "    <tr>\n",
       "      <th>0</th>\n",
       "      <td>B000044U2O</td>\n",
       "      <td>2023-04-29</td>\n",
       "      <td>Anomie &amp; Bonhomie</td>\n",
       "      <td>Amazon.com\\nFans of Scritti Politti's synth-po...</td>\n",
       "      <td>meta_Digital_Music</td>\n",
       "      <td>Digital Music</td>\n",
       "      <td>[]</td>\n",
       "      <td>Scritti Politti   Format: Audio CD</td>\n",
       "      <td>4.2</td>\n",
       "      <td>56.0</td>\n",
       "      <td>NaN</td>\n",
       "      <td>[]</td>\n",
       "      <td>{'Date First Available': 'April 29, 2023'}</td>\n",
       "      <td>[0.015389198, -0.009462837, 0.020776799, -0.01...</td>\n",
       "      <td>https://m.media-amazon.com/images/I/41T618NE88...</td>\n",
       "      <td>1</td>\n",
       "    </tr>\n",
       "    <tr>\n",
       "      <th>1</th>\n",
       "      <td>B0BT4CWWC9</td>\n",
       "      <td>2023-01-26</td>\n",
       "      <td>Sunshine On My Shoulders: The Best Of John Den...</td>\n",
       "      <td>“Sunshine On My Shoulders” is a 2CD, 36-track ...</td>\n",
       "      <td>meta_Digital_Music</td>\n",
       "      <td>Digital Music</td>\n",
       "      <td>[]</td>\n",
       "      <td>John Denver   Format: Audio CD</td>\n",
       "      <td>4.7</td>\n",
       "      <td>502.0</td>\n",
       "      <td>19.98</td>\n",
       "      <td>[]</td>\n",
       "      <td>{'Package Dimensions': '5.55 x 4.92 x 0.51 inc...</td>\n",
       "      <td>[0.021719493, -0.034223344, 0.05114032, -0.006...</td>\n",
       "      <td>https://m.media-amazon.com/images/I/81bwkd6a3Q...</td>\n",
       "      <td>2</td>\n",
       "    </tr>\n",
       "    <tr>\n",
       "      <th>2</th>\n",
       "      <td>B0BS4L5LP6</td>\n",
       "      <td>2023-01-11</td>\n",
       "      <td>18 Greatest Hits of 38 Special</td>\n",
       "      <td>Track Listings:  1. Rockin' Into The Night 2. ...</td>\n",
       "      <td>meta_Digital_Music</td>\n",
       "      <td>Digital Music</td>\n",
       "      <td>[]</td>\n",
       "      <td>38 Special  (Contributor)    Format: Audio CD</td>\n",
       "      <td>5.0</td>\n",
       "      <td>1.0</td>\n",
       "      <td>14.97</td>\n",
       "      <td>[]</td>\n",
       "      <td>{'Item Weight': '4 Ounces', 'Run time': '1 hou...</td>\n",
       "      <td>[0.004309814, 0.009167284, 0.009274434, -0.063...</td>\n",
       "      <td>https://m.media-amazon.com/images/I/91wPsEXtuE...</td>\n",
       "      <td>5</td>\n",
       "    </tr>\n",
       "    <tr>\n",
       "      <th>3</th>\n",
       "      <td>B0BSPBBP89</td>\n",
       "      <td>2023-01-20</td>\n",
       "      <td>The Gift [CD]</td>\n",
       "      <td>Second studio album by the multi-million-selli...</td>\n",
       "      <td>meta_Digital_Music</td>\n",
       "      <td>Digital Music</td>\n",
       "      <td>[]</td>\n",
       "      <td>Susan Boyle   Format: Audio CD</td>\n",
       "      <td>4.8</td>\n",
       "      <td>34.0</td>\n",
       "      <td>12.99</td>\n",
       "      <td>[]</td>\n",
       "      <td>{'Package Dimensions': '5.59 x 4.8 x 0.47 inch...</td>\n",
       "      <td>[-0.0065331007, 0.012574269, -0.01417005, -0.0...</td>\n",
       "      <td>https://m.media-amazon.com/images/I/41fr0qCrCq...</td>\n",
       "      <td>12</td>\n",
       "    </tr>\n",
       "    <tr>\n",
       "      <th>4</th>\n",
       "      <td>B0BT1YG8MV</td>\n",
       "      <td>2023-01-20</td>\n",
       "      <td>ΤΗΕ ΒΟΟΤLΕG SΕRΙΕS VοΙ. ᛐ7 ᛐ996-ᛐ997 FRΑԌΜΕΝΤՏ...</td>\n",
       "      <td>EU Edition 2CD,\\nDISC ONE - TIME OUT OF MIND [...</td>\n",
       "      <td>meta_Digital_Music</td>\n",
       "      <td>Digital Music</td>\n",
       "      <td>[]</td>\n",
       "      <td>ΒΟΒ DΥԼΑΝ  (Contributor)    Format: Audio CD</td>\n",
       "      <td>3.6</td>\n",
       "      <td>5.0</td>\n",
       "      <td>43.99</td>\n",
       "      <td>[]</td>\n",
       "      <td>{'Manufacturer': 'Columbia Records, Sony Music...</td>\n",
       "      <td>[-0.00026524643, -0.0143332025, 0.002644092, -...</td>\n",
       "      <td>https://m.media-amazon.com/images/I/61VgSSP6Ta...</td>\n",
       "      <td>14</td>\n",
       "    </tr>\n",
       "  </tbody>\n",
       "</table>\n",
       "</div>"
      ],
      "text/plain": [
       "  parent_asin date_first_available  \\\n",
       "0  B000044U2O           2023-04-29   \n",
       "1  B0BT4CWWC9           2023-01-26   \n",
       "2  B0BS4L5LP6           2023-01-11   \n",
       "3  B0BSPBBP89           2023-01-20   \n",
       "4  B0BT1YG8MV           2023-01-20   \n",
       "\n",
       "                                               title  \\\n",
       "0                                  Anomie & Bonhomie   \n",
       "1  Sunshine On My Shoulders: The Best Of John Den...   \n",
       "2                     18 Greatest Hits of 38 Special   \n",
       "3                                      The Gift [CD]   \n",
       "4  ΤΗΕ ΒΟΟΤLΕG SΕRΙΕS VοΙ. ᛐ7 ᛐ996-ᛐ997 FRΑԌΜΕΝΤՏ...   \n",
       "\n",
       "                                         description            filename  \\\n",
       "0  Amazon.com\\nFans of Scritti Politti's synth-po...  meta_Digital_Music   \n",
       "1  “Sunshine On My Shoulders” is a 2CD, 36-track ...  meta_Digital_Music   \n",
       "2  Track Listings:  1. Rockin' Into The Night 2. ...  meta_Digital_Music   \n",
       "3  Second studio album by the multi-million-selli...  meta_Digital_Music   \n",
       "4  EU Edition 2CD,\\nDISC ONE - TIME OUT OF MIND [...  meta_Digital_Music   \n",
       "\n",
       "   main_category categories                                          store  \\\n",
       "0  Digital Music         []             Scritti Politti   Format: Audio CD   \n",
       "1  Digital Music         []                 John Denver   Format: Audio CD   \n",
       "2  Digital Music         []  38 Special  (Contributor)    Format: Audio CD   \n",
       "3  Digital Music         []                 Susan Boyle   Format: Audio CD   \n",
       "4  Digital Music         []   ΒΟΒ DΥԼΑΝ  (Contributor)    Format: Audio CD   \n",
       "\n",
       "   average_rating  rating_number  price features  \\\n",
       "0             4.2           56.0    NaN       []   \n",
       "1             4.7          502.0  19.98       []   \n",
       "2             5.0            1.0  14.97       []   \n",
       "3             4.8           34.0  12.99       []   \n",
       "4             3.6            5.0  43.99       []   \n",
       "\n",
       "                                             details  \\\n",
       "0         {'Date First Available': 'April 29, 2023'}   \n",
       "1  {'Package Dimensions': '5.55 x 4.92 x 0.51 inc...   \n",
       "2  {'Item Weight': '4 Ounces', 'Run time': '1 hou...   \n",
       "3  {'Package Dimensions': '5.59 x 4.8 x 0.47 inch...   \n",
       "4  {'Manufacturer': 'Columbia Records, Sony Music...   \n",
       "\n",
       "                                          embeddings  \\\n",
       "0  [0.015389198, -0.009462837, 0.020776799, -0.01...   \n",
       "1  [0.021719493, -0.034223344, 0.05114032, -0.006...   \n",
       "2  [0.004309814, 0.009167284, 0.009274434, -0.063...   \n",
       "3  [-0.0065331007, 0.012574269, -0.01417005, -0.0...   \n",
       "4  [-0.00026524643, -0.0143332025, 0.002644092, -...   \n",
       "\n",
       "                                               image  __index_level_0__  \n",
       "0  https://m.media-amazon.com/images/I/41T618NE88...                  1  \n",
       "1  https://m.media-amazon.com/images/I/81bwkd6a3Q...                  2  \n",
       "2  https://m.media-amazon.com/images/I/91wPsEXtuE...                  5  \n",
       "3  https://m.media-amazon.com/images/I/41fr0qCrCq...                 12  \n",
       "4  https://m.media-amazon.com/images/I/61VgSSP6Ta...                 14  "
      ]
     },
     "execution_count": 7,
     "metadata": {},
     "output_type": "execute_result"
    }
   ],
   "source": [
    "df = amazon_product[\"train\"].to_pandas()\n",
    "df.head()"
   ]
  },
  {
   "cell_type": "code",
   "execution_count": 8,
   "metadata": {},
   "outputs": [
    {
     "data": {
      "text/plain": [
       "<Axes: ylabel='main_category'>"
      ]
     },
     "execution_count": 8,
     "metadata": {},
     "output_type": "execute_result"
    },
    {
     "data": {
      "image/png": "[encoded data removed]",
      "text/plain": [
       "<Figure size 1000x600 with 1 Axes>"
      ]
     },
     "metadata": {},
     "output_type": "display_data"
    }
   ],
   "source": [
    "df['main_category'].value_counts().plot(kind='barh', figsize=(10, 6))"
   ]
  },
  {
   "cell_type": "code",
   "execution_count": 9,
   "metadata": {},
   "outputs": [
    {
     "data": {
      "text/plain": [
       "(65, 16)"
      ]
     },
     "execution_count": 9,
     "metadata": {},
     "output_type": "execute_result"
    }
   ],
   "source": [
    "beauty_products = df[df['main_category'] == 'All Beauty']\n",
    "beauty_products.shape"
   ]
  },
  {
   "cell_type": "code",
   "execution_count": 11,
   "metadata": {},
   "outputs": [],
   "source": [
    "import os\n",
    "from dotenv import load_dotenv\n",
    "\n",
    "if os.path.exists(\"private-config.env\"):\n",
    "    load_dotenv(\"private-config.env\")\n",
    "else:\n",
    "    load_dotenv(\"config.env\")"
   ]
  },
  {
   "cell_type": "code",
   "execution_count": null,
   "metadata": {},
   "outputs": [],
   "source": [
    "from llama_index.core import Document\n",
    "from llama_index.llms.openai import OpenAI\n",
    "from llama_index.core.evaluation import DatasetGenerator"
   ]
  },
  {
   "cell_type": "code",
   "execution_count": null,
   "metadata": {},
   "outputs": [],
   "source": [
    "cols = beauty_products.columns\n",
    "\n",
    "docs = []\n",
    "for i, row in beauty_products.iterrows():\n",
    "    doctext = [f\"{col}: {row[col]}\" for col in cols]\n",
    "    doctext = \"\\n\".join(doctext)\n",
    "    doc = Document(\n",
    "        text=doctext,\n",
    "        metadata={\n",
    "            \"description\": row[\"description\"],\n",
    "            \"title\": row[\"title\"],\n",
    "        },\n",
    "    )\n",
    "    docs.append(doc)"
   ]
  },
  {
   "cell_type": "code",
   "execution_count": 14,
   "metadata": {},
   "outputs": [],
   "source": [
    "llm = OpenAI(\n",
    "    temperature=0,\n",
    "    max_tokens=256,\n",
    "    model=\"gpt-4o-mini\",\n",
    "    openai_api_key=os.getenv(\"OPENAI_API_KEY\"),\n",
    ")"
   ]
  },
  {
   "cell_type": "code",
   "execution_count": 39,
   "metadata": {},
   "outputs": [
    {
     "name": "stderr",
     "output_type": "stream",
     "text": [
      "Parsing nodes: 100%|██████████| 65/65 [00:00<00:00, 1006.52it/s]\n",
      "/Users/tptrix29/anaconda3/envs/graphrag/lib/python3.12/site-packages/llama_index/core/evaluation/dataset_generation.py:200: DeprecationWarning: Call to deprecated class DatasetGenerator. (Deprecated in favor of `RagDatasetGenerator` which should be used instead.)\n",
      "  return cls(\n"
     ]
    }
   ],
   "source": [
    "dataset_generator = DatasetGenerator.from_documents(\n",
    "    docs,\n",
    "    num_questions_per_chunk=1,\n",
    "    show_progress=True,\n",
    ")"
   ]
  },
  {
   "cell_type": "code",
   "execution_count": 40,
   "metadata": {},
   "outputs": [
    {
     "name": "stderr",
     "output_type": "stream",
     "text": [
      "100%|██████████| 95/95 [00:04<00:00, 22.59it/s]\n",
      "100%|██████████| 1/1 [00:00<00:00,  1.27it/s]\n",
      "100%|██████████| 10/10 [00:01<00:00,  8.91it/s]\n",
      "100%|██████████| 10/10 [00:03<00:00,  2.81it/s]\n",
      "100%|██████████| 1/1 [00:01<00:00,  1.11s/it]\n",
      "100%|██████████| 1/1 [00:01<00:00,  1.25s/it]\n",
      "100%|██████████| 5/5 [00:04<00:00,  1.17it/s]\n",
      "100%|██████████| 5/5 [00:01<00:00,  4.23it/s]\n",
      "100%|██████████| 5/5 [00:01<00:00,  3.57it/s]\n",
      "100%|██████████| 5/5 [00:01<00:00,  4.89it/s]\n",
      "100%|██████████| 10/10 [00:01<00:00,  8.89it/s]\n",
      "100%|██████████| 5/5 [00:00<00:00,  6.19it/s]\n",
      "100%|██████████| 5/5 [00:01<00:00,  2.86it/s]\n",
      "100%|██████████| 1/1 [00:00<00:00,  1.12it/s]\n",
      "100%|██████████| 10/10 [00:00<00:00, 10.33it/s]\n",
      "100%|██████████| 1/1 [00:01<00:00,  1.93s/it]\n",
      "100%|██████████| 5/5 [00:01<00:00,  2.80it/s]\n",
      "100%|██████████| 10/10 [00:01<00:00,  5.11it/s]\n",
      "100%|██████████| 10/10 [00:03<00:00,  2.80it/s]\n",
      "100%|██████████| 10/10 [00:01<00:00,  7.64it/s]\n",
      "100%|██████████| 5/5 [00:03<00:00,  1.46it/s]\n",
      "100%|██████████| 5/5 [00:01<00:00,  2.78it/s]\n",
      "100%|██████████| 1/1 [00:01<00:00,  1.42s/it]\n",
      "100%|██████████| 5/5 [00:00<00:00,  6.47it/s]\n",
      "100%|██████████| 10/10 [00:02<00:00,  4.62it/s]\n",
      "100%|██████████| 5/5 [00:01<00:00,  3.67it/s]\n",
      "100%|██████████| 5/5 [00:01<00:00,  3.03it/s]\n",
      "100%|██████████| 10/10 [00:01<00:00,  6.63it/s]\n",
      "100%|██████████| 10/10 [00:01<00:00,  9.29it/s]\n",
      "100%|██████████| 10/10 [00:02<00:00,  4.51it/s]\n",
      "100%|██████████| 1/1 [00:01<00:00,  1.11s/it]\n",
      "100%|██████████| 10/10 [00:01<00:00,  5.87it/s]\n",
      "100%|██████████| 1/1 [00:00<00:00,  1.76it/s]\n",
      "100%|██████████| 10/10 [00:01<00:00,  6.16it/s]\n",
      "100%|██████████| 5/5 [00:01<00:00,  4.95it/s]\n",
      "100%|██████████| 1/1 [00:00<00:00,  1.83it/s]\n",
      "100%|██████████| 10/10 [00:02<00:00,  4.87it/s]\n",
      "100%|██████████| 1/1 [00:00<00:00,  1.30it/s]\n",
      "100%|██████████| 1/1 [00:00<00:00,  1.35it/s]\n",
      "100%|██████████| 1/1 [00:01<00:00,  1.21s/it]\n",
      "100%|██████████| 1/1 [00:01<00:00,  1.70s/it]\n",
      "100%|██████████| 10/10 [00:01<00:00,  7.34it/s]\n",
      "100%|██████████| 5/5 [00:02<00:00,  2.33it/s]\n",
      "100%|██████████| 1/1 [00:01<00:00,  1.02s/it]\n",
      "100%|██████████| 1/1 [00:00<00:00,  1.40it/s]\n",
      "100%|██████████| 1/1 [00:00<00:00,  2.45it/s]\n",
      "100%|██████████| 10/10 [00:01<00:00,  5.38it/s]\n",
      "100%|██████████| 5/5 [00:01<00:00,  2.52it/s]\n",
      "100%|██████████| 10/10 [00:01<00:00,  7.18it/s]\n",
      "100%|██████████| 5/5 [00:01<00:00,  3.57it/s]\n",
      "100%|██████████| 1/1 [00:00<00:00,  2.38it/s]\n",
      "100%|██████████| 10/10 [00:00<00:00, 10.35it/s]\n",
      "100%|██████████| 10/10 [00:00<00:00, 12.12it/s]\n",
      "100%|██████████| 5/5 [00:01<00:00,  4.51it/s]\n",
      "100%|██████████| 5/5 [00:01<00:00,  2.98it/s]\n",
      "100%|██████████| 10/10 [00:03<00:00,  2.79it/s]\n",
      "100%|██████████| 10/10 [00:02<00:00,  4.23it/s]\n",
      "100%|██████████| 5/5 [00:01<00:00,  2.51it/s]\n",
      "100%|██████████| 1/1 [00:01<00:00,  1.42s/it]\n",
      "100%|██████████| 5/5 [00:02<00:00,  2.18it/s]\n",
      "100%|██████████| 5/5 [00:00<00:00,  7.63it/s]\n",
      "100%|██████████| 10/10 [00:01<00:00,  7.41it/s]\n",
      "100%|██████████| 5/5 [00:01<00:00,  3.91it/s]\n",
      "100%|██████████| 5/5 [00:01<00:00,  4.12it/s]\n",
      "100%|██████████| 5/5 [00:01<00:00,  2.86it/s]\n",
      "100%|██████████| 10/10 [00:01<00:00,  5.76it/s]\n",
      "100%|██████████| 5/5 [00:00<00:00,  5.95it/s]\n",
      "100%|██████████| 10/10 [00:02<00:00,  3.40it/s]\n",
      "100%|██████████| 1/1 [00:01<00:00,  1.31s/it]\n",
      "100%|██████████| 5/5 [00:01<00:00,  4.14it/s]\n",
      "100%|██████████| 10/10 [00:02<00:00,  4.27it/s]\n",
      "100%|██████████| 10/10 [00:00<00:00, 13.15it/s]\n",
      "100%|██████████| 10/10 [00:02<00:00,  3.65it/s]\n",
      "100%|██████████| 10/10 [00:03<00:00,  2.79it/s]\n",
      "100%|██████████| 10/10 [00:00<00:00, 12.51it/s]\n",
      "100%|██████████| 10/10 [00:01<00:00,  6.05it/s]\n",
      "100%|██████████| 5/5 [00:00<00:00,  7.97it/s]\n",
      "100%|██████████| 5/5 [00:01<00:00,  4.24it/s]\n",
      "100%|██████████| 5/5 [00:01<00:00,  2.62it/s]\n",
      "100%|██████████| 5/5 [00:01<00:00,  3.05it/s]\n",
      "100%|██████████| 5/5 [00:00<00:00,  5.13it/s]\n",
      "100%|██████████| 5/5 [00:02<00:00,  2.33it/s]\n",
      "100%|██████████| 1/1 [00:00<00:00,  1.34it/s]\n",
      "100%|██████████| 10/10 [00:01<00:00,  8.46it/s]\n",
      "100%|██████████| 5/5 [00:04<00:00,  1.11it/s]\n",
      "100%|██████████| 1/1 [00:01<00:00,  1.49s/it]\n",
      "100%|██████████| 1/1 [00:01<00:00,  1.24s/it]\n",
      "100%|██████████| 1/1 [00:01<00:00,  1.05s/it]\n",
      "100%|██████████| 1/1 [00:00<00:00,  1.40it/s]\n",
      "100%|██████████| 5/5 [00:00<00:00,  5.90it/s]\n",
      "100%|██████████| 1/1 [00:01<00:00,  1.53s/it]\n",
      "100%|██████████| 1/1 [00:00<00:00,  1.36it/s]\n",
      "100%|██████████| 1/1 [00:00<00:00,  1.12it/s]\n",
      "100%|██████████| 10/10 [00:02<00:00,  3.53it/s]\n",
      "100%|██████████| 10/10 [00:01<00:00,  7.98it/s]\n",
      "100%|██████████| 5/5 [00:00<00:00,  5.49it/s]\n",
      "/Users/tptrix29/anaconda3/envs/graphrag/lib/python3.12/site-packages/llama_index/core/evaluation/dataset_generation.py:296: DeprecationWarning: Call to deprecated class QueryResponseDataset. (Deprecated in favor of `LabelledRagDataset` which should be used instead.)\n",
      "  return QueryResponseDataset(queries=queries, responses=responses_dict)\n"
     ]
    }
   ],
   "source": [
    "qa_ds = await dataset_generator.agenerate_dataset_from_nodes()"
   ]
  },
  {
   "cell_type": "code",
   "execution_count": null,
   "metadata": {},
   "outputs": [
    {
     "data": {
      "text/plain": [
       "532"
      ]
     },
     "execution_count": 43,
     "metadata": {},
     "output_type": "execute_result"
    }
   ],
   "source": [
    "len(qa_ds)"
   ]
  },
  {
   "cell_type": "code",
   "execution_count": null,
   "metadata": {},
   "outputs": [],
   "source": [
    "qa_ds.save_json(os.environ[\"QR_DATA\"])"
   ]
  }
 ],
 "metadata": {
  "kernelspec": {
   "display_name": "graphrag",
   "language": "python",
   "name": "python3"
  },
  "language_info": {
   "codemirror_mode": {
    "name": "ipython",
    "version": 3
   },
   "file_extension": ".py",
   "mimetype": "text/x-python",
   "name": "python",
   "nbconvert_exporter": "python",
   "pygments_lexer": "ipython3",
   "version": "3.12.9"
  }
 },
 "nbformat": 4,
 "nbformat_minor": 2
}
