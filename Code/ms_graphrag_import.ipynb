{
 "cells": [
  {
   "cell_type": "markdown",
   "id": "f0e5eec3-5e80-46f0-9eb3-94216915c65b",
   "metadata": {},
   "source": [
    "## Neo4j Import of GraphRAG Result Parquet files\n",
    "This notebook imports the results of the GraphRAG indexing process into the Neo4j Graph database for further processing, analysis or visualization.\n",
    "\n",
    "### How does it work?\n",
    "The notebook loads the parquet files from the output folder of your indexing process and loads them into Pandas dataframes. It then uses a batching approach to send a slice of the data into Neo4j to create nodes and relationships and add relevant properties. The id-arrays on most entities are turned into relationships.\n",
    "\n",
    "All operations use `MERGE`, so they are idempotent, and you can run the script multiple times.\n",
    "\n",
    "If you need to clean out the database, you can run the following statement\n",
    "```\n",
    "MATCH (n)\n",
    "CALL { WITH n DETACH DELETE n } IN TRANSACTIONS OF 25000 ROWS;\n",
    "```"
   ]
  },
  {
   "cell_type": "code",
   "execution_count": 4,
   "id": "4581aea5-dacb-4bd3-b96c-f45d84ba05e3",
   "metadata": {},
   "outputs": [],
   "source": [
    "GRAPHRAG_FOLDER=\"beautyrag_new_prompts/output\""
   ]
  },
  {
   "cell_type": "code",
   "execution_count": 5,
   "id": "3eeee95f-e4f2-4052-94fb-a5dc8ab542ae",
   "metadata": {},
   "outputs": [
    {
     "data": {
      "text/plain": [
       "True"
      ]
     },
     "execution_count": 5,
     "metadata": {},
     "output_type": "execute_result"
    }
   ],
   "source": [
    "import pandas as pd\n",
    "from neo4j import GraphDatabase\n",
    "import time\n",
    "import os\n",
    "from dotenv import load_dotenv\n",
    "\n",
    "load_dotenv(dotenv_path=\".env\", override=True)"
   ]
  },
  {
   "cell_type": "code",
   "execution_count": 7,
   "id": "b6c15443-4acb-4f91-88ea-4e08abaa4c29",
   "metadata": {},
   "outputs": [],
   "source": [
    "# NEO4J_URI=\"bolt://localhost\"\n",
    "# NEO4J_USERNAME=\"neo4j\"\n",
    "# NEO4J_PASSWORD=\"password\"\n",
    "# NEO4J_DATABASE=\"neo4j\"\n",
    "\n",
    "NEO4J_URI=os.getenv(\"NEO4J_CONNECTION_URL\")\n",
    "NEO4J_USERNAME = os.getenv(\"NEO4J_USER\")\n",
    "NEO4J_PASSWORD = os.getenv(\"NEO4J_PASSWORD\")\n",
    "NEO4J_DATABASE=\"neo4j\"\n",
    "\n",
    "# print(NEO4J_URI)\n",
    "# print(NEO4J_PASSWORD)\n",
    "\n",
    "driver = GraphDatabase.driver(NEO4J_URI, auth=(NEO4J_USERNAME, NEO4J_PASSWORD))"
   ]
  },
  {
   "cell_type": "code",
   "execution_count": 9,
   "id": "d787bf7b-ac9b-4bfb-b140-a50a3fd205c5",
   "metadata": {},
   "outputs": [],
   "source": [
    "def batched_import(statement, df, batch_size=1000):\n",
    "    \"\"\"\n",
    "    Import a dataframe into Neo4j using a batched approach.\n",
    "    Parameters: statement is the Cypher query to execute, df is the dataframe to import, and batch_size is the number of rows to import in each batch.\n",
    "    \"\"\"\n",
    "    total = len(df)\n",
    "    start_s = time.time()\n",
    "    for start in range(0,total, batch_size):\n",
    "        batch = df.iloc[start: min(start+batch_size,total)]\n",
    "        result = driver.execute_query(\"UNWIND $rows AS value \" + statement, \n",
    "                                      rows=batch.to_dict('records'),\n",
    "                                      database_=NEO4J_DATABASE)\n",
    "        print(result.summary.counters)\n",
    "    print(f'{total} rows in { time.time() - start_s} s.')    \n",
    "    return total"
   ]
  },
  {
   "cell_type": "markdown",
   "id": "eceb8ef0-90fe-4aab-812b-def8f62fd0ad",
   "metadata": {},
   "source": [
    "### Indexes and Constraints\n",
    "Indexes in Neo4j are only used to find the starting points for graph queries, e.g. quickly finding two nodes to connect. Constraints exist to avoid duplicates, we create them mostly on id's of Entity types.\n",
    "\n",
    "We use some Types as markers with two underscores before and after to distinguish them from the actual entity types.\n",
    "\n",
    "The default relationship type here is `RELATED` but we could also infer a real relationship-type from the description or the types of the start and end-nodes.\n",
    "\n",
    "* `__Entity__`\n",
    "* `__Document__`\n",
    "* `__Chunk__`\n",
    "* `__Community__`\n",
    "* `__Covariate__`"
   ]
  },
  {
   "cell_type": "code",
   "execution_count": 10,
   "id": "ed7f212e-9148-424c-adc6-d81db9f8e5a5",
   "metadata": {},
   "outputs": [
    {
     "name": "stdout",
     "output_type": "stream",
     "text": [
      "\n",
      "create constraint chunk_id if not exists for (c:__Chunk__) require c.id is unique\n",
      "\n",
      "create constraint document_id if not exists for (d:__Document__) require d.id is unique\n",
      "\n",
      "create constraint entity_id if not exists for (c:__Community__) require c.community is unique\n",
      "\n",
      "create constraint entity_id if not exists for (e:__Entity__) require e.id is unique\n",
      "\n",
      "create constraint entity_title if not exists for (e:__Entity__) require e.name is unique\n",
      "\n",
      "create constraint entity_title if not exists for (e:__Covariate__) require e.title is unique\n",
      "\n",
      "create constraint related_id if not exists for ()-[rel:RELATED]->() require rel.id is unique\n"
     ]
    }
   ],
   "source": [
    "# create constraints, idempotent operation\n",
    "\n",
    "statements = \"\"\"\n",
    "create constraint chunk_id if not exists for (c:__Chunk__) require c.id is unique;\n",
    "create constraint document_id if not exists for (d:__Document__) require d.id is unique;\n",
    "create constraint entity_id if not exists for (c:__Community__) require c.community is unique;\n",
    "create constraint entity_id if not exists for (e:__Entity__) require e.id is unique;\n",
    "create constraint entity_title if not exists for (e:__Entity__) require e.name is unique;\n",
    "create constraint entity_title if not exists for (e:__Covariate__) require e.title is unique;\n",
    "create constraint related_id if not exists for ()-[rel:RELATED]->() require rel.id is unique;\n",
    "\"\"\".split(\";\")\n",
    "\n",
    "for statement in statements:\n",
    "    if len((statement or \"\").strip()) > 0:\n",
    "        print(statement)\n",
    "        driver.execute_query(statement)"
   ]
  },
  {
   "cell_type": "markdown",
   "id": "e9b611db-03d4-4afc-ba9c-a801c3d26d91",
   "metadata": {},
   "source": [
    "## Import Process\n",
    "### Importing the Documents\n",
    "We're loading the parquet file for the documents and create nodes with their ids and add the title property. We don't need to store text_unit_ids as we can create the relationships and the text content is also contained in the chunks."
   ]
  },
  {
   "cell_type": "code",
   "execution_count": 11,
   "id": "5ec93c92-499d-4ec6-bf3b-c34f74552600",
   "metadata": {},
   "outputs": [
    {
     "name": "stdout",
     "output_type": "stream",
     "text": [
      "                                                  id  human_readable_id  \\\n",
      "0  f3c61ded8ac66a3a94b8213793b17ff4b7f29077d1fab8...                  1   \n",
      "\n",
      "              title                                               text  \\\n",
      "0  unstructured.txt  Product Type: Moisturizer\\nBrand: SK-II\\nProdu...   \n",
      "\n",
      "                                       text_unit_ids  \\\n",
      "0  [be848e919a7d5dc0fed178abbb82e3031fb31a56bd3db...   \n",
      "\n",
      "               creation_date metadata  \n",
      "0  2025-04-21 15:11:09 -0400     None  \n",
      "(1, 7)\n"
     ]
    }
   ],
   "source": [
    "# doc_df = pd.read_parquet(f'{GRAPHRAG_FOLDER}/documents.parquet', columns=[\"id\", \"title\"])\n",
    "doc_df = pd.read_parquet(f'{GRAPHRAG_FOLDER}/documents.parquet', columns=[\"id\",\"human_readable_id\",\"title\",\"text\",\"text_unit_ids\",\"creation_date\",\"metadata\"])\n",
    "print(doc_df.head(2))\n",
    "print(doc_df.shape)"
   ]
  },
  {
   "cell_type": "code",
   "execution_count": 12,
   "id": "ffd3d380-8710-46f5-b90a-04ed8482192c",
   "metadata": {},
   "outputs": [
    {
     "name": "stdout",
     "output_type": "stream",
     "text": [
      "{'_contains_updates': True, 'labels_added': 1, 'nodes_created': 1, 'properties_set': 2}\n",
      "1 rows in 0.3164370059967041 s.\n"
     ]
    },
    {
     "data": {
      "text/plain": [
       "1"
      ]
     },
     "execution_count": 12,
     "metadata": {},
     "output_type": "execute_result"
    }
   ],
   "source": [
    "# import documents\n",
    "statement = \"\"\"\n",
    "MERGE (d:__Document__ {id:value.id})\n",
    "SET d += value {.title}\n",
    "\"\"\"\n",
    "\n",
    "batched_import(statement, doc_df)"
   ]
  },
  {
   "cell_type": "markdown",
   "id": "d9aa9028-4b62-4a14-86be-fad56b0c77f3",
   "metadata": {},
   "source": [
    "### Loading Text Units\n",
    "We load the text units, create a node per id and set the text and number of tokens. Then we connect them to the documents that we created before."
   ]
  },
  {
   "cell_type": "code",
   "execution_count": 13,
   "id": "140b420e-045e-4c71-9f25-1a20c5b528bd",
   "metadata": {},
   "outputs": [
    {
     "data": {
      "text/html": [
       "<div>\n",
       "<style scoped>\n",
       "    .dataframe tbody tr th:only-of-type {\n",
       "        vertical-align: middle;\n",
       "    }\n",
       "\n",
       "    .dataframe tbody tr th {\n",
       "        vertical-align: top;\n",
       "    }\n",
       "\n",
       "    .dataframe thead th {\n",
       "        text-align: right;\n",
       "    }\n",
       "</style>\n",
       "<table border=\"1\" class=\"dataframe\">\n",
       "  <thead>\n",
       "    <tr style=\"text-align: right;\">\n",
       "      <th></th>\n",
       "      <th>id</th>\n",
       "      <th>text</th>\n",
       "      <th>n_tokens</th>\n",
       "      <th>document_ids</th>\n",
       "    </tr>\n",
       "  </thead>\n",
       "  <tbody>\n",
       "    <tr>\n",
       "      <th>0</th>\n",
       "      <td>be848e919a7d5dc0fed178abbb82e3031fb31a56bd3dbd...</td>\n",
       "      <td>Product Type: Moisturizer\\nBrand: SK-II\\nProdu...</td>\n",
       "      <td>1200</td>\n",
       "      <td>[f3c61ded8ac66a3a94b8213793b17ff4b7f29077d1fab...</td>\n",
       "    </tr>\n",
       "    <tr>\n",
       "      <th>1</th>\n",
       "      <td>3f98d135f480411fb44a62c59676accf0ff8fb74d03350...</td>\n",
       "      <td>aniol, Ci 77891 (Titanium Dioxide).\\nFor Skin ...</td>\n",
       "      <td>1200</td>\n",
       "      <td>[f3c61ded8ac66a3a94b8213793b17ff4b7f29077d1fab...</td>\n",
       "    </tr>\n",
       "  </tbody>\n",
       "</table>\n",
       "</div>"
      ],
      "text/plain": [
       "                                                  id  \\\n",
       "0  be848e919a7d5dc0fed178abbb82e3031fb31a56bd3dbd...   \n",
       "1  3f98d135f480411fb44a62c59676accf0ff8fb74d03350...   \n",
       "\n",
       "                                                text  n_tokens  \\\n",
       "0  Product Type: Moisturizer\\nBrand: SK-II\\nProdu...      1200   \n",
       "1  aniol, Ci 77891 (Titanium Dioxide).\\nFor Skin ...      1200   \n",
       "\n",
       "                                        document_ids  \n",
       "0  [f3c61ded8ac66a3a94b8213793b17ff4b7f29077d1fab...  \n",
       "1  [f3c61ded8ac66a3a94b8213793b17ff4b7f29077d1fab...  "
      ]
     },
     "execution_count": 13,
     "metadata": {},
     "output_type": "execute_result"
    }
   ],
   "source": [
    "text_df = pd.read_parquet(f'{GRAPHRAG_FOLDER}/text_units.parquet',\n",
    "                        columns=[\"id\",\"text\",\"n_tokens\",\"document_ids\"])\n",
    "text_df.head(2)\n",
    "# ,id,human_readable_id,text,n_tokens,document_ids,entity_ids,relationship_ids,covariate_ids"
   ]
  },
  {
   "cell_type": "code",
   "execution_count": 14,
   "id": "1d038114-0714-48ee-a48a-c421cd539661",
   "metadata": {},
   "outputs": [
    {
     "name": "stdout",
     "output_type": "stream",
     "text": [
      "{'_contains_updates': True, 'labels_added': 8, 'relationships_created': 8, 'nodes_created': 8, 'properties_set': 24}\n",
      "8 rows in 0.3524789810180664 s.\n"
     ]
    },
    {
     "data": {
      "text/plain": [
       "8"
      ]
     },
     "execution_count": 14,
     "metadata": {},
     "output_type": "execute_result"
    }
   ],
   "source": [
    "statement = \"\"\"\n",
    "MERGE (c:__Chunk__ {id:value.id})\n",
    "SET c += value {.text, .n_tokens}\n",
    "WITH c, value\n",
    "UNWIND value.document_ids AS document\n",
    "MATCH (d:__Document__ {id:document})\n",
    "MERGE (c)-[:PART_OF]->(d)\n",
    "\"\"\"\n",
    "\n",
    "batched_import(statement, text_df)"
   ]
  },
  {
   "cell_type": "markdown",
   "id": "9c614c5f-6925-4237-a1bf-6ebd35dcea38",
   "metadata": {},
   "source": [
    "### Loading Nodes\n",
    "For the nodes we store id, name, description, embedding (if available), human readable id."
   ]
  },
  {
   "cell_type": "code",
   "execution_count": 15,
   "id": "5e713603-c508-4964-ba49-474e4867b747",
   "metadata": {},
   "outputs": [
    {
     "data": {
      "text/html": [
       "<div>\n",
       "<style scoped>\n",
       "    .dataframe tbody tr th:only-of-type {\n",
       "        vertical-align: middle;\n",
       "    }\n",
       "\n",
       "    .dataframe tbody tr th {\n",
       "        vertical-align: top;\n",
       "    }\n",
       "\n",
       "    .dataframe thead th {\n",
       "        text-align: right;\n",
       "    }\n",
       "</style>\n",
       "<table border=\"1\" class=\"dataframe\">\n",
       "  <thead>\n",
       "    <tr style=\"text-align: right;\">\n",
       "      <th></th>\n",
       "      <th>title</th>\n",
       "      <th>type</th>\n",
       "      <th>description</th>\n",
       "      <th>human_readable_id</th>\n",
       "      <th>id</th>\n",
       "      <th>text_unit_ids</th>\n",
       "      <th>description_embedding</th>\n",
       "    </tr>\n",
       "  </thead>\n",
       "  <tbody>\n",
       "    <tr>\n",
       "      <th>0</th>\n",
       "      <td>MOISTURIZER</td>\n",
       "      <td>PRODUCT TYPE</td>\n",
       "      <td>MOISTURIZER refers to a category of skincare p...</td>\n",
       "      <td>0</td>\n",
       "      <td>8824eb45-1eeb-4e73-81c1-62b3b19d5543</td>\n",
       "      <td>[be848e919a7d5dc0fed178abbb82e3031fb31a56bd3db...</td>\n",
       "      <td>[0.013597052544355392, 0.0408736877143383, -0....</td>\n",
       "    </tr>\n",
       "    <tr>\n",
       "      <th>1</th>\n",
       "      <td>SK-II</td>\n",
       "      <td>BRAND</td>\n",
       "      <td>SK-II is a luxury skincare brand renowned for ...</td>\n",
       "      <td>1</td>\n",
       "      <td>cfaa854b-aa57-413e-83de-7b8dcba0c9b9</td>\n",
       "      <td>[be848e919a7d5dc0fed178abbb82e3031fb31a56bd3db...</td>\n",
       "      <td>[0.012267841026186943, -0.0031117114704102278,...</td>\n",
       "    </tr>\n",
       "  </tbody>\n",
       "</table>\n",
       "</div>"
      ],
      "text/plain": [
       "         title          type  \\\n",
       "0  MOISTURIZER  PRODUCT TYPE   \n",
       "1        SK-II         BRAND   \n",
       "\n",
       "                                         description  human_readable_id  \\\n",
       "0  MOISTURIZER refers to a category of skincare p...                  0   \n",
       "1  SK-II is a luxury skincare brand renowned for ...                  1   \n",
       "\n",
       "                                     id  \\\n",
       "0  8824eb45-1eeb-4e73-81c1-62b3b19d5543   \n",
       "1  cfaa854b-aa57-413e-83de-7b8dcba0c9b9   \n",
       "\n",
       "                                       text_unit_ids  \\\n",
       "0  [be848e919a7d5dc0fed178abbb82e3031fb31a56bd3db...   \n",
       "1  [be848e919a7d5dc0fed178abbb82e3031fb31a56bd3db...   \n",
       "\n",
       "                               description_embedding  \n",
       "0  [0.013597052544355392, 0.0408736877143383, -0....  \n",
       "1  [0.012267841026186943, -0.0031117114704102278,...  "
      ]
     },
     "execution_count": 15,
     "metadata": {},
     "output_type": "execute_result"
    }
   ],
   "source": [
    "entity_df = pd.read_parquet(f'{GRAPHRAG_FOLDER}/entities.parquet',\n",
    "                            columns=[\"title\",\"type\",\"description\",\"human_readable_id\",\"id\",\"text_unit_ids\"])\n",
    "#                             columns=[\"name\",\"type\",\"description\",\"human_readable_id\",\"id\",\"description_embedding\",\"text_unit_ids\"])\n",
    "embeddings_entity_df = pd.read_parquet(f'{GRAPHRAG_FOLDER}/embeddings.entity.description.parquet',\n",
    "                            columns=[\"embedding\"])\n",
    "embeddings_entity_df.rename(columns={\"embedding\": \"description_embedding\"}, inplace=True)\n",
    "entity_df = pd.concat([entity_df, embeddings_entity_df], axis=1)\n",
    "entity_df.head(2)\n",
    "# ,id,human_readable_id,title,type,description,text_unit_ids,\n",
    "# ,id,embedding"
   ]
  },
  {
   "cell_type": "code",
   "execution_count": 16,
   "id": "27900c01-89e1-4dec-9d5c-c07317c68baf",
   "metadata": {},
   "outputs": [
    {
     "name": "stdout",
     "output_type": "stream",
     "text": [
      "{'_contains_updates': True, 'labels_added': 389, 'relationships_created': 601, 'nodes_created': 389, 'properties_set': 1556}\n",
      "389 rows in 4.710721015930176 s.\n"
     ]
    },
    {
     "data": {
      "text/plain": [
       "389"
      ]
     },
     "execution_count": 16,
     "metadata": {},
     "output_type": "execute_result"
    }
   ],
   "source": [
    "entity_statement = \"\"\"\n",
    "MERGE (e:__Entity__ {id:value.id})\n",
    "SET e += value {.human_readable_id, .description, name:replace(value.name,'\"','')}\n",
    "WITH e, value\n",
    "CALL db.create.setNodeVectorProperty(e, \"description_embedding\", value.description_embedding)\n",
    "CALL apoc.create.addLabels(e, case when coalesce(value.type,\"\") = \"\" then [] else [apoc.text.upperCamelCase(replace(value.type,'\"',''))] end) yield node\n",
    "UNWIND value.text_unit_ids AS text_unit\n",
    "MATCH (c:__Chunk__ {id:text_unit})\n",
    "MERGE (c)-[:HAS_ENTITY]->(e)\n",
    "\"\"\"\n",
    "\n",
    "batched_import(entity_statement, entity_df)"
   ]
  },
  {
   "cell_type": "markdown",
   "id": "619e1dd1-06ab-4741-9f5c-f1c7fb8f8bac",
   "metadata": {},
   "source": [
    "### Import Relationships\n",
    "For the relationships we find the source and target node by name, using the base `__Entity__` type. After creating the RELATED relationships, we set the description as attribute."
   ]
  },
  {
   "cell_type": "code",
   "execution_count": 17,
   "id": "1be9e7a9-69ee-406b-bce5-95a9c41ecffe",
   "metadata": {},
   "outputs": [
    {
     "data": {
      "text/html": [
       "<div>\n",
       "<style scoped>\n",
       "    .dataframe tbody tr th:only-of-type {\n",
       "        vertical-align: middle;\n",
       "    }\n",
       "\n",
       "    .dataframe tbody tr th {\n",
       "        vertical-align: top;\n",
       "    }\n",
       "\n",
       "    .dataframe thead th {\n",
       "        text-align: right;\n",
       "    }\n",
       "</style>\n",
       "<table border=\"1\" class=\"dataframe\">\n",
       "  <thead>\n",
       "    <tr style=\"text-align: right;\">\n",
       "      <th></th>\n",
       "      <th>source</th>\n",
       "      <th>target</th>\n",
       "      <th>id</th>\n",
       "      <th>weight</th>\n",
       "      <th>human_readable_id</th>\n",
       "      <th>description</th>\n",
       "      <th>text_unit_ids</th>\n",
       "    </tr>\n",
       "  </thead>\n",
       "  <tbody>\n",
       "    <tr>\n",
       "      <th>0</th>\n",
       "      <td>SK-II</td>\n",
       "      <td>FACIAL TREATMENT ESSENCE</td>\n",
       "      <td>0cca2682-de40-465c-a040-d771f7437091</td>\n",
       "      <td>9.0</td>\n",
       "      <td>0</td>\n",
       "      <td>SK-II is the brand that produces the Facial Tr...</td>\n",
       "      <td>[be848e919a7d5dc0fed178abbb82e3031fb31a56bd3db...</td>\n",
       "    </tr>\n",
       "    <tr>\n",
       "      <th>1</th>\n",
       "      <td>SK-II</td>\n",
       "      <td>GENOPTICS AURA ESSENCE SERUM</td>\n",
       "      <td>5149b6a3-13dc-4b4e-bf49-3bc782554601</td>\n",
       "      <td>9.0</td>\n",
       "      <td>1</td>\n",
       "      <td>SK-II is the brand that produces the GenOptics...</td>\n",
       "      <td>[be848e919a7d5dc0fed178abbb82e3031fb31a56bd3db...</td>\n",
       "    </tr>\n",
       "  </tbody>\n",
       "</table>\n",
       "</div>"
      ],
      "text/plain": [
       "  source                        target                                    id  \\\n",
       "0  SK-II      FACIAL TREATMENT ESSENCE  0cca2682-de40-465c-a040-d771f7437091   \n",
       "1  SK-II  GENOPTICS AURA ESSENCE SERUM  5149b6a3-13dc-4b4e-bf49-3bc782554601   \n",
       "\n",
       "   weight  human_readable_id  \\\n",
       "0     9.0                  0   \n",
       "1     9.0                  1   \n",
       "\n",
       "                                         description  \\\n",
       "0  SK-II is the brand that produces the Facial Tr...   \n",
       "1  SK-II is the brand that produces the GenOptics...   \n",
       "\n",
       "                                       text_unit_ids  \n",
       "0  [be848e919a7d5dc0fed178abbb82e3031fb31a56bd3db...  \n",
       "1  [be848e919a7d5dc0fed178abbb82e3031fb31a56bd3db...  "
      ]
     },
     "execution_count": 17,
     "metadata": {},
     "output_type": "execute_result"
    }
   ],
   "source": [
    "# rel_df = pd.read_parquet(f'{GRAPHRAG_FOLDER}/relationships.parquet',\n",
    "#                         columns=[\"source\",\"target\",\"id\",\"rank\",\"weight\",\"human_readable_id\",\"description\",\"text_unit_ids\"])\n",
    "rel_df = pd.read_parquet(f'{GRAPHRAG_FOLDER}/relationships.parquet',\n",
    "                        columns=[\"source\",\"target\",\"id\",\"weight\",\"human_readable_id\",\"description\",\"text_unit_ids\"])\n",
    "\n",
    "rel_df.head(2)\n",
    "# ,id,human_readable_id,source,target,description,weight,combined_degree,text_unit_ids\n",
    "# RANK OMMITTED NOW"
   ]
  },
  {
   "cell_type": "code",
   "execution_count": 18,
   "id": "5c6ed591-f98c-4403-9fde-8d4cb4c01cca",
   "metadata": {},
   "outputs": [
    {
     "name": "stdout",
     "output_type": "stream",
     "text": [
      "{}\n",
      "202 rows in 0.43020129203796387 s.\n"
     ]
    },
    {
     "data": {
      "text/plain": [
       "202"
      ]
     },
     "execution_count": 18,
     "metadata": {},
     "output_type": "execute_result"
    }
   ],
   "source": [
    "# ORIGINAL: \n",
    "# rel_statement = \"\"\"\n",
    "#     MATCH (source:__Entity__ {name:replace(value.source,'\"','')})\n",
    "#     MATCH (target:__Entity__ {name:replace(value.target,'\"','')})\n",
    "#     // not necessary to merge on id as there is only one relationship per pair\n",
    "#     MERGE (source)-[rel:RELATED {id: value.id}]->(target)\n",
    "#     SET rel += value {.rank, .weight, .human_readable_id, .description, .text_unit_ids}\n",
    "#     RETURN count(*) as createdRels\n",
    "# \"\"\"\n",
    "rel_statement = \"\"\"\n",
    "    MATCH (source:__Entity__ {name:replace(value.source,'\"','')})\n",
    "    MATCH (target:__Entity__ {name:replace(value.target,'\"','')})\n",
    "    // not necessary to merge on id as there is only one relationship per pair\n",
    "    MERGE (source)-[rel:RELATED {id: value.id}]->(target)\n",
    "    SET rel += value {.weight, .human_readable_id, .description, .text_unit_ids}\n",
    "    RETURN count(*) as createdRels\n",
    "\"\"\"\n",
    "\n",
    "batched_import(rel_statement, rel_df)"
   ]
  },
  {
   "cell_type": "markdown",
   "id": "67d02faf-b305-44c0-9cba-7328d61b833d",
   "metadata": {},
   "source": [
    "### Importing Communities\n",
    "For communities we import their id, title, level. We connect the `__Community__` nodes to the start and end nodes of the relationships they refer to.\n",
    "\n",
    "Connecting them to the chunks they orignate from is optional, as the entites are already connected to the chunks."
   ]
  },
  {
   "cell_type": "code",
   "execution_count": 19,
   "id": "523bed92-d12c-4fc4-aa44-6c62321b36bc",
   "metadata": {},
   "outputs": [
    {
     "data": {
      "text/html": [
       "<div>\n",
       "<style scoped>\n",
       "    .dataframe tbody tr th:only-of-type {\n",
       "        vertical-align: middle;\n",
       "    }\n",
       "\n",
       "    .dataframe tbody tr th {\n",
       "        vertical-align: top;\n",
       "    }\n",
       "\n",
       "    .dataframe thead th {\n",
       "        text-align: right;\n",
       "    }\n",
       "</style>\n",
       "<table border=\"1\" class=\"dataframe\">\n",
       "  <thead>\n",
       "    <tr style=\"text-align: right;\">\n",
       "      <th></th>\n",
       "      <th>id</th>\n",
       "      <th>level</th>\n",
       "      <th>title</th>\n",
       "      <th>text_unit_ids</th>\n",
       "      <th>relationship_ids</th>\n",
       "    </tr>\n",
       "  </thead>\n",
       "  <tbody>\n",
       "    <tr>\n",
       "      <th>0</th>\n",
       "      <td>2ae0808b-bfc6-4a18-8ba8-2777768e003c</td>\n",
       "      <td>0</td>\n",
       "      <td>Community 0</td>\n",
       "      <td>[be848e919a7d5dc0fed178abbb82e3031fb31a56bd3db...</td>\n",
       "      <td>[1da77834-d501-4e45-8cf9-eacf48d99fb8, 2232a5e...</td>\n",
       "    </tr>\n",
       "    <tr>\n",
       "      <th>1</th>\n",
       "      <td>d9bb24ce-6cf0-4b3f-a30c-1a2b13c5a3c9</td>\n",
       "      <td>0</td>\n",
       "      <td>Community 1</td>\n",
       "      <td>[2a76834194f157ccb568740fa2a34f4641397ee4361da...</td>\n",
       "      <td>[07d67319-8a76-4fd5-980f-083c2b8c10b9, 08babd0...</td>\n",
       "    </tr>\n",
       "  </tbody>\n",
       "</table>\n",
       "</div>"
      ],
      "text/plain": [
       "                                     id  level        title  \\\n",
       "0  2ae0808b-bfc6-4a18-8ba8-2777768e003c      0  Community 0   \n",
       "1  d9bb24ce-6cf0-4b3f-a30c-1a2b13c5a3c9      0  Community 1   \n",
       "\n",
       "                                       text_unit_ids  \\\n",
       "0  [be848e919a7d5dc0fed178abbb82e3031fb31a56bd3db...   \n",
       "1  [2a76834194f157ccb568740fa2a34f4641397ee4361da...   \n",
       "\n",
       "                                    relationship_ids  \n",
       "0  [1da77834-d501-4e45-8cf9-eacf48d99fb8, 2232a5e...  \n",
       "1  [07d67319-8a76-4fd5-980f-083c2b8c10b9, 08babd0...  "
      ]
     },
     "execution_count": 19,
     "metadata": {},
     "output_type": "execute_result"
    }
   ],
   "source": [
    "community_df = pd.read_parquet(f'{GRAPHRAG_FOLDER}/communities.parquet', \n",
    "                    columns=[\"id\",\"level\",\"title\",\"text_unit_ids\",\"relationship_ids\"])\n",
    "\n",
    "community_df.head(2)\n",
    "# ,id,human_readable_id,community,level,parent,children,title,entity_ids,relationship_ids,text_unit_ids,period,size"
   ]
  },
  {
   "cell_type": "code",
   "execution_count": 20,
   "id": "3e064234-5fce-448e-8bb4-ab2f35699049",
   "metadata": {},
   "outputs": [
    {
     "name": "stdout",
     "output_type": "stream",
     "text": [
      "{'_contains_updates': True, 'labels_added': 20, 'nodes_created': 20, 'properties_set': 60}\n",
      "20 rows in 0.4274129867553711 s.\n"
     ]
    },
    {
     "data": {
      "text/plain": [
       "20"
      ]
     },
     "execution_count": 20,
     "metadata": {},
     "output_type": "execute_result"
    }
   ],
   "source": [
    "statement = \"\"\"\n",
    "MERGE (c:__Community__ {community:value.id})\n",
    "SET c += value {.level, .title}\n",
    "/*\n",
    "UNWIND value.text_unit_ids as text_unit_id\n",
    "MATCH (t:__Chunk__ {id:text_unit_id})\n",
    "MERGE (c)-[:HAS_CHUNK]->(t)\n",
    "WITH distinct c, value\n",
    "*/\n",
    "WITH *\n",
    "UNWIND value.relationship_ids as rel_id\n",
    "MATCH (start:__Entity__)-[:RELATED {id:rel_id}]->(end:__Entity__)\n",
    "MERGE (start)-[:IN_COMMUNITY]->(c)\n",
    "MERGE (end)-[:IN_COMMUNITY]->(c)\n",
    "RETURN count(distinct c) as createdCommunities\n",
    "\"\"\"\n",
    "\n",
    "batched_import(statement, community_df)"
   ]
  },
  {
   "cell_type": "markdown",
   "id": "e27325cd-6ba8-43b4-8781-f9a81af5e242",
   "metadata": {},
   "source": [
    "### Importing Community Reports\n",
    "Fo the community reports we create nodes for each communitiy set the id, community, level, title, summary, rank, and rank_explanation and connect them to the entities they are about. For the findings we create the findings in context of the communities."
   ]
  },
  {
   "cell_type": "code",
   "execution_count": 21,
   "id": "fc9f6606-0cce-4f28-9d88-eaf894d8110b",
   "metadata": {},
   "outputs": [
    {
     "data": {
      "text/html": [
       "<div>\n",
       "<style scoped>\n",
       "    .dataframe tbody tr th:only-of-type {\n",
       "        vertical-align: middle;\n",
       "    }\n",
       "\n",
       "    .dataframe tbody tr th {\n",
       "        vertical-align: top;\n",
       "    }\n",
       "\n",
       "    .dataframe thead th {\n",
       "        text-align: right;\n",
       "    }\n",
       "</style>\n",
       "<table border=\"1\" class=\"dataframe\">\n",
       "  <thead>\n",
       "    <tr style=\"text-align: right;\">\n",
       "      <th></th>\n",
       "      <th>id</th>\n",
       "      <th>community</th>\n",
       "      <th>level</th>\n",
       "      <th>title</th>\n",
       "      <th>summary</th>\n",
       "      <th>findings</th>\n",
       "      <th>rank</th>\n",
       "      <th>full_content</th>\n",
       "    </tr>\n",
       "  </thead>\n",
       "  <tbody>\n",
       "    <tr>\n",
       "      <th>0</th>\n",
       "      <td>0815256a3e6849eb97643b167b59313d</td>\n",
       "      <td>6</td>\n",
       "      <td>1</td>\n",
       "      <td>1.0 OZ Skincare Community</td>\n",
       "      <td>The community centers around high-end skincare...</td>\n",
       "      <td>[{'explanation': 'The entity '1.0 OZ (30ML)' r...</td>\n",
       "      <td>4.0</td>\n",
       "      <td># 1.0 OZ Skincare Community\\n\\nThe community c...</td>\n",
       "    </tr>\n",
       "    <tr>\n",
       "      <th>1</th>\n",
       "      <td>80c7a5fb05944b53bb0fc91c7d6ccba3</td>\n",
       "      <td>7</td>\n",
       "      <td>1</td>\n",
       "      <td>The Moisturizing Soft Cream and Its Ingredients</td>\n",
       "      <td>The community centers around The Moisturizing ...</td>\n",
       "      <td>[{'explanation': 'The Moisturizing Soft Cream ...</td>\n",
       "      <td>7.5</td>\n",
       "      <td># The Moisturizing Soft Cream and Its Ingredie...</td>\n",
       "    </tr>\n",
       "  </tbody>\n",
       "</table>\n",
       "</div>"
      ],
      "text/plain": [
       "                                 id  community  level  \\\n",
       "0  0815256a3e6849eb97643b167b59313d          6      1   \n",
       "1  80c7a5fb05944b53bb0fc91c7d6ccba3          7      1   \n",
       "\n",
       "                                             title  \\\n",
       "0                        1.0 OZ Skincare Community   \n",
       "1  The Moisturizing Soft Cream and Its Ingredients   \n",
       "\n",
       "                                             summary  \\\n",
       "0  The community centers around high-end skincare...   \n",
       "1  The community centers around The Moisturizing ...   \n",
       "\n",
       "                                            findings  rank  \\\n",
       "0  [{'explanation': 'The entity '1.0 OZ (30ML)' r...   4.0   \n",
       "1  [{'explanation': 'The Moisturizing Soft Cream ...   7.5   \n",
       "\n",
       "                                        full_content  \n",
       "0  # 1.0 OZ Skincare Community\\n\\nThe community c...  \n",
       "1  # The Moisturizing Soft Cream and Its Ingredie...  "
      ]
     },
     "execution_count": 21,
     "metadata": {},
     "output_type": "execute_result"
    }
   ],
   "source": [
    "# community_report_df = pd.read_parquet(f'{GRAPHRAG_FOLDER}/community_reports.parquet',\n",
    "#                                 columns=[\"id\",\"community\",\"level\",\"title\",\"summary\", \"findings\",\"rank\",\"rank_explanation\",\"full_content\"])\n",
    "community_report_df = pd.read_parquet(f'{GRAPHRAG_FOLDER}/community_reports.parquet',\n",
    "                                columns=[\"id\",\"community\",\"level\",\"title\",\"summary\", \"findings\",\"rank\",\"full_content\"])\n",
    "community_report_df.head(2)\n",
    "# ,id,human_readable_id,community,level,parent,children,title,summary,full_content,rank,rating_explanation,findings,full_content_json,period,size\n",
    "# RANK_EXPLANATION OMMITTED"
   ]
  },
  {
   "cell_type": "code",
   "execution_count": 22,
   "id": "47bb6f5c-4c1c-4849-8f1a-cb76fa98b925",
   "metadata": {},
   "outputs": [
    {
     "name": "stdout",
     "output_type": "stream",
     "text": [
      "{'_contains_updates': True, 'labels_added': 119, 'relationships_created': 99, 'nodes_created': 119, 'properties_set': 417}\n",
      "20 rows in 0.36308789253234863 s.\n"
     ]
    },
    {
     "data": {
      "text/plain": [
       "20"
      ]
     },
     "execution_count": 22,
     "metadata": {},
     "output_type": "execute_result"
    }
   ],
   "source": [
    "# import communities\n",
    "community_statement = \"\"\"\n",
    "MERGE (c:__Community__ {community:value.community})\n",
    "SET c += value {.level, .title, .rank, .full_content, .summary}\n",
    "WITH c, value\n",
    "UNWIND range(0, size(value.findings)-1) AS finding_idx\n",
    "WITH c, value, finding_idx, value.findings[finding_idx] as finding\n",
    "MERGE (c)-[:HAS_FINDING]->(f:Finding {id:finding_idx})\n",
    "SET f += finding\n",
    "\"\"\"\n",
    "batched_import(community_statement, community_report_df)"
   ]
  },
  {
   "cell_type": "markdown",
   "id": "44990c84-a2a8-4f1a-b758-fe1c1a02766f",
   "metadata": {},
   "source": [
    "### Importing Covariates\n",
    "Covariates are for instance claims on entities, we connect them to the chunks where they originate from.\n",
    "\n",
    "**By default, covariates are not included in the output, so the file might not exists in your output if you didn't set the configuration to extract claims**"
   ]
  },
  {
   "cell_type": "code",
   "execution_count": 23,
   "id": "7131f3a0-2b71-4017-9dcd-24913d964dc0",
   "metadata": {},
   "outputs": [
    {
     "data": {
      "text/plain": [
       "\"\\n# cov_df = pd.read_parquet(f'{GRAPHRAG_FOLDER}/create_final_covariates.parquet')\\n# cov_df.head(2)\\n\""
      ]
     },
     "execution_count": 23,
     "metadata": {},
     "output_type": "execute_result"
    }
   ],
   "source": [
    "\"\"\"\n",
    "# cov_df = pd.read_parquet(f'{GRAPHRAG_FOLDER}/create_final_covariates.parquet')\n",
    "# cov_df.head(2)\n",
    "\"\"\""
   ]
  },
  {
   "cell_type": "code",
   "execution_count": 24,
   "id": "f0d2a7dc-8885-41f0-b971-39628d08b09a",
   "metadata": {},
   "outputs": [],
   "source": [
    "cov_statement = \"\"\"\n",
    "MERGE (c:__Covariate__ {id:value.id})\n",
    "SET c += apoc.map.clean(value, [\"text_unit_id\", \"document_ids\", \"n_tokens\"], [NULL, \"\"])\n",
    "WITH c, value\n",
    "MATCH (ch:__Chunk__ {id: value.text_unit_id})\n",
    "MERGE (ch)-[:HAS_COVARIATE]->(c)\n",
    "\"\"\"\n",
    "# batched_import(cov_statement, cov_df)"
   ]
  },
  {
   "cell_type": "code",
   "execution_count": null,
   "id": "53bee996-44dd-41c4-a594-5cdec45e80fa",
   "metadata": {},
   "outputs": [],
   "source": []
  },
  {
   "cell_type": "code",
   "execution_count": null,
   "id": "c6ab7aad",
   "metadata": {},
   "outputs": [],
   "source": []
  },
  {
   "cell_type": "code",
   "execution_count": null,
   "id": "aeccc6e3",
   "metadata": {},
   "outputs": [],
   "source": []
  },
  {
   "cell_type": "code",
   "execution_count": null,
   "id": "7b01d04d",
   "metadata": {},
   "outputs": [],
   "source": []
  }
 ],
 "metadata": {
  "kernelspec": {
   "display_name": "Capstone311",
   "language": "python",
   "name": "python3"
  },
  "language_info": {
   "codemirror_mode": {
    "name": "ipython",
    "version": 3
   },
   "file_extension": ".py",
   "mimetype": "text/x-python",
   "name": "python",
   "nbconvert_exporter": "python",
   "pygments_lexer": "ipython3",
   "version": "3.11.9"
  }
 },
 "nbformat": 4,
 "nbformat_minor": 5
}
