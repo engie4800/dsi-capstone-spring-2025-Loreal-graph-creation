{
 "cells": [
  {
   "cell_type": "code",
   "execution_count": 1,
   "id": "59d229a7",
   "metadata": {},
   "outputs": [],
   "source": [
    "import os\n",
    "import json\n",
    "import numpy as np\n",
    "import pandas as pd\n",
    "import seaborn as sns\n",
    "import matplotlib.pyplot as plt\n",
    "\n",
    "from tqdm import tqdm\n",
    "from typing import Union\n",
    "\n",
    "from langchain.schema import Document\n",
    "from langchain_core.vectorstores import VectorStoreRetriever\n",
    "from langchain.vectorstores import Chroma\n",
    "from langchain_openai import ChatOpenAI\n",
    "from langchain_neo4j import Neo4jVector\n",
    "from langchain_openai import OpenAIEmbeddings\n",
    "from langchain.text_splitter import RecursiveCharacterTextSplitter\n",
    "\n",
    "from ragas.dataset_schema import EvaluationResult\n",
    "from ragas import EvaluationDataset\n",
    "from ragas import evaluate\n",
    "from ragas.llms import LangchainLLMWrapper\n",
    "from ragas.metrics import (\n",
    "    SemanticSimilarity,\n",
    "    AnswerRelevancy, \n",
    "    Faithfulness, \n",
    "    FactualCorrectness, \n",
    "    AnswerCorrectness, \n",
    "    LLMContextRecall, \n",
    "    ContextRecall, \n",
    "    ContextPrecision, \n",
    ")\n",
    "\n",
    "metrics_list = [\n",
    "    Faithfulness(),\n",
    "    AnswerRelevancy(),\n",
    "    SemanticSimilarity(),\n",
    "    \n",
    "]\n",
    "\n",
    "np.random.seed(42)"
   ]
  },
  {
   "cell_type": "code",
   "execution_count": 2,
   "id": "688120ca",
   "metadata": {},
   "outputs": [],
   "source": [
    "# Eval setting\n",
    "SUBSET_SIZE = -1\n",
    "EVAL_CACHE_DIR = \"eval/\"\n",
    "USE_CACHE = True\n",
    "EVAL_SET = [\n",
    "    \"VectorRAG_Baseline\", \n",
    "    \"Microsoft_GraphRAG\"\n",
    "]\n",
    "\n",
    "# General RAG setting\n",
    "TOP_K = 3\n",
    "\n",
    "# Vector RAG setting\n",
    "CHUNK_SIZE = 512\n",
    "CHUNK_OVERLAP = 32"
   ]
  },
  {
   "cell_type": "code",
   "execution_count": 3,
   "id": "2821173e",
   "metadata": {},
   "outputs": [
    {
     "data": {
      "text/plain": [
       "True"
      ]
     },
     "execution_count": 3,
     "metadata": {},
     "output_type": "execute_result"
    }
   ],
   "source": [
    "# load environment variables\n",
    "from dotenv import load_dotenv\n",
    "load_dotenv(\"./private-config.env\")"
   ]
  },
  {
   "cell_type": "code",
   "execution_count": 4,
   "id": "47575fb8",
   "metadata": {},
   "outputs": [],
   "source": [
    "def empty_cache():\n",
    "    os.remove(EVAL_CACHE_DIR, ignore_errors=True)\n",
    "    os.remove(os.environ[\"CHROMA_DB\"], ignore_errors=True)\n",
    "    os.remove(os.environ[\"QR_DATA\"], ignore_errors=True)\n",
    "\n",
    "if not USE_CACHE:\n",
    "    empty_cache()"
   ]
  },
  {
   "cell_type": "markdown",
   "id": "e3130581",
   "metadata": {},
   "source": [
    "### LLM Config"
   ]
  },
  {
   "cell_type": "code",
   "execution_count": 5,
   "id": "ff62904d",
   "metadata": {},
   "outputs": [],
   "source": [
    "# Embedding model\n",
    "embed = OpenAIEmbeddings()\n",
    "\n",
    "# LLM model\n",
    "llm = ChatOpenAI(\n",
    "    model=\"gpt-4o-mini\",\n",
    "    temperature=0,\n",
    "    max_tokens=None,\n",
    "    timeout=None,\n",
    "    max_retries=2,\n",
    ")"
   ]
  },
  {
   "cell_type": "markdown",
   "id": "8c50a1aa",
   "metadata": {},
   "source": [
    "### QR Dataset Preparation"
   ]
  },
  {
   "cell_type": "code",
   "execution_count": 6,
   "id": "34af0eeb",
   "metadata": {},
   "outputs": [],
   "source": [
    "# def prepare_product_df() -> pd.DataFrame:\n",
    "#     \"\"\"\n",
    "#     Load the Amazon product dataset and filter for beauty products.\n",
    "#     \"\"\"\n",
    "#     import datasets\n",
    "#     amazon_product = datasets.load_dataset(\"milistu/AMAZON-Products-2023\")\n",
    "#     df = amazon_product[\"train\"].to_pandas()\n",
    "#     beauty_products = df[df['main_category'] == 'All Beauty']\n",
    "#     return beauty_products\n",
    "\n",
    "\n",
    "def prepare_product_df():\n",
    "    # Read data from a text file\n",
    "    with open('data/message.txt', 'r', encoding='utf-8') as file:\n",
    "        data = file.read()\n",
    "\n",
    "    # Split into products by splitting on double newlines\n",
    "    products = data.strip().split('\\n\\n')\n",
    "\n",
    "    # Prepare list to hold each product's data\n",
    "    product_list = []\n",
    "\n",
    "    for product in products:\n",
    "        product_data = {}\n",
    "\n",
    "        # Extract each line that contains ':'\n",
    "        lines = product.split('\\n')\n",
    "        for line in lines:\n",
    "            if ':' in line:\n",
    "                key, value = line.split(':', 1)  # Split only at the first colon\n",
    "                product_data[key.strip().lower()] = value.strip()\n",
    "\n",
    "        product_list.append(product_data)\n",
    "\n",
    "    # Convert list to DataFrame\n",
    "    return pd.DataFrame(product_list)"
   ]
  },
  {
   "cell_type": "code",
   "execution_count": 7,
   "id": "aaea444e",
   "metadata": {},
   "outputs": [],
   "source": [
    "async def generate_qr_data(\n",
    "        df: pd.DataFrame, \n",
    "        llm: ChatOpenAI,\n",
    "        metadata_fields: list = [\"description\", \"title\"],\n",
    "        num_questions_per_chunk: int = 1,\n",
    "    ) -> pd.DataFrame:\n",
    "    \"\"\"\n",
    "    Generate QR data for the given DataFrame.\n",
    "    \"\"\"\n",
    "    from llama_index.core import Document\n",
    "    from llama_index.core.evaluation import DatasetGenerator\n",
    "    cols = df.columns\n",
    "\n",
    "    docs = []\n",
    "    for i, row in df.iterrows():\n",
    "        doctext = [f\"{col}: {row[col]}\" for col in cols]\n",
    "        doctext = \"\\n\".join(doctext)\n",
    "        doc = Document(\n",
    "            text=doctext,\n",
    "            metadata={field: row[field] for field in metadata_fields},\n",
    "        )\n",
    "        docs.append(doc)\n",
    "\n",
    "    dataset_generator = DatasetGenerator.from_documents(\n",
    "        docs,\n",
    "        num_questions_per_chunk=num_questions_per_chunk,\n",
    "        show_progress=True,\n",
    "    )\n",
    "    qr_ds = await dataset_generator.agenerate_dataset_from_nodes()\n",
    "    qr_ds.save_json(os.environ[\"QR_DATA\"])\n",
    "    qr_ds = {\n",
    "        \"queries\": qr_ds.queries,\n",
    "        \"responses\": qr_ds.responses,\n",
    "    }\n",
    "    return qr_ds\n",
    "\n",
    "\n",
    "# Load QA data\n",
    "df = prepare_product_df()\n",
    "if not os.path.exists(os.environ[\"QR_DATA\"]):\n",
    "    df = prepare_product_df()\n",
    "    print(f\"Loaded {len(df)} products\")\n",
    "    qr_data = await generate_qr_data(\n",
    "        df,\n",
    "        llm,\n",
    "        metadata_fields=[\"description\", \"title\"],\n",
    "        num_questions_per_chunk=1,\n",
    "    )\n",
    "else:\n",
    "    with open(os.environ[\"QR_DATA\"], \"r\") as f:\n",
    "        qr_data = json.load(f)\n",
    "    "
   ]
  },
  {
   "cell_type": "code",
   "execution_count": 8,
   "id": "06c05500",
   "metadata": {},
   "outputs": [
    {
     "data": {
      "text/plain": [
       "(27, 27)"
      ]
     },
     "execution_count": 8,
     "metadata": {},
     "output_type": "execute_result"
    }
   ],
   "source": [
    "# load question-response dataset in json format for evaluation\n",
    "questions = [q for q in qr_data['queries'].values()]\n",
    "responses = [r for r in qr_data['responses'].values()]\n",
    "size = len(questions)\n",
    "idx = np.random.randint(0, size, SUBSET_SIZE) if SUBSET_SIZE > 0 else np.arange(size)\n",
    "questions, responses = [questions[i] for i in idx], [responses[i] for i in idx]\n",
    "len(questions), len(responses)"
   ]
  },
  {
   "cell_type": "markdown",
   "id": "2b02cdfc",
   "metadata": {},
   "source": [
    "### Vector RAG"
   ]
  },
  {
   "cell_type": "code",
   "execution_count": 9,
   "id": "442a2ea0",
   "metadata": {},
   "outputs": [],
   "source": [
    "def df2docs(df: pd.DataFrame) -> list[Document]:\n",
    "    \"\"\"\n",
    "    Convert DataFrame to list of Documents.\n",
    "    \"\"\"\n",
    "    docs = []\n",
    "    for i, row in df.iterrows():\n",
    "        doctext = [f\"{col}: {row[col]}\" for col in df.columns]\n",
    "        doctext = \"\\n\".join(doctext)\n",
    "        doc = Document(\n",
    "            page_content=doctext,\n",
    "            metadata={col: row[col] for col in df.columns},\n",
    "        )\n",
    "        docs.append(doc)\n",
    "    return docs\n",
    "\n",
    "\n",
    "documents = df2docs(df)\n",
    "# Split documents into chunks\n",
    "text_splitter = RecursiveCharacterTextSplitter(chunk_size=CHUNK_SIZE, chunk_overlap=CHUNK_OVERLAP)\n",
    "docstore = text_splitter.split_documents(documents)\n",
    "\n",
    "# Create ChromaDB and store embeddings\n",
    "db = Chroma.from_documents(docstore, embed, persist_directory=\"./chroma_db\")\n",
    "\n",
    "# Create a retriever\n",
    "vecstore = db.as_retriever(search_kwargs={\"k\": TOP_K})"
   ]
  },
  {
   "cell_type": "markdown",
   "id": "ece59730",
   "metadata": {},
   "source": [
    "### GraphRAG"
   ]
  },
  {
   "cell_type": "code",
   "execution_count": 10,
   "id": "8b650dd4",
   "metadata": {},
   "outputs": [],
   "source": [
    "url = os.getenv(\"NEO4J_CONNECTION_URL\")\n",
    "username = os.getenv(\"NEO4J_USER\")\n",
    "password = os.getenv(\"NEO4J_PASSWORD\")"
   ]
  },
  {
   "cell_type": "code",
   "execution_count": 11,
   "id": "363547d4",
   "metadata": {},
   "outputs": [],
   "source": [
    "graph_vecstore = Neo4jVector.from_existing_graph(\n",
    "    embedding=embed,\n",
    "    url=url,\n",
    "    username=username,\n",
    "    password=password,\n",
    "    index_name=\"product_index\",\n",
    "    node_label=\"Product\",\n",
    "    text_node_properties=[\"description\"],\n",
    "    embedding_node_property=\"embedding\",\n",
    ")"
   ]
  },
  {
   "cell_type": "code",
   "execution_count": 12,
   "id": "c713f168",
   "metadata": {},
   "outputs": [],
   "source": [
    "# graph_vecstore = Neo4jVector.from_existing_index(\n",
    "#     OpenAIEmbeddings(),\n",
    "#     url=url,\n",
    "#     username=username,\n",
    "#     password=password,\n",
    "#     index_name=\"product_index\",\n",
    "# )"
   ]
  },
  {
   "cell_type": "markdown",
   "id": "05cdd6b1",
   "metadata": {},
   "source": [
    "### Evaluation on Question Answering Task"
   ]
  },
  {
   "cell_type": "code",
   "execution_count": 13,
   "id": "b1875cc2",
   "metadata": {},
   "outputs": [],
   "source": [
    "RETRIEBERT_CONFIG = {\n",
    "    \"Vector RAG (Baseline)\": vecstore,\n",
    "    \"Microsoft GraphRAG\": graph_vecstore,\n",
    "}"
   ]
  },
  {
   "cell_type": "code",
   "execution_count": 14,
   "id": "2fa12e57",
   "metadata": {},
   "outputs": [],
   "source": [
    "def eval_qr_data(\n",
    "        questions: list[str], \n",
    "        responses: list[str], \n",
    "        retriever: Union[VectorStoreRetriever, Neo4jVector], \n",
    "        llm: ChatOpenAI,\n",
    "    ) -> EvaluationDataset:\n",
    "    \"\"\"\n",
    "    Wraps the evaluation data into a list of dictionaries.\n",
    "    \"\"\"\n",
    "    dataset = []\n",
    "\n",
    "    for query, reference in tqdm(zip(questions, responses), total=len(questions)):\n",
    "\n",
    "        if isinstance(retriever, VectorStoreRetriever):\n",
    "            relevant_docs = retriever.invoke(query)\n",
    "        elif isinstance(retriever, Neo4jVector):\n",
    "            relevant_docs = retriever.similarity_search(query, k=TOP_K)\n",
    "        else:\n",
    "            raise ValueError(\"Unsupported retriever type\")\n",
    "        \n",
    "        relevant_context = \"\\n\".join([doc.page_content for doc in relevant_docs])\n",
    "        prompt = f\"\"\"\n",
    "        Based on the following context, answer the question:\\n\n",
    "        {relevant_context}\\n\n",
    "        Question: {query}\\n\n",
    "        Answer:\n",
    "        \"\"\"\n",
    "        response = llm.invoke(prompt).content\n",
    "        dataset.append(\n",
    "            {\n",
    "                \"user_input\":query,\n",
    "                \"retrieved_contexts\":[d.page_content for d in relevant_docs],\n",
    "                \"response\":response,\n",
    "                \"reference\":reference\n",
    "            }\n",
    "        )\n",
    "\n",
    "    return EvaluationDataset.from_list(dataset)\n",
    "\n",
    "def eval(method: str, eval_llm: ChatOpenAI) -> EvaluationResult:\n",
    "    retriever = RETRIEBERT_CONFIG[method]\n",
    "    print(f\"Evaluating {method} ...\")\n",
    "    # Prepare the evaluation data\n",
    "    eval_data = eval_qr_data(\n",
    "        questions=questions,\n",
    "        responses=responses,\n",
    "        retriever=retriever,\n",
    "        llm=llm,\n",
    "    )\n",
    "    # Eval\n",
    "    eval_result = evaluate(\n",
    "        dataset=eval_data,\n",
    "        metrics=metrics_list,\n",
    "        llm=eval_llm,\n",
    "    )\n",
    "    # Save the evaluation result\n",
    "    eval_result.to_pandas().to_csv(\n",
    "        os.path.join(EVAL_CACHE_DIR, f\"{method}.csv\"),\n",
    "    )\n",
    "    return eval_result"
   ]
  },
  {
   "cell_type": "code",
   "execution_count": 15,
   "id": "132dff8e",
   "metadata": {},
   "outputs": [],
   "source": [
    "def parse_eval_results(\n",
    "        eval_result: Union[EvaluationResult, pd.DataFrame], \n",
    "        method_name: str,\n",
    "    ) -> pd.DataFrame:\n",
    "    \"\"\"\n",
    "    Parses the evaluation results into a DataFrame.\n",
    "    \"\"\"\n",
    "    if isinstance(eval_result, EvaluationResult):\n",
    "        # Convert the evaluation result to a DataFrame\n",
    "        eval_df = eval_result.to_pandas()\n",
    "        metrics_names = [i for i in eval_result.scores[0].keys()]\n",
    "    else:\n",
    "        # If it's already a DataFrame, use it directly\n",
    "        eval_df = eval_result\n",
    "        metrics_names = [col for col in eval_result.columns if col not in [\"user_input\", \"retrieved_contexts\", \"response\", \"reference\"]]\n",
    "    eval_df_long = pd.melt(\n",
    "        eval_df,\n",
    "        value_vars=metrics_names,  # Columns to unpivot\n",
    "        var_name='metric',             # Name for the variable column\n",
    "        value_name='score'              # Name for the value column\n",
    "    )\n",
    "    eval_df_long['method'] = method_name\n",
    "    return eval_df_long"
   ]
  },
  {
   "cell_type": "code",
   "execution_count": 16,
   "id": "b2c764a6",
   "metadata": {},
   "outputs": [],
   "source": [
    "evaluator_llm = LangchainLLMWrapper(llm)"
   ]
  },
  {
   "cell_type": "code",
   "execution_count": 17,
   "id": "52cc97a0",
   "metadata": {},
   "outputs": [
    {
     "name": "stdout",
     "output_type": "stream",
     "text": [
      "Loading result of VectorRAG_Baseline ...\n",
      "Loading result of Microsoft_GraphRAG ...\n"
     ]
    },
    {
     "data": {
      "text/plain": [
       "(162, 3)"
      ]
     },
     "execution_count": 17,
     "metadata": {},
     "output_type": "execute_result"
    }
   ],
   "source": [
    "eval_df = pd.DataFrame()\n",
    "if not os.path.exists(EVAL_CACHE_DIR):\n",
    "    os.makedirs(EVAL_CACHE_DIR)\n",
    "for method in EVAL_SET:\n",
    "    if os.path.exists(os.path.join(EVAL_CACHE_DIR, f\"{method}.csv\")):\n",
    "        print(f\"Loading result of {method} ...\")\n",
    "        eval_result = pd.read_csv(os.path.join(EVAL_CACHE_DIR, f\"{method}.csv\"), index_col=0)\n",
    "    else:\n",
    "        eval_result = eval(method, evaluator_llm)\n",
    "    df = parse_eval_results(eval_result, method)\n",
    "    eval_df = pd.concat([eval_df, df], ignore_index=True)\n",
    "eval_df.shape"
   ]
  },
  {
   "cell_type": "code",
   "execution_count": 18,
   "id": "c3ad6f09",
   "metadata": {},
   "outputs": [
    {
     "data": {
      "text/html": [
       "<div>\n",
       "<style scoped>\n",
       "    .dataframe tbody tr th:only-of-type {\n",
       "        vertical-align: middle;\n",
       "    }\n",
       "\n",
       "    .dataframe tbody tr th {\n",
       "        vertical-align: top;\n",
       "    }\n",
       "\n",
       "    .dataframe thead th {\n",
       "        text-align: right;\n",
       "    }\n",
       "</style>\n",
       "<table border=\"1\" class=\"dataframe\">\n",
       "  <thead>\n",
       "    <tr style=\"text-align: right;\">\n",
       "      <th></th>\n",
       "      <th>metric</th>\n",
       "      <th>score</th>\n",
       "      <th>method</th>\n",
       "    </tr>\n",
       "  </thead>\n",
       "  <tbody>\n",
       "    <tr>\n",
       "      <th>0</th>\n",
       "      <td>faithfulness</td>\n",
       "      <td>0.500000</td>\n",
       "      <td>VectorRAG_Baseline</td>\n",
       "    </tr>\n",
       "    <tr>\n",
       "      <th>1</th>\n",
       "      <td>faithfulness</td>\n",
       "      <td>1.000000</td>\n",
       "      <td>VectorRAG_Baseline</td>\n",
       "    </tr>\n",
       "    <tr>\n",
       "      <th>2</th>\n",
       "      <td>faithfulness</td>\n",
       "      <td>1.000000</td>\n",
       "      <td>VectorRAG_Baseline</td>\n",
       "    </tr>\n",
       "    <tr>\n",
       "      <th>3</th>\n",
       "      <td>faithfulness</td>\n",
       "      <td>1.000000</td>\n",
       "      <td>VectorRAG_Baseline</td>\n",
       "    </tr>\n",
       "    <tr>\n",
       "      <th>4</th>\n",
       "      <td>faithfulness</td>\n",
       "      <td>0.833333</td>\n",
       "      <td>VectorRAG_Baseline</td>\n",
       "    </tr>\n",
       "  </tbody>\n",
       "</table>\n",
       "</div>"
      ],
      "text/plain": [
       "         metric     score              method\n",
       "0  faithfulness  0.500000  VectorRAG_Baseline\n",
       "1  faithfulness  1.000000  VectorRAG_Baseline\n",
       "2  faithfulness  1.000000  VectorRAG_Baseline\n",
       "3  faithfulness  1.000000  VectorRAG_Baseline\n",
       "4  faithfulness  0.833333  VectorRAG_Baseline"
      ]
     },
     "execution_count": 18,
     "metadata": {},
     "output_type": "execute_result"
    }
   ],
   "source": [
    "eval_df.head()"
   ]
  },
  {
   "cell_type": "code",
   "execution_count": 19,
   "id": "28c56f25",
   "metadata": {},
   "outputs": [
    {
     "data": {
      "image/png": "[encoded data removed]",
      "text/plain": [
       "<Figure size 640x480 with 1 Axes>"
      ]
     },
     "metadata": {},
     "output_type": "display_data"
    }
   ],
   "source": [
    "# boxplot for all metrics\n",
    "sns.set(style=\"whitegrid\")\n",
    "sns.boxplot(\n",
    "    x=\"metric\",\n",
    "    y=\"score\",\n",
    "    hue=\"method\",\n",
    "    hue_order=EVAL_SET,\n",
    "    data=eval_df,\n",
    "    palette=\"Set3\",\n",
    "    showfliers=False,\n",
    ")\n",
    "plt.xticks(rotation=30)\n",
    "plt.title(f\"RAG Pipeline Evaluation (K: {TOP_K}, Evaluation Size: {SUBSET_SIZE if SUBSET_SIZE > 0 else size})\")\n",
    "plt.legend(title=\"Method\", loc=\"upper left\", bbox_to_anchor=(1, 1))\n",
    "plt.xlabel(\"Metrics\")\n",
    "plt.ylabel(\"Scores\")\n",
    "plt.tight_layout()\n",
    "# Save the evaluation results to a CSV file"
   ]
  },
  {
   "cell_type": "code",
   "execution_count": null,
   "id": "ff5acb82",
   "metadata": {},
   "outputs": [],
   "source": []
  }
 ],
 "metadata": {
  "kernelspec": {
   "display_name": "graphrag",
   "language": "python",
   "name": "python3"
  },
  "language_info": {
   "codemirror_mode": {
    "name": "ipython",
    "version": 3
   },
   "file_extension": ".py",
   "mimetype": "text/x-python",
   "name": "python",
   "nbconvert_exporter": "python",
   "pygments_lexer": "ipython3",
   "version": "3.12.9"
  }
 },
 "nbformat": 4,
 "nbformat_minor": 5
}
