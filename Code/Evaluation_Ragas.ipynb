{
 "cells": [
  {
   "cell_type": "markdown",
   "id": "a4f8182f",
   "metadata": {},
   "source": [
    "## Evaluations of Vector RAG & Graph RAG"
   ]
  },
  {
   "cell_type": "code",
   "execution_count": 25,
   "id": "59d229a7",
   "metadata": {},
   "outputs": [],
   "source": [
    "import os\n",
    "import json\n",
    "import numpy as np\n",
    "import pandas as pd\n",
    "import seaborn as sns\n",
    "import matplotlib.pyplot as plt\n",
    "\n",
    "from tqdm import tqdm\n",
    "from typing import Union\n",
    "\n",
    "from langchain.schema import Document\n",
    "from langchain.prompts import PromptTemplate\n",
    "from langchain_core.vectorstores import VectorStoreRetriever\n",
    "from langchain.vectorstores import Chroma\n",
    "from langchain_openai import ChatOpenAI\n",
    "from langchain_huggingface import HuggingFaceEndpoint, ChatHuggingFace, HuggingFacePipeline\n",
    "from langchain_neo4j import Neo4jVector, GraphCypherQAChain, Neo4jGraph\n",
    "from langchain_openai import OpenAIEmbeddings\n",
    "from langchain.text_splitter import RecursiveCharacterTextSplitter\n",
    "\n",
    "from ragas.dataset_schema import EvaluationResult\n",
    "from ragas import EvaluationDataset\n",
    "from ragas import evaluate\n",
    "from ragas.llms import LangchainLLMWrapper\n",
    "from ragas.metrics import (\n",
    "    SemanticSimilarity,\n",
    "    AnswerRelevancy, \n",
    "    Faithfulness, \n",
    "    FactualCorrectness, \n",
    "    AnswerCorrectness, \n",
    "    LLMContextRecall, \n",
    "    ContextRecall, \n",
    "    ContextPrecision, \n",
    ")\n",
    "\n",
    "metrics_list = [\n",
    "    Faithfulness(),\n",
    "    AnswerRelevancy(),\n",
    "    SemanticSimilarity(),\n",
    "    \n",
    "]\n",
    "\n",
    "np.random.seed(42)"
   ]
  },
  {
   "cell_type": "markdown",
   "id": "2778e980",
   "metadata": {},
   "source": [
    "### TO-DO\n",
    "1. Track running time"
   ]
  },
  {
   "cell_type": "code",
   "execution_count": 26,
   "id": "688120ca",
   "metadata": {},
   "outputs": [],
   "source": [
    "# TODO: edit configuration\n",
    "# Eval setting\n",
    "SUBSET_SIZE = -1\n",
    "EVAL_CACHE_DIR = \"eval-semantic-human-qa-easy/\"\n",
    "# EVAL_CACHE_DIR = \"eval-vector-auto-qa/\"\n",
    "\n",
    "USE_CACHE = True\n",
    "GRAPH_RETRIEVAL_METHOD = \"semantic\"  # semantic or vector\n",
    "EVAL_SET = [\n",
    "    # \"VectorRAG_Baseline\", \n",
    "    # \"Microsoft_GraphRAG (generic fewshots)\",\n",
    "    # \"Microsoft_GraphRAG (finetuned fewshots)\",\n",
    "    \"LLMGraphTransformer_GraphRAG_1\",\n",
    "    \"LLMGraphTransformer_GraphRAG_1_1\",\n",
    "    # \"LLMGraphTransformer_GraphRAG_2\",\n",
    "    # \"LlamaIndex_GraphRAG\",\n",
    "    # \"OpenAI_GraphRAG\",\n",
    "]\n",
    "\n",
    "RETRIEVER_CONFIG = {\n",
    "    k: None for k in EVAL_SET\n",
    "}\n",
    "\n",
    "# General RAG setting\n",
    "TOP_K = 3\n",
    "\n",
    "# Vector RAG setting\n",
    "CHUNK_SIZE = 512\n",
    "CHUNK_OVERLAP = 32"
   ]
  },
  {
   "cell_type": "code",
   "execution_count": 27,
   "id": "2821173e",
   "metadata": {},
   "outputs": [
    {
     "data": {
      "text/plain": [
       "True"
      ]
     },
     "execution_count": 27,
     "metadata": {},
     "output_type": "execute_result"
    }
   ],
   "source": [
    "# load environment variables\n",
    "from dotenv import load_dotenv\n",
    "load_dotenv(\"./private-config.env\")"
   ]
  },
  {
   "cell_type": "code",
   "execution_count": 28,
   "id": "47575fb8",
   "metadata": {},
   "outputs": [],
   "source": [
    "def empty_cache():\n",
    "    os.remove(EVAL_CACHE_DIR, ignore_errors=True)\n",
    "    os.remove(os.environ[\"CHROMA_DB\"], ignore_errors=True)\n",
    "    os.remove(os.environ[\"QR_DATA\"], ignore_errors=True)\n",
    "\n",
    "if not USE_CACHE:\n",
    "    empty_cache()"
   ]
  },
  {
   "cell_type": "markdown",
   "id": "e3130581",
   "metadata": {},
   "source": [
    "### LLM Config"
   ]
  },
  {
   "cell_type": "code",
   "execution_count": 29,
   "id": "ff62904d",
   "metadata": {},
   "outputs": [],
   "source": [
    "# Embedding model\n",
    "embed = OpenAIEmbeddings()\n",
    "\n",
    "# LLM model\n",
    "llm = ChatOpenAI(\n",
    "    model=\"gpt-4o-mini\",\n",
    "    temperature=0,\n",
    "    max_tokens=None,\n",
    "    timeout=None,\n",
    "    max_retries=2,\n",
    ")"
   ]
  },
  {
   "cell_type": "code",
   "execution_count": null,
   "id": "ada48660",
   "metadata": {},
   "outputs": [
    {
     "data": {
      "application/vnd.jupyter.widget-view+json": {
       "model_id": "0297ff2f6cc343299d7fc878cfa330f2",
       "version_major": 2,
       "version_minor": 0
      },
      "text/plain": [
       "tokenizer_config.json:   0%|          | 0.00/7.30k [00:00<?, ?B/s]"
      ]
     },
     "metadata": {},
     "output_type": "display_data"
    },
    {
     "data": {
      "application/vnd.jupyter.widget-view+json": {
       "model_id": "af4d1916734140be83954f48648d911b",
       "version_major": 2,
       "version_minor": 0
      },
      "text/plain": [
       "vocab.json:   0%|          | 0.00/2.78M [00:00<?, ?B/s]"
      ]
     },
     "metadata": {},
     "output_type": "display_data"
    },
    {
     "data": {
      "application/vnd.jupyter.widget-view+json": {
       "model_id": "ce974bfaf1a447328bf6491cfd76e94f",
       "version_major": 2,
       "version_minor": 0
      },
      "text/plain": [
       "merges.txt:   0%|          | 0.00/1.67M [00:00<?, ?B/s]"
      ]
     },
     "metadata": {},
     "output_type": "display_data"
    },
    {
     "data": {
      "application/vnd.jupyter.widget-view+json": {
       "model_id": "e253a87bc9664f9fb6365ee9592bbda7",
       "version_major": 2,
       "version_minor": 0
      },
      "text/plain": [
       "tokenizer.json:   0%|          | 0.00/7.03M [00:00<?, ?B/s]"
      ]
     },
     "metadata": {},
     "output_type": "display_data"
    },
    {
     "data": {
      "application/vnd.jupyter.widget-view+json": {
       "model_id": "0cc0e736fe1e4083b38b5d33b9cbfed7",
       "version_major": 2,
       "version_minor": 0
      },
      "text/plain": [
       "config.json:   0%|          | 0.00/661 [00:00<?, ?B/s]"
      ]
     },
     "metadata": {},
     "output_type": "display_data"
    },
    {
     "data": {
      "application/vnd.jupyter.widget-view+json": {
       "model_id": "91141eeb4d4146b2a2646cc5e589bfa0",
       "version_major": 2,
       "version_minor": 0
      },
      "text/plain": [
       "model.safetensors.index.json:   0%|          | 0.00/35.6k [00:00<?, ?B/s]"
      ]
     },
     "metadata": {},
     "output_type": "display_data"
    },
    {
     "data": {
      "application/vnd.jupyter.widget-view+json": {
       "model_id": "63aecf07bf194e97aa15827022f04fbd",
       "version_major": 2,
       "version_minor": 0
      },
      "text/plain": [
       "Fetching 2 files:   0%|          | 0/2 [00:00<?, ?it/s]"
      ]
     },
     "metadata": {},
     "output_type": "display_data"
    },
    {
     "data": {
      "application/vnd.jupyter.widget-view+json": {
       "model_id": "afb7a040f8ab4e11973d3bf4c000896a",
       "version_major": 2,
       "version_minor": 0
      },
      "text/plain": [
       "model-00002-of-00002.safetensors:   0%|          | 0.00/1.21G [00:00<?, ?B/s]"
      ]
     },
     "metadata": {},
     "output_type": "display_data"
    },
    {
     "data": {
      "application/vnd.jupyter.widget-view+json": {
       "model_id": "6e2c361e512c4dd18c5dce1e31ebb846",
       "version_major": 2,
       "version_minor": 0
      },
      "text/plain": [
       "model-00001-of-00002.safetensors:   0%|          | 0.00/4.96G [00:00<?, ?B/s]"
      ]
     },
     "metadata": {},
     "output_type": "display_data"
    },
    {
     "data": {
      "application/vnd.jupyter.widget-view+json": {
       "model_id": "05853ab37d894c8ea90e4f802ae47ace",
       "version_major": 2,
       "version_minor": 0
      },
      "text/plain": [
       "Loading checkpoint shards:   0%|          | 0/2 [00:00<?, ?it/s]"
      ]
     },
     "metadata": {},
     "output_type": "display_data"
    }
   ],
   "source": [
    "# coding_llm = HuggingFacePipeline.from_model_id(\n",
    "#     model_id=\"Qwen/Qwen2.5-Coder-1.5B-Instruct\",\n",
    "#     task=\"text-generation\",\n",
    "#     model_kwargs={\"use_cache\": True},\n",
    "#     pipeline_kwargs={\"max_length\": 512, \"truncation\": True},\n",
    "# )"
   ]
  },
  {
   "cell_type": "code",
   "execution_count": null,
   "id": "0655f738",
   "metadata": {},
   "outputs": [],
   "source": [
    "# neo4j = neo4j_config[\"LLMGraphTransformer_GraphRAG_1\"]\n",
    "# uri = neo4j[\"uri\"]\n",
    "# username = neo4j[\"username\"]\n",
    "# password = neo4j[\"password\"]\n",
    "# graph = Neo4jGraph(\n",
    "#     url=uri,\n",
    "#     username=username,\n",
    "#     password=password,\n",
    "#     database=\"neo4j\",\n",
    "# )\n",
    "# chain = GraphCypherQAChain.from_llm(\n",
    "#     cypher_llm=coding_llm,\n",
    "#     qa_llm=llm,\n",
    "#     graph=graph,\n",
    "#     verbose=True,\n",
    "#     allow_dangerous_requests=True,\n",
    "# )"
   ]
  },
  {
   "cell_type": "code",
   "execution_count": null,
   "id": "e4fd5eae",
   "metadata": {},
   "outputs": [],
   "source": [
    "# chain.invoke(\"How many products does SK-II offer in the collection?\")"
   ]
  },
  {
   "cell_type": "markdown",
   "id": "8c50a1aa",
   "metadata": {},
   "source": [
    "### QR Dataset Preparation"
   ]
  },
  {
   "cell_type": "code",
   "execution_count": null,
   "id": "34af0eeb",
   "metadata": {},
   "outputs": [],
   "source": [
    "def prepare_product_df() -> pd.DataFrame:\n",
    "    \"\"\"\n",
    "    Load the Amazon product dataset and filter for beauty products.\n",
    "    \"\"\"\n",
    "    df = pd.read_csv(\"./data/cosmetics_25_products.csv\", index_col=0)\n",
    "    df.columns = df.columns.str.lower()\n",
    "    df[\"title\"] = df[\"name\"]\n",
    "    return df\n",
    "\n",
    "\n",
    "# def prepare_product_df():\n",
    "#     # Read data from a text file\n",
    "#     with open('data/message.txt', 'r', encoding='utf-8') as file:\n",
    "#         data = file.read()\n",
    "\n",
    "#     # Split into products by splitting on double newlines\n",
    "#     products = data.strip().split('\\n\\n')\n",
    "\n",
    "#     # Prepare list to hold each product's data\n",
    "#     product_list = []\n",
    "\n",
    "#     for product in products:\n",
    "#         product_data = {}\n",
    "\n",
    "#         # Extract each line that contains ':'\n",
    "#         lines = product.split('\\n')\n",
    "#         for line in lines:\n",
    "#             if ':' in line:\n",
    "#                 key, value = line.split(':', 1)  # Split only at the first colon\n",
    "#                 product_data[key.strip().lower()] = value.strip()\n",
    "\n",
    "#         product_list.append(product_data)\n",
    "\n",
    "#     # Convert list to DataFrame\n",
    "#     return pd.DataFrame(product_list)"
   ]
  },
  {
   "cell_type": "code",
   "execution_count": null,
   "id": "aaea444e",
   "metadata": {},
   "outputs": [],
   "source": [
    "async def generate_qr_data(\n",
    "        df: pd.DataFrame, \n",
    "        llm: ChatOpenAI,\n",
    "        metadata_fields: list = [\"description\", \"title\"],\n",
    "        num_questions_per_chunk: int = 1,\n",
    "    ) -> pd.DataFrame:\n",
    "    \"\"\"\n",
    "    Generate QR data for the given DataFrame.\n",
    "    \"\"\"\n",
    "    from llama_index.core import Document\n",
    "    from llama_index.core.evaluation import DatasetGenerator\n",
    "    cols = df.columns\n",
    "\n",
    "    docs = []\n",
    "    for i, row in df.iterrows():\n",
    "        doctext = [f\"{col}: {row[col]}\" for col in cols]\n",
    "        doctext = \"\\n\".join(doctext)\n",
    "        doc = Document(\n",
    "            text=doctext,\n",
    "            metadata={field: row[field] for field in metadata_fields},\n",
    "        )\n",
    "        docs.append(doc)\n",
    "\n",
    "    dataset_generator = DatasetGenerator.from_documents(\n",
    "        docs,\n",
    "        num_questions_per_chunk=num_questions_per_chunk,\n",
    "        show_progress=True,\n",
    "    )\n",
    "    qr_ds = await dataset_generator.agenerate_dataset_from_nodes()\n",
    "    qr_ds.save_json(os.environ[\"QR_DATA\"])\n",
    "    qr_ds = {\n",
    "        \"queries\": qr_ds.queries,\n",
    "        \"responses\": qr_ds.responses,\n",
    "    }\n",
    "    return qr_ds"
   ]
  },
  {
   "cell_type": "code",
   "execution_count": null,
   "id": "d2ee5ab6",
   "metadata": {},
   "outputs": [],
   "source": [
    "# Load QA data\n",
    "df = prepare_product_df()\n",
    "if not os.path.exists(os.environ[\"QR_DATA\"]):\n",
    "    df = prepare_product_df()\n",
    "    print(f\"Loaded {len(df)} products\")\n",
    "    qr_data = await generate_qr_data(\n",
    "        df,\n",
    "        llm,\n",
    "        metadata_fields=[\"description\", \"title\"],\n",
    "        num_questions_per_chunk=1,\n",
    "    )\n",
    "else:\n",
    "    with open(os.environ[\"QR_DATA\"], \"r\") as f:\n",
    "        qr_data = json.load(f)"
   ]
  },
  {
   "cell_type": "code",
   "execution_count": null,
   "id": "06c05500",
   "metadata": {},
   "outputs": [
    {
     "data": {
      "text/plain": [
       "(10, 10)"
      ]
     },
     "execution_count": 12,
     "metadata": {},
     "output_type": "execute_result"
    }
   ],
   "source": [
    "# load question-response dataset in json format for evaluation\n",
    "questions = [q for q in qr_data['queries'].values()]\n",
    "responses = [r for r in qr_data['responses'].values()]\n",
    "size = len(questions)\n",
    "idx = np.random.randint(0, size, SUBSET_SIZE) if SUBSET_SIZE > 0 else np.arange(size)\n",
    "questions, responses = [questions[i] for i in idx], [responses[i] for i in idx]\n",
    "len(questions), len(responses)"
   ]
  },
  {
   "cell_type": "markdown",
   "id": "2b02cdfc",
   "metadata": {},
   "source": [
    "### Vector RAG"
   ]
  },
  {
   "cell_type": "code",
   "execution_count": null,
   "id": "442a2ea0",
   "metadata": {},
   "outputs": [],
   "source": [
    "def df2docs(df: pd.DataFrame) -> list[Document]:\n",
    "    \"\"\"\n",
    "    Convert DataFrame to list of Documents.\n",
    "    \"\"\"\n",
    "    docs = []\n",
    "    for i, row in df.iterrows():\n",
    "        doctext = [f\"{col}: {row[col]}\" for col in df.columns]\n",
    "        doctext = \"\\n\".join(doctext)\n",
    "        doc = Document(\n",
    "            page_content=doctext,\n",
    "            metadata={col: row[col] for col in df.columns},\n",
    "        )\n",
    "        docs.append(doc)\n",
    "    return docs\n",
    "\n",
    "\n",
    "documents = df2docs(df)\n",
    "# Split documents into chunks\n",
    "text_splitter = RecursiveCharacterTextSplitter(chunk_size=CHUNK_SIZE, chunk_overlap=CHUNK_OVERLAP)\n",
    "docstore = text_splitter.split_documents(documents)\n",
    "\n",
    "# Create ChromaDB and store embeddings\n",
    "db = Chroma.from_documents(docstore, embed, persist_directory=\"./chroma_db\")\n",
    "\n",
    "# Create a retriever\n",
    "vecstore = db.as_retriever(search_kwargs={\"k\": TOP_K})"
   ]
  },
  {
   "cell_type": "markdown",
   "id": "ece59730",
   "metadata": {},
   "source": [
    "### GraphRAG - Vector Search"
   ]
  },
  {
   "cell_type": "code",
   "execution_count": null,
   "id": "363547d4",
   "metadata": {},
   "outputs": [],
   "source": [
    "def get_graphstore(\n",
    "        url: str, \n",
    "        username: str,\n",
    "        password: str,\n",
    "    ) -> Neo4jVector:\n",
    "    \"\"\"\n",
    "    Create a Neo4j vector store.\n",
    "    \"\"\"\n",
    "    graph_vecstore = Neo4jVector.from_existing_graph(\n",
    "        embedding=embed,\n",
    "        url=url,\n",
    "        username=username,\n",
    "        password=password,\n",
    "        index_name=\"product_index\",\n",
    "        node_label=\"Product\",\n",
    "        text_node_properties=[\"description\"],\n",
    "        embedding_node_property=\"embedding\",\n",
    "    )\n",
    "    return graph_vecstore"
   ]
  },
  {
   "cell_type": "markdown",
   "id": "a0c2e418",
   "metadata": {},
   "source": [
    "### GraphRAG - Semantic Search (Cypher)"
   ]
  },
  {
   "cell_type": "code",
   "execution_count": null,
   "id": "2ae1f84a",
   "metadata": {},
   "outputs": [],
   "source": [
    "CYPHER_QA_TEMPLATE = \"\"\"Task:Generate Cypher statement to query a graph database based on few-shot samples.\n",
    "Instructions:\n",
    "Use only the provided relationship types and properties in the schema.\n",
    "Do not use any other relationship types or properties that are not provided.\n",
    "\n",
    "Schema:\n",
    "{schema}\n",
    "\n",
    "Here are some examples of question and Cypher statement pairs, review them and use them as a reference to generate your own Cypher statement.\n",
    "Few shot examples: \n",
    "1. What is the price range of all the products in the dataset?\n",
    "Cyhpher Query:\n",
    "MATCH (p:Product)-[h:HAS_PRICE]->(pr:Price)\n",
    "WITH p, pr, toInteger(pr.id) AS priceId\n",
    "RETURN min(priceId) AS minPrice, max(priceId) AS maxPrice\n",
    "\n",
    "2. How many products have a rating above 4?\n",
    "Cyhpher Query:\n",
    "MATCH (p:Product)-[r:HAS_RATING]->(ra:Rating)\n",
    "WITH p, toFloat(ra.id) AS rating\n",
    "WHERE rating > 4.0\n",
    "RETURN count(p)\n",
    "\n",
    "3. What Estee Lauder products are not suitable for sensitive skin?\n",
    "Cypher Query:\n",
    "MATCH (b:Brand {id: \"Estee Lauder\"})-[:FROM_BRAND]->(p:Product)\n",
    "WHERE NOT EXISTS {  \n",
    "MATCH (p)-[:FOR_SKIN_TYPE]->(st:Skin_type {id: \"sensitive\"}) }\n",
    "RETURN p\n",
    "\n",
    "The question is:\n",
    "{question}\n",
    "\n",
    "Note: Do not include any explanations or apologies in your responses.\n",
    "Do not respond to any questions that might ask anything else than for you to construct a Cypher statement.\n",
    "Do not include any text except the generated Cypher statement.\n",
    "\"\"\"\n",
    "\n",
    "def get_cypher_chain(\n",
    "    llm: ChatOpenAI,\n",
    "    url: str,\n",
    "    username: str,\n",
    "    password: str,\n",
    ") -> GraphCypherQAChain:\n",
    "    return GraphCypherQAChain.from_llm(\n",
    "        graph=Neo4jGraph(\n",
    "            url=url,\n",
    "            username=username,\n",
    "            password=password,\n",
    "        ),\n",
    "        # # few shot usage\n",
    "        # cypher_prompt=PromptTemplate(\n",
    "        #     template=CYPHER_QA_TEMPLATE,\n",
    "        #     input_variables=[\"schema\", \"question\"],\n",
    "        # ),\n",
    "        cypher_llm=llm,\n",
    "        qa_llm=llm,\n",
    "        verbose=True,\n",
    "        enhanced_schema=True,\n",
    "        allow_dangerous_requests=True,\n",
    "        return_intermediate_steps=True,\n",
    "    )"
   ]
  },
  {
   "cell_type": "code",
   "execution_count": null,
   "id": "63a41ca2",
   "metadata": {},
   "outputs": [],
   "source": [
    "def cypher_retrieve(cypher_chain: GraphCypherQAChain, query: str) -> list[Document]:\n",
    "    \n",
    "    response = cypher_chain.invoke({\"query\": query})\n",
    "\n",
    "    # cypher_query = Document(f\"\"\"\n",
    "    # Cypher Query:\n",
    "    # {response[\"intermediate_steps\"][0][\"query\"]}\n",
    "    # \"\"\")\n",
    "    # schema = Document(f\"\"\"\n",
    "    # Schema:\n",
    "    # {cypher_chain.graph.schema}\n",
    "    # \"\"\")\n",
    "    relevant_docs = response[\"intermediate_steps\"][1][\"context\"]\n",
    "    relevant_docs = [Document(str(doc)) for doc in relevant_docs]\n",
    "    answer = response[\"result\"]\n",
    "    return relevant_docs, answer"
   ]
  },
  {
   "cell_type": "code",
   "execution_count": null,
   "id": "cec4c973",
   "metadata": {},
   "outputs": [
    {
     "name": "stdout",
     "output_type": "stream",
     "text": [
      "Skipping config for LLMGraphTransformer_GraphRAG_1_1 as it is already evaluated\n"
     ]
    }
   ],
   "source": [
    "neo4j_config = json.load(open(os.environ[\"NEO4J_CONFIG\"], 'r'))\n",
    "for method in EVAL_SET:\n",
    "    if method == \"VectorRAG_Baseline\":\n",
    "        RETRIEVER_CONFIG[method] = vecstore\n",
    "    elif \"GraphRAG\" in method:\n",
    "        if os.path.exists(os.path.join(EVAL_CACHE_DIR, f\"{method}.csv\")):\n",
    "            print(f\"Skipping config for {method} as it is already evaluated\")\n",
    "            continue\n",
    "        url = neo4j_config[method][\"uri\"]\n",
    "        username = neo4j_config[method][\"username\"]\n",
    "        password = neo4j_config[method][\"password\"]\n",
    "        if GRAPH_RETRIEVAL_METHOD == \"vector\":\n",
    "            graphstore = get_graphstore(url, username, password)\n",
    "        elif GRAPH_RETRIEVAL_METHOD == \"semantic\":\n",
    "            graphstore = get_cypher_chain(llm, url, username, password)\n",
    "        else: \n",
    "            raise ValueError(f\"Unknown graph retrieval method: {GRAPH_RETRIEVAL_METHOD}\")\n",
    "        RETRIEVER_CONFIG[method] = graphstore\n",
    "    else:\n",
    "        raise ValueError(f\"Unknown method: {method}\")"
   ]
  },
  {
   "cell_type": "markdown",
   "id": "05cdd6b1",
   "metadata": {},
   "source": [
    "### Evaluation on Question Answering Task"
   ]
  },
  {
   "cell_type": "code",
   "execution_count": null,
   "id": "2fa12e57",
   "metadata": {},
   "outputs": [],
   "source": [
    "def eval_qr_data(\n",
    "        questions: list[str], \n",
    "        responses: list[str], \n",
    "        retriever: Union[VectorStoreRetriever, Neo4jVector, GraphCypherQAChain], \n",
    "        llm: ChatOpenAI,\n",
    "    ) -> EvaluationDataset:\n",
    "    \"\"\"\n",
    "    Wraps the evaluation data into a list of dictionaries.\n",
    "    \"\"\"\n",
    "    dataset = []\n",
    "    response = None\n",
    "\n",
    "    for query, reference in tqdm(zip(questions, responses), total=len(questions)):\n",
    "\n",
    "        if isinstance(retriever, VectorStoreRetriever):\n",
    "            relevant_docs = retriever.invoke(query)\n",
    "        elif isinstance(retriever, Neo4jVector):\n",
    "            relevant_docs = retriever.similarity_search(query, k=TOP_K)\n",
    "        elif isinstance(retriever, GraphCypherQAChain):\n",
    "            try:\n",
    "                relevant_docs, response = cypher_retrieve(retriever, query)\n",
    "            # sometimes the cypher query fails, so we skip it\n",
    "            except Exception as e:\n",
    "                print(f\"Cypher QA Chain failed, skipping query: {query}\")\n",
    "                continue\n",
    "        else:\n",
    "            raise ValueError(\"Unsupported retriever type\")\n",
    "        \n",
    "        relevant_context = \"\\n\".join([doc.page_content for doc in relevant_docs])\n",
    "        prompt = f\"\"\"\n",
    "        Based on the following context, answer the question:\\n\n",
    "        {relevant_context}\\n\n",
    "        Question: {query}\\n\n",
    "        Answer:\n",
    "        \"\"\"\n",
    "        response = llm.invoke(prompt).content if response is None else response\n",
    "        dataset.append(\n",
    "            {\n",
    "                \"user_input\":query,\n",
    "                \"retrieved_contexts\":[d.page_content for d in relevant_docs],\n",
    "                \"response\":response,\n",
    "                \"reference\":reference\n",
    "            }\n",
    "        )\n",
    "\n",
    "    return EvaluationDataset.from_list(dataset)\n",
    "\n",
    "def eval(method: str, eval_llm: ChatOpenAI) -> EvaluationResult:\n",
    "    retriever = RETRIEVER_CONFIG[method]\n",
    "    print(f\"Evaluating {method} ...\")\n",
    "    # Prepare the evaluation data\n",
    "    eval_data = eval_qr_data(\n",
    "        questions=questions,\n",
    "        responses=responses,\n",
    "        retriever=retriever,\n",
    "        llm=llm,\n",
    "    )\n",
    "    # Eval\n",
    "    eval_result = evaluate(\n",
    "        dataset=eval_data,\n",
    "        metrics=metrics_list,\n",
    "        llm=eval_llm,\n",
    "    )\n",
    "    # Save the evaluation result\n",
    "    eval_result.to_pandas().to_csv(\n",
    "        os.path.join(EVAL_CACHE_DIR, f\"{method}.csv\"),\n",
    "    )\n",
    "    return eval_result"
   ]
  },
  {
   "cell_type": "code",
   "execution_count": null,
   "id": "132dff8e",
   "metadata": {},
   "outputs": [],
   "source": [
    "def parse_eval_results(\n",
    "        eval_result: Union[EvaluationResult, pd.DataFrame], \n",
    "        method_name: str,\n",
    "    ) -> pd.DataFrame:\n",
    "    \"\"\"\n",
    "    Parses the evaluation results into a DataFrame.\n",
    "    \"\"\"\n",
    "    if isinstance(eval_result, EvaluationResult):\n",
    "        # Convert the evaluation result to a DataFrame\n",
    "        eval_df = eval_result.to_pandas()\n",
    "        metrics_names = [i for i in eval_result.scores[0].keys()]\n",
    "    else:\n",
    "        # If it's already a DataFrame, use it directly\n",
    "        eval_df = eval_result\n",
    "        metrics_names = [col for col in eval_result.columns if col not in [\"user_input\", \"retrieved_contexts\", \"response\", \"reference\"]]\n",
    "    eval_df_long = pd.melt(\n",
    "        eval_df,\n",
    "        value_vars=metrics_names,  # Columns to unpivot\n",
    "        var_name='metric',             # Name for the variable column\n",
    "        value_name='score'              # Name for the value column\n",
    "    )\n",
    "    eval_df_long['method'] = method_name\n",
    "    return eval_df_long"
   ]
  },
  {
   "cell_type": "code",
   "execution_count": null,
   "id": "b2c764a6",
   "metadata": {},
   "outputs": [],
   "source": [
    "evaluator_llm = LangchainLLMWrapper(llm)"
   ]
  },
  {
   "cell_type": "code",
   "execution_count": null,
   "id": "52cc97a0",
   "metadata": {},
   "outputs": [
    {
     "name": "stdout",
     "output_type": "stream",
     "text": [
      "Evaluating LLMGraphTransformer_GraphRAG_1 ...\n"
     ]
    },
    {
     "name": "stderr",
     "output_type": "stream",
     "text": [
      "  0%|          | 0/10 [00:00<?, ?it/s]"
     ]
    },
    {
     "name": "stdout",
     "output_type": "stream",
     "text": [
      "\n",
      "\n",
      "\u001b[1m> Entering new GraphCypherQAChain chain...\u001b[0m\n"
     ]
    },
    {
     "name": "stderr",
     "output_type": "stream",
     "text": [
      "Received notification from DBMS server: {severity: WARNING} {code: Neo.ClientNotification.Statement.UnknownPropertyKeyWarning} {category: UNRECOGNIZED} {title: The provided property key is not in the database} {description: One of the property names in your query is not available in the database, make sure you didn't misspell it or that the label is available when you run this statement in your application (the missing property name is: product_type)} {position: line: 2, column: 27, offset: 33} for query: \"cypher\\nMATCH (p:Product) WHERE p.product_type = 'Moisturizer'\\nRETURN count(p) AS num_products\\n\"\n"
     ]
    },
    {
     "name": "stdout",
     "output_type": "stream",
     "text": [
      "Generated Cypher:\n",
      "\u001b[32;1m\u001b[1;3mcypher\n",
      "MATCH (p:Product) WHERE p.product_type = 'Moisturizer'\n",
      "RETURN count(p) AS num_products\n",
      "\u001b[0m\n",
      "Full Context:\n",
      "\u001b[32;1m\u001b[1;3m[{'num_products': 0}]\u001b[0m\n"
     ]
    },
    {
     "name": "stderr",
     "output_type": "stream",
     "text": [
      " 10%|█         | 1/10 [00:16<02:26, 16.28s/it]"
     ]
    },
    {
     "name": "stdout",
     "output_type": "stream",
     "text": [
      "\n",
      "\u001b[1m> Finished chain.\u001b[0m\n",
      "\n",
      "\n",
      "\u001b[1m> Entering new GraphCypherQAChain chain...\u001b[0m\n",
      "Generated Cypher:\n",
      "\u001b[32;1m\u001b[1;3mcypher\n",
      "MATCH (b:Brand {name: 'SK-II'})-[:FROM_BRAND]->(p:Product)\n",
      "RETURN count(p) AS product_count\n",
      "\u001b[0m\n"
     ]
    },
    {
     "name": "stderr",
     "output_type": "stream",
     "text": [
      "Received notification from DBMS server: {severity: WARNING} {code: Neo.ClientNotification.Statement.UnknownPropertyKeyWarning} {category: UNRECOGNIZED} {title: The provided property key is not in the database} {description: One of the property names in your query is not available in the database, make sure you didn't misspell it or that the label is available when you run this statement in your application (the missing property name is: name)} {position: line: 2, column: 17, offset: 23} for query: \"cypher\\nMATCH (b:Brand {name: 'SK-II'})-[:FROM_BRAND]->(p:Product)\\nRETURN count(p) AS product_count\\n\"\n"
     ]
    },
    {
     "name": "stdout",
     "output_type": "stream",
     "text": [
      "Full Context:\n",
      "\u001b[32;1m\u001b[1;3m[{'product_count': 0}]\u001b[0m\n"
     ]
    },
    {
     "name": "stderr",
     "output_type": "stream",
     "text": [
      " 20%|██        | 2/10 [00:29<01:56, 14.53s/it]"
     ]
    },
    {
     "name": "stdout",
     "output_type": "stream",
     "text": [
      "\n",
      "\u001b[1m> Finished chain.\u001b[0m\n",
      "\n",
      "\n",
      "\u001b[1m> Entering new GraphCypherQAChain chain...\u001b[0m\n"
     ]
    },
    {
     "name": "stderr",
     "output_type": "stream",
     "text": [
      "Received notification from DBMS server: {severity: WARNING} {code: Neo.ClientNotification.Statement.UnknownPropertyKeyWarning} {category: UNRECOGNIZED} {title: The provided property key is not in the database} {description: One of the property names in your query is not available in the database, make sure you didn't misspell it or that the label is available when you run this statement in your application (the missing property name is: name)} {position: line: 2, column: 17, offset: 23} for query: \"cypher\\nMATCH (b:Brand {name: 'LA MER'})-[:FROM_BRAND]->(p:Product)\\nWITH p\\nRETURN AVG(p.price) AS avg_price\\n\"\n",
      "Received notification from DBMS server: {severity: WARNING} {code: Neo.ClientNotification.Statement.UnknownPropertyKeyWarning} {category: UNRECOGNIZED} {title: The provided property key is not in the database} {description: One of the property names in your query is not available in the database, make sure you didn't misspell it or that the label is available when you run this statement in your application (the missing property name is: price)} {position: line: 4, column: 14, offset: 87} for query: \"cypher\\nMATCH (b:Brand {name: 'LA MER'})-[:FROM_BRAND]->(p:Product)\\nWITH p\\nRETURN AVG(p.price) AS avg_price\\n\"\n"
     ]
    },
    {
     "name": "stdout",
     "output_type": "stream",
     "text": [
      "Generated Cypher:\n",
      "\u001b[32;1m\u001b[1;3mcypher\n",
      "MATCH (b:Brand {name: 'LA MER'})-[:FROM_BRAND]->(p:Product)\n",
      "WITH p\n",
      "RETURN AVG(p.price) AS avg_price\n",
      "\u001b[0m\n",
      "Full Context:\n",
      "\u001b[32;1m\u001b[1;3m[{'avg_price': None}]\u001b[0m\n"
     ]
    },
    {
     "name": "stderr",
     "output_type": "stream",
     "text": [
      " 30%|███       | 3/10 [00:42<01:36, 13.82s/it]"
     ]
    },
    {
     "name": "stdout",
     "output_type": "stream",
     "text": [
      "\n",
      "\u001b[1m> Finished chain.\u001b[0m\n",
      "\n",
      "\n",
      "\u001b[1m> Entering new GraphCypherQAChain chain...\u001b[0m\n"
     ]
    },
    {
     "name": "stderr",
     "output_type": "stream",
     "text": [
      "Received notification from DBMS server: {severity: WARNING} {code: Neo.ClientNotification.Statement.UnknownPropertyKeyWarning} {category: UNRECOGNIZED} {title: The provided property key is not in the database} {description: One of the property names in your query is not available in the database, make sure you didn't misspell it or that the label is available when you run this statement in your application (the missing property name is: name)} {position: line: 2, column: 53, offset: 53} for query: \"\\nMATCH (p:Product)-[r:FOR_SKIN_TYPE]->(st:Skin_type {name: 'Sensitive'})\\nRETURN count(p) AS num_products\\n\"\n"
     ]
    },
    {
     "name": "stdout",
     "output_type": "stream",
     "text": [
      "Generated Cypher:\n",
      "\u001b[32;1m\u001b[1;3m\n",
      "MATCH (p:Product)-[r:FOR_SKIN_TYPE]->(st:Skin_type {name: 'Sensitive'})\n",
      "RETURN count(p) AS num_products\n",
      "\u001b[0m\n",
      "Full Context:\n",
      "\u001b[32;1m\u001b[1;3m[{'num_products': 0}]\u001b[0m\n"
     ]
    },
    {
     "name": "stderr",
     "output_type": "stream",
     "text": [
      " 40%|████      | 4/10 [00:48<01:04, 10.68s/it]"
     ]
    },
    {
     "name": "stdout",
     "output_type": "stream",
     "text": [
      "\n",
      "\u001b[1m> Finished chain.\u001b[0m\n",
      "\n",
      "\n",
      "\u001b[1m> Entering new GraphCypherQAChain chain...\u001b[0m\n"
     ]
    },
    {
     "name": "stderr",
     "output_type": "stream",
     "text": [
      "Received notification from DBMS server: {severity: WARNING} {code: Neo.ClientNotification.Statement.UnknownPropertyKeyWarning} {category: UNRECOGNIZED} {title: The provided property key is not in the database} {description: One of the property names in your query is not available in the database, make sure you didn't misspell it or that the label is available when you run this statement in your application (the missing property name is: price)} {position: line: 3, column: 10, offset: 54} for query: \"\\nMATCH (p:Product)-[r:HAS_PRICE]->(pr:Price)\\nWHERE pr.price < 50 AND p.product_type = 'Eye Cream'\\nRETURN count(p) AS num_products\\n\"\n",
      "Received notification from DBMS server: {severity: WARNING} {code: Neo.ClientNotification.Statement.UnknownPropertyKeyWarning} {category: UNRECOGNIZED} {title: The provided property key is not in the database} {description: One of the property names in your query is not available in the database, make sure you didn't misspell it or that the label is available when you run this statement in your application (the missing property name is: product_type)} {position: line: 3, column: 27, offset: 71} for query: \"\\nMATCH (p:Product)-[r:HAS_PRICE]->(pr:Price)\\nWHERE pr.price < 50 AND p.product_type = 'Eye Cream'\\nRETURN count(p) AS num_products\\n\"\n"
     ]
    },
    {
     "name": "stdout",
     "output_type": "stream",
     "text": [
      "Generated Cypher:\n",
      "\u001b[32;1m\u001b[1;3m\n",
      "MATCH (p:Product)-[r:HAS_PRICE]->(pr:Price)\n",
      "WHERE pr.price < 50 AND p.product_type = 'Eye Cream'\n",
      "RETURN count(p) AS num_products\n",
      "\u001b[0m\n",
      "Full Context:\n",
      "\u001b[32;1m\u001b[1;3m[{'num_products': 0}]\u001b[0m\n"
     ]
    },
    {
     "name": "stderr",
     "output_type": "stream",
     "text": [
      " 50%|█████     | 5/10 [01:01<00:57, 11.41s/it]"
     ]
    },
    {
     "name": "stdout",
     "output_type": "stream",
     "text": [
      "\n",
      "\u001b[1m> Finished chain.\u001b[0m\n",
      "\n",
      "\n",
      "\u001b[1m> Entering new GraphCypherQAChain chain...\u001b[0m\n"
     ]
    },
    {
     "name": "stderr",
     "output_type": "stream",
     "text": [
      " 60%|██████    | 6/10 [01:13<00:46, 11.70s/it]"
     ]
    },
    {
     "name": "stdout",
     "output_type": "stream",
     "text": [
      "Generated Cypher:\n",
      "\u001b[32;1m\u001b[1;3mTask:`Generate Cypher statement to query a graph database`.\n",
      "Instructions:`Use only the provided relationship types and properties in the schema`.\n",
      "Do not use any other relationship types or properties that are not provided.\n",
      "Schema:`Node properties`:\n",
      "Document {id: STRING}\n",
      "Chunk {id: STRING, text: STRING, textEmbedding: LIST}\n",
      "Brand {id: STRING}\n",
      "Product_type {id: STRING}\n",
      "Product {id: STRING}\n",
      "Price {id: STRING}\n",
      "Rating {id: STRING}\n",
      "Ingredients {id: STRING}\n",
      "Skin_type {id: STRING}\n",
      "Size {id: STRING}\n",
      "Description {id: STRING}\n",
      "Relationship properties:`The relationships`:\n",
      "(:Chunk)-[:PART_OF]->(:Document)\n",
      "(:Chunk)-[:HAS_PRODUCT]->(:Product)\n",
      "(:Brand)-[:FROM_BRAND]->(:Product)\n",
      "(:Product_type)-[:HAS_PRODUCT_TYPE]->(:Product)\n",
      "(:Product)-[:FROM_BRAND]->(:Brand)\n",
      "(:Product)-[:HAS_PRODUCT_TYPE]->(:Product_type)\n",
      "(:Product)-[:HAS_PRICE]->(:Price)\n",
      "(:Product)-[:HAS_RATING]->(:Rating)\n",
      "(:Product)-[:CONTAINS_INGREDIENT]->(:Ingredients)\n",
      "(:Product)-[:FOR_SKIN_TYPE]->(:Skin_type)\n",
      "(:Product)-[:IN_SIZE]->(:Size)\n",
      "(:Product)-[:HAS_DESCRIPTION]->(:Description)\n",
      "Note:`Do not include any explanations or apologies in your responses`.\n",
      "Do not respond to any questions that might ask anything else than for you to construct a Cypher statement.\n",
      "Do not include any text except the generated Cypher statement.\n",
      "\n",
      "The question is:`Which brand has the highest average product rating`(rank) in the dataset? To achieve this, we need to calculate the average rating for each brand and then rank them based on these averages. Here's a step-by-step approach to solve this problem using Cypher:\n",
      "\n",
      "1. **Identify the relevant nodes**:`We need to focus o`n `Brand` nodes since they have products associated with them.\n",
      "\n",
      "2. **Calculate the average rating for each brand**:`For each brand`, we will sum up all the ratings of its products and divide by the total number of products.\n",
      "\n",
      "3. **Rank the brands**:`We will order the brands based on their average ratings in descending order`.\n",
      "\n",
      "4. **Select the top brand**:`Since we are asked to find the brand with the highest average rating`, we will take the first brand from the ranked list.\n",
      "\n",
      "Here's the Cypher statement to achieve this:\n",
      "\n",
      "```cypher\n",
      "MATCH (b:Brand)-[p:HAS_PRODUCT]-(pr:Product)\n",
      "RETURN b.id\u001b[0m\n",
      "Cypher QA Chain failed, skipping query: Which brand has the highest average product rating (rank) in the dataset?\n",
      "\n",
      "\n",
      "\u001b[1m> Entering new GraphCypherQAChain chain...\u001b[0m\n"
     ]
    },
    {
     "name": "stderr",
     "output_type": "stream",
     "text": [
      "Received notification from DBMS server: {severity: WARNING} {code: Neo.ClientNotification.Statement.UnknownPropertyKeyWarning} {category: UNRECOGNIZED} {title: The provided property key is not in the database} {description: One of the property names in your query is not available in the database, make sure you didn't misspell it or that the label is available when you run this statement in your application (the missing property name is: for_skin_type)} {position: line: 2, column: 20, offset: 26} for query: \"cypher\\nMATCH (p1:Product {for_skin_type: 'Moisturizer'})-[r:HAS_PRICE]->(p2:Product {for_skin_type: 'Moisturizer'})\\nRETURN p2.price - p1.price AS price_difference\\nORDER BY price_difference DESC LIMIT 1\\n\"\n",
      "Received notification from DBMS server: {severity: WARNING} {code: Neo.ClientNotification.Statement.UnknownPropertyKeyWarning} {category: UNRECOGNIZED} {title: The provided property key is not in the database} {description: One of the property names in your query is not available in the database, make sure you didn't misspell it or that the label is available when you run this statement in your application (the missing property name is: for_skin_type)} {position: line: 2, column: 79, offset: 85} for query: \"cypher\\nMATCH (p1:Product {for_skin_type: 'Moisturizer'})-[r:HAS_PRICE]->(p2:Product {for_skin_type: 'Moisturizer'})\\nRETURN p2.price - p1.price AS price_difference\\nORDER BY price_difference DESC LIMIT 1\\n\"\n",
      "Received notification from DBMS server: {severity: WARNING} {code: Neo.ClientNotification.Statement.UnknownPropertyKeyWarning} {category: UNRECOGNIZED} {title: The provided property key is not in the database} {description: One of the property names in your query is not available in the database, make sure you didn't misspell it or that the label is available when you run this statement in your application (the missing property name is: price)} {position: line: 3, column: 11, offset: 126} for query: \"cypher\\nMATCH (p1:Product {for_skin_type: 'Moisturizer'})-[r:HAS_PRICE]->(p2:Product {for_skin_type: 'Moisturizer'})\\nRETURN p2.price - p1.price AS price_difference\\nORDER BY price_difference DESC LIMIT 1\\n\"\n",
      "Received notification from DBMS server: {severity: WARNING} {code: Neo.ClientNotification.Statement.UnknownPropertyKeyWarning} {category: UNRECOGNIZED} {title: The provided property key is not in the database} {description: One of the property names in your query is not available in the database, make sure you didn't misspell it or that the label is available when you run this statement in your application (the missing property name is: price)} {position: line: 3, column: 22, offset: 137} for query: \"cypher\\nMATCH (p1:Product {for_skin_type: 'Moisturizer'})-[r:HAS_PRICE]->(p2:Product {for_skin_type: 'Moisturizer'})\\nRETURN p2.price - p1.price AS price_difference\\nORDER BY price_difference DESC LIMIT 1\\n\"\n"
     ]
    },
    {
     "name": "stdout",
     "output_type": "stream",
     "text": [
      "Generated Cypher:\n",
      "\u001b[32;1m\u001b[1;3mcypher\n",
      "MATCH (p1:Product {for_skin_type: 'Moisturizer'})-[r:HAS_PRICE]->(p2:Product {for_skin_type: 'Moisturizer'})\n",
      "RETURN p2.price - p1.price AS price_difference\n",
      "ORDER BY price_difference DESC LIMIT 1\n",
      "\u001b[0m\n",
      "Full Context:\n",
      "\u001b[32;1m\u001b[1;3m[]\u001b[0m\n"
     ]
    },
    {
     "name": "stderr",
     "output_type": "stream",
     "text": [
      " 70%|███████   | 7/10 [01:19<00:29,  9.74s/it]"
     ]
    },
    {
     "name": "stdout",
     "output_type": "stream",
     "text": [
      "\n",
      "\u001b[1m> Finished chain.\u001b[0m\n",
      "\n",
      "\n",
      "\u001b[1m> Entering new GraphCypherQAChain chain...\u001b[0m\n",
      "Generated Cypher:\n",
      "\u001b[32;1m\u001b[1;3mTask:`Generate Cypher statement to query a graph database`.\n",
      "Instructions:`Use only the provided relationship types and properties in the schema`.\n",
      "Do not use any other relationship types or properties that are not provided.\n",
      "Schema:`Node properties`:\n",
      "Document {id: STRING}\n",
      "Chunk {id: STRING, text: STRING, textEmbedding: LIST}\n",
      "Brand {id: STRING}\n",
      "Product_type {id: STRING}\n",
      "Product {id: STRING}\n",
      "Price {id: STRING}\n",
      "Rating {id: STRING}\n",
      "Ingredients {id: STRING}\n",
      "Skin_type {id: STRING}\n",
      "Size {id: STRING}\n",
      "Description {id: STRING}\n",
      "Relationship properties:`The relationships`:\n",
      "(:Chunk)-[:PART_OF]->(:Document)\n",
      "(:Chunk)-[:HAS_PRODUCT]->(:Product)\n",
      "(:Brand)-[:FROM_BRAND]->(:Product)\n",
      "(:Product_type)-[:HAS_PRODUCT_TYPE]->(:Product)\n",
      "(:Product)-[:FROM_BRAND]->(:Brand)\n",
      "(:Product)-[:HAS_PRODUCT_TYPE]->(:Product_type)\n",
      "(:Product)-[:HAS_PRICE]->(:Price)\n",
      "(:Product)-[:HAS_RATING]->(:Rating)\n",
      "(:Product)-[:CONTAINS_INGREDIENT]->(:Ingredients)\n",
      "(:Product)-[:FOR_SKIN_TYPE]->(:Skin_type)\n",
      "(:Product)-[:IN_SIZE]->(:Size)\n",
      "(:Product)-[:HAS_DESCRIPTION]->(:Description)\n",
      "Note:`Do not include any explanations or apologies in your responses`.\n",
      "Do not respond to any questions that might ask anything else than for you to construct a Cypher statement.\n",
      "Do not include any text except the generated Cypher statement.\n",
      "\n",
      "The question is:`Which skin type has the most product options available`, and how many more products does it have compared to the least represented skin type? \n",
      "To answer this question, we need to find the skin type with the highest number of product options and the skin type with the lowest number of product options. We can then calculate the difference between these two numbers.\n",
      "Here's a step-by-step approach to constructing the Cypher statement:\n",
      "1. Find all skin types in the database using the `MATCH` clause with the pattern `(s:Skin_type)`.\n",
      "2. Count the number of products associated with each skin type using the `COUNT` function with the pattern `(p:Product)-[:FOR_SKIN_TYPE]->(s)`.\n",
      "3. Order the results by the count of products in descending order using the `ORDER BY` clause with the expression `count(p)` DESC.\n",
      "4. Limit the results to the top 2 skin types using the `LIMIT` clause with the value 2.\n",
      "5. Calculate the\u001b[0m\n"
     ]
    },
    {
     "name": "stderr",
     "output_type": "stream",
     "text": [
      " 80%|████████  | 8/10 [01:31<00:21, 10.56s/it]"
     ]
    },
    {
     "name": "stdout",
     "output_type": "stream",
     "text": [
      "Cypher QA Chain failed, skipping query: Which skin type has the most product options available, and how many more products does it have compared to the least represented skin type?\n",
      "\n",
      "\n",
      "\u001b[1m> Entering new GraphCypherQAChain chain...\u001b[0m\n"
     ]
    },
    {
     "name": "stderr",
     "output_type": "stream",
     "text": [
      "Received notification from DBMS server: {severity: WARNING} {code: Neo.ClientNotification.Statement.UnknownPropertyKeyWarning} {category: UNRECOGNIZED} {title: The provided property key is not in the database} {description: One of the property names in your query is not available in the database, make sure you didn't misspell it or that the label is available when you run this statement in your application (the missing property name is: name)} {position: line: 2, column: 52, offset: 58} for query: \"cypher\\nMATCH (b1:Brand)-[:FOR_SKIN_TYPE]->(st1:Skin_type {name: 'Dry'})-[:HAS_PRODUCT]->(p1:Product)\\nWHERE b1.name IN ['SK-II', 'ESTEE LAUDER']\\nRETURN b1.name AS BrandName, count(*) AS NumberOfProducts, min(p1.price) AS MinPrice, max(p1.price) AS MaxPrice\\nORDER BY NumberOfProducts DESC;\\n\"\n",
      "Received notification from DBMS server: {severity: WARNING} {code: Neo.ClientNotification.Statement.UnknownPropertyKeyWarning} {category: UNRECOGNIZED} {title: The provided property key is not in the database} {description: One of the property names in your query is not available in the database, make sure you didn't misspell it or that the label is available when you run this statement in your application (the missing property name is: name)} {position: line: 3, column: 10, offset: 110} for query: \"cypher\\nMATCH (b1:Brand)-[:FOR_SKIN_TYPE]->(st1:Skin_type {name: 'Dry'})-[:HAS_PRODUCT]->(p1:Product)\\nWHERE b1.name IN ['SK-II', 'ESTEE LAUDER']\\nRETURN b1.name AS BrandName, count(*) AS NumberOfProducts, min(p1.price) AS MinPrice, max(p1.price) AS MaxPrice\\nORDER BY NumberOfProducts DESC;\\n\"\n",
      "Received notification from DBMS server: {severity: WARNING} {code: Neo.ClientNotification.Statement.UnknownPropertyKeyWarning} {category: UNRECOGNIZED} {title: The provided property key is not in the database} {description: One of the property names in your query is not available in the database, make sure you didn't misspell it or that the label is available when you run this statement in your application (the missing property name is: name)} {position: line: 4, column: 11, offset: 154} for query: \"cypher\\nMATCH (b1:Brand)-[:FOR_SKIN_TYPE]->(st1:Skin_type {name: 'Dry'})-[:HAS_PRODUCT]->(p1:Product)\\nWHERE b1.name IN ['SK-II', 'ESTEE LAUDER']\\nRETURN b1.name AS BrandName, count(*) AS NumberOfProducts, min(p1.price) AS MinPrice, max(p1.price) AS MaxPrice\\nORDER BY NumberOfProducts DESC;\\n\"\n",
      "Received notification from DBMS server: {severity: WARNING} {code: Neo.ClientNotification.Statement.UnknownPropertyKeyWarning} {category: UNRECOGNIZED} {title: The provided property key is not in the database} {description: One of the property names in your query is not available in the database, make sure you didn't misspell it or that the label is available when you run this statement in your application (the missing property name is: price)} {position: line: 4, column: 94, offset: 237} for query: \"cypher\\nMATCH (b1:Brand)-[:FOR_SKIN_TYPE]->(st1:Skin_type {name: 'Dry'})-[:HAS_PRODUCT]->(p1:Product)\\nWHERE b1.name IN ['SK-II', 'ESTEE LAUDER']\\nRETURN b1.name AS BrandName, count(*) AS NumberOfProducts, min(p1.price) AS MinPrice, max(p1.price) AS MaxPrice\\nORDER BY NumberOfProducts DESC;\\n\"\n",
      "Received notification from DBMS server: {severity: WARNING} {code: Neo.ClientNotification.Statement.UnknownPropertyKeyWarning} {category: UNRECOGNIZED} {title: The provided property key is not in the database} {description: One of the property names in your query is not available in the database, make sure you didn't misspell it or that the label is available when you run this statement in your application (the missing property name is: price)} {position: line: 4, column: 67, offset: 210} for query: \"cypher\\nMATCH (b1:Brand)-[:FOR_SKIN_TYPE]->(st1:Skin_type {name: 'Dry'})-[:HAS_PRODUCT]->(p1:Product)\\nWHERE b1.name IN ['SK-II', 'ESTEE LAUDER']\\nRETURN b1.name AS BrandName, count(*) AS NumberOfProducts, min(p1.price) AS MinPrice, max(p1.price) AS MaxPrice\\nORDER BY NumberOfProducts DESC;\\n\"\n"
     ]
    },
    {
     "name": "stdout",
     "output_type": "stream",
     "text": [
      "Generated Cypher:\n",
      "\u001b[32;1m\u001b[1;3mcypher\n",
      "MATCH (b1:Brand)-[:FOR_SKIN_TYPE]->(st1:Skin_type {name: 'Dry'})-[:HAS_PRODUCT]->(p1:Product)\n",
      "WHERE b1.name IN ['SK-II', 'ESTEE LAUDER']\n",
      "RETURN b1.name AS BrandName, count(*) AS NumberOfProducts, min(p1.price) AS MinPrice, max(p1.price) AS MaxPrice\n",
      "ORDER BY NumberOfProducts DESC;\n",
      "\u001b[0m\n",
      "Full Context:\n",
      "\u001b[32;1m\u001b[1;3m[]\u001b[0m\n"
     ]
    },
    {
     "name": "stderr",
     "output_type": "stream",
     "text": [
      " 90%|█████████ | 9/10 [01:44<00:11, 11.28s/it]"
     ]
    },
    {
     "name": "stdout",
     "output_type": "stream",
     "text": [
      "\n",
      "\u001b[1m> Finished chain.\u001b[0m\n",
      "\n",
      "\n",
      "\u001b[1m> Entering new GraphCypherQAChain chain...\u001b[0m\n"
     ]
    },
    {
     "name": "stderr",
     "output_type": "stream",
     "text": [
      "100%|██████████| 10/10 [01:56<00:00, 11.67s/it]"
     ]
    },
    {
     "name": "stdout",
     "output_type": "stream",
     "text": [
      "Generated Cypher:\n",
      "\u001b[32;1m\u001b[1;3mTask:`Generate Cypher statement to query a graph database`.\n",
      "Instructions:`Use only the provided relationship types and properties in the schema`.\n",
      "Do not use any other relationship types or properties that are not provided.\n",
      "Schema:`Node properties`:\n",
      "Document {id: STRING}\n",
      "Chunk {id: STRING, text: STRING, textEmbedding: LIST}\n",
      "Brand {id: STRING}\n",
      "Product_type {id: STRING}\n",
      "Product {id: STRING}\n",
      "Price {id: STRING}\n",
      "Rating {id: STRING}\n",
      "Ingredients {id: STRING}\n",
      "Skin_type {id: STRING}\n",
      "Size {id: STRING}\n",
      "Description {id: STRING}\n",
      "Relationship properties:`The relationships`:\n",
      "(:Chunk)-[:PART_OF]->(:Document)\n",
      "(:Chunk)-[:HAS_PRODUCT]->(:Product)\n",
      "(:Brand)-[:FROM_BRAND]->(:Product)\n",
      "(:Product_type)-[:HAS_PRODUCT_TYPE]->(:Product)\n",
      "(:Product)-[:FROM_BRAND]->(:Brand)\n",
      "(:Product)-[:HAS_PRODUCT_TYPE]->(:Product_type)\n",
      "(:Product)-[:HAS_PRICE]->(:Price)\n",
      "(:Product)-[:HAS_RATING]->(:Rating)\n",
      "(:Product)-[:CONTAINS_INGREDIENT]->(:Ingredients)\n",
      "(:Product)-[:FOR_SKIN_TYPE]->(:Skin_type)\n",
      "(:Product)-[:IN_SIZE]->(:Size)\n",
      "(:Product)-[:HAS_DESCRIPTION]->(:Description)\n",
      "Note:`Do not include any explanations or apologies in your responses`.\n",
      "Do not respond to any questions that might ask anything else than for you to construct a Cypher statement.\n",
      "Do not include any text except the generated Cypher statement.\n",
      "\n",
      "The question is:`Compare the average prices of face masks versus eye creams`. Which product type is more expensive on average and by how much? Also, which brand has the highest average price across all products?\n",
      "Cypher statement:\n",
      "MATCH (p:Product)-[r:HAS_PRICE]->(pr:Price) WHERE r.product_type = 'Face mask' OR r.product_type = 'Eye cream'\n",
      "RETURN AVG(pr.price) AS avg_price_face_mask, AVG(pr.price) AS avg_price_eye_cream, p.product_type AS product_type\n",
      "ORDER BY avg_price_face_mask DESC, avg_price_eye_cream DESC\n",
      "WITH avg_price_face_mask, avg_price_eye_cream, p.product_type AS product_type\n",
      "WHERE avg_price_face_mask > avg_price_eye_cream\n",
      "RETURN product_type, avg_price_face_mask - avg_price_eye_cream AS price_difference\n",
      "MATCH (b:Brand)-[rp:FROM_BRAND]->(p:Product)\n",
      "RETURN b.id AS brand_id, AVG(rp.price) AS avg_br\u001b[0m\n",
      "Cypher QA Chain failed, skipping query: Compare the average prices of face masks versus eye creams. Which product type is more expensive on average and by how much?\n"
     ]
    },
    {
     "name": "stderr",
     "output_type": "stream",
     "text": [
      "\n"
     ]
    },
    {
     "data": {
      "application/vnd.jupyter.widget-view+json": {
       "model_id": "f88e2be882014b1a94a3677d231f1f23",
       "version_major": 2,
       "version_minor": 0
      },
      "text/plain": [
       "Evaluating:   0%|          | 0/21 [00:00<?, ?it/s]"
      ]
     },
     "metadata": {},
     "output_type": "display_data"
    },
    {
     "name": "stdout",
     "output_type": "stream",
     "text": [
      "Loading result of LLMGraphTransformer_GraphRAG_1_1 ...\n"
     ]
    },
    {
     "data": {
      "text/plain": [
       "(45, 3)"
      ]
     },
     "execution_count": 21,
     "metadata": {},
     "output_type": "execute_result"
    }
   ],
   "source": [
    "eval_df = pd.DataFrame()\n",
    "if not os.path.exists(EVAL_CACHE_DIR):\n",
    "    os.makedirs(EVAL_CACHE_DIR)\n",
    "for method in EVAL_SET:\n",
    "    if os.path.exists(os.path.join(EVAL_CACHE_DIR, f\"{method}.csv\")):\n",
    "        print(f\"Loading result of {method} ...\")\n",
    "        eval_result = pd.read_csv(os.path.join(EVAL_CACHE_DIR, f\"{method}.csv\"), index_col=0)\n",
    "    else:\n",
    "        eval_result = eval(method, evaluator_llm)\n",
    "    df = parse_eval_results(eval_result, method)\n",
    "    eval_df = pd.concat([eval_df, df], ignore_index=True)\n",
    "eval_df.shape"
   ]
  },
  {
   "cell_type": "code",
   "execution_count": null,
   "id": "28c56f25",
   "metadata": {},
   "outputs": [
    {
     "data": {
      "image/png": "[encoded data removed]",
      "text/plain": [
       "<Figure size 640x480 with 1 Axes>"
      ]
     },
     "metadata": {},
     "output_type": "display_data"
    }
   ],
   "source": [
    "# boxplot for all metrics\n",
    "sns.boxplot(\n",
    "    x=\"metric\",\n",
    "    y=\"score\",\n",
    "    hue=\"method\",\n",
    "    hue_order=EVAL_SET,\n",
    "    data=eval_df,\n",
    "    palette=\"Set3\",\n",
    "    showfliers=False,\n",
    ")\n",
    "plt.xticks(rotation=30)\n",
    "plt.title(f\"Semantic RAG Pipeline Evaluation (K: {TOP_K}, Evaluation Size: {SUBSET_SIZE if SUBSET_SIZE > 0 else size})\")\n",
    "plt.legend(title=\"Method\", loc=\"upper left\", bbox_to_anchor=(1, 1))\n",
    "plt.xlabel(\"Metrics\")\n",
    "plt.ylabel(\"Scores\")\n",
    "plt.show()"
   ]
  },
  {
   "cell_type": "code",
   "execution_count": null,
   "id": "ff5acb82",
   "metadata": {},
   "outputs": [
    {
     "data": {
      "image/png": "[encoded data removed]",
      "text/plain": [
       "<Figure size 640x480 with 1 Axes>"
      ]
     },
     "metadata": {},
     "output_type": "display_data"
    }
   ],
   "source": [
    "# bar plot for all metrics\n",
    "sns.barplot(\n",
    "    x=\"metric\",\n",
    "    y=\"score\",\n",
    "    hue=\"method\",\n",
    "    hue_order=EVAL_SET,\n",
    "    data=eval_df,\n",
    "    palette=\"Set3\",\n",
    ")\n",
    "plt.xticks(rotation=30)\n",
    "plt.title(f\"Semantic RAG Pipeline Evaluation (K: {TOP_K}, Evaluation Size: {SUBSET_SIZE if SUBSET_SIZE > 0 else size})\")\n",
    "plt.legend(title=\"Method\", loc=\"upper left\", bbox_to_anchor=(1, 1))\n",
    "plt.xlabel(\"Metrics\")\n",
    "plt.ylabel(\"Scores\")\n",
    "plt.show()\n",
    "# Save the evaluation result"
   ]
  },
  {
   "cell_type": "code",
   "execution_count": null,
   "id": "41853323",
   "metadata": {},
   "outputs": [],
   "source": []
  }
 ],
 "metadata": {
  "kernelspec": {
   "display_name": "graphrag",
   "language": "python",
   "name": "python3"
  },
  "language_info": {
   "codemirror_mode": {
    "name": "ipython",
    "version": 3
   },
   "file_extension": ".py",
   "mimetype": "text/x-python",
   "name": "python",
   "nbconvert_exporter": "python",
   "pygments_lexer": "ipython3",
   "version": "3.12.9"
  }
 },
 "nbformat": 4,
 "nbformat_minor": 5
}
