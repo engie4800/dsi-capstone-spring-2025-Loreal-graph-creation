{
 "cells": [
  {
   "cell_type": "code",
   "execution_count": 27,
   "metadata": {},
   "outputs": [],
   "source": [
    "import pandas as pd\n",
    "import ast"
   ]
  },
  {
   "cell_type": "code",
   "execution_count": 31,
   "metadata": {},
   "outputs": [],
   "source": [
    "df = pd.read_csv(\"data/cosmetics_25_products (1).csv\")"
   ]
  },
  {
   "cell_type": "code",
   "execution_count": 32,
   "metadata": {},
   "outputs": [
    {
     "data": {
      "text/html": [
       "<div>\n",
       "<style scoped>\n",
       "    .dataframe tbody tr th:only-of-type {\n",
       "        vertical-align: middle;\n",
       "    }\n",
       "\n",
       "    .dataframe tbody tr th {\n",
       "        vertical-align: top;\n",
       "    }\n",
       "\n",
       "    .dataframe thead th {\n",
       "        text-align: right;\n",
       "    }\n",
       "</style>\n",
       "<table border=\"1\" class=\"dataframe\">\n",
       "  <thead>\n",
       "    <tr style=\"text-align: right;\">\n",
       "      <th></th>\n",
       "      <th>Product Type</th>\n",
       "      <th>Brand</th>\n",
       "      <th>Product Name</th>\n",
       "      <th>Price</th>\n",
       "      <th>Rank</th>\n",
       "      <th>Ingredients</th>\n",
       "      <th>For Skin Type</th>\n",
       "      <th>Size</th>\n",
       "      <th>Description</th>\n",
       "    </tr>\n",
       "  </thead>\n",
       "  <tbody>\n",
       "    <tr>\n",
       "      <th>0</th>\n",
       "      <td>Moisturizer</td>\n",
       "      <td>SK-II</td>\n",
       "      <td>Facial Treatment Essence</td>\n",
       "      <td>179</td>\n",
       "      <td>4.1</td>\n",
       "      <td>Galactomyces Ferment Filtrate (Pitera), Butyle...</td>\n",
       "      <td>['Dry', 'Normal', 'Oily', 'Sensitive']</td>\n",
       "      <td>5.0 oz (150ml)</td>\n",
       "      <td>A signature essence with 90% Pitera, a bio-ing...</td>\n",
       "    </tr>\n",
       "    <tr>\n",
       "      <th>1</th>\n",
       "      <td>Moisturizer</td>\n",
       "      <td>LA MER</td>\n",
       "      <td>The Moisturizing Soft Cream</td>\n",
       "      <td>175</td>\n",
       "      <td>3.8</td>\n",
       "      <td>Algae (Seaweed) Extract, Cyclopentasiloxane, P...</td>\n",
       "      <td>['Dry', 'Normal', 'Oily', 'Sensitive']</td>\n",
       "      <td>1.0 oz (30ml)</td>\n",
       "      <td>A silky-soft cream powered by miracle broth th...</td>\n",
       "    </tr>\n",
       "    <tr>\n",
       "      <th>2</th>\n",
       "      <td>Moisturizer</td>\n",
       "      <td>SK-II</td>\n",
       "      <td>GenOptics Aura Essence Serum</td>\n",
       "      <td>240</td>\n",
       "      <td>4.1</td>\n",
       "      <td>Water, Galactomyces Ferment Filtrate (Pitera),...</td>\n",
       "      <td>['Dry', 'Normal', 'Oily', 'Sensitive']</td>\n",
       "      <td>1.7 oz (50ml)</td>\n",
       "      <td>A brightening serum that targets dark spots an...</td>\n",
       "    </tr>\n",
       "    <tr>\n",
       "      <th>3</th>\n",
       "      <td>Moisturizer</td>\n",
       "      <td>SK-II</td>\n",
       "      <td>Facial Treatment Essence Mini</td>\n",
       "      <td>99</td>\n",
       "      <td>4.1</td>\n",
       "      <td>Galactomyces Ferment Filtrate (Pitera), Butyle...</td>\n",
       "      <td>['Dry', 'Normal', 'Oily', 'Sensitive']</td>\n",
       "      <td>2.5 oz (75ml)</td>\n",
       "      <td>A travel-sized version of SK-II's iconic essen...</td>\n",
       "    </tr>\n",
       "    <tr>\n",
       "      <th>4</th>\n",
       "      <td>Moisturizer</td>\n",
       "      <td>LA MER</td>\n",
       "      <td>The Moisturizing Cool Gel Cream</td>\n",
       "      <td>175</td>\n",
       "      <td>3.3</td>\n",
       "      <td>Visit the La Mer boutique</td>\n",
       "      <td>['Dry', 'Normal', 'Oily', 'Sensitive']</td>\n",
       "      <td>1.0 oz (30ml)</td>\n",
       "      <td>A lightweight gel cream that delivers the bene...</td>\n",
       "    </tr>\n",
       "  </tbody>\n",
       "</table>\n",
       "</div>"
      ],
      "text/plain": [
       "  Product Type   Brand                     Product Name  Price  Rank  \\\n",
       "0  Moisturizer   SK-II         Facial Treatment Essence    179   4.1   \n",
       "1  Moisturizer  LA MER      The Moisturizing Soft Cream    175   3.8   \n",
       "2  Moisturizer   SK-II     GenOptics Aura Essence Serum    240   4.1   \n",
       "3  Moisturizer   SK-II    Facial Treatment Essence Mini     99   4.1   \n",
       "4  Moisturizer  LA MER  The Moisturizing Cool Gel Cream    175   3.3   \n",
       "\n",
       "                                         Ingredients  \\\n",
       "0  Galactomyces Ferment Filtrate (Pitera), Butyle...   \n",
       "1  Algae (Seaweed) Extract, Cyclopentasiloxane, P...   \n",
       "2  Water, Galactomyces Ferment Filtrate (Pitera),...   \n",
       "3  Galactomyces Ferment Filtrate (Pitera), Butyle...   \n",
       "4                          Visit the La Mer boutique   \n",
       "\n",
       "                            For Skin Type            Size  \\\n",
       "0  ['Dry', 'Normal', 'Oily', 'Sensitive']  5.0 oz (150ml)   \n",
       "1  ['Dry', 'Normal', 'Oily', 'Sensitive']   1.0 oz (30ml)   \n",
       "2  ['Dry', 'Normal', 'Oily', 'Sensitive']   1.7 oz (50ml)   \n",
       "3  ['Dry', 'Normal', 'Oily', 'Sensitive']   2.5 oz (75ml)   \n",
       "4  ['Dry', 'Normal', 'Oily', 'Sensitive']   1.0 oz (30ml)   \n",
       "\n",
       "                                         Description  \n",
       "0  A signature essence with 90% Pitera, a bio-ing...  \n",
       "1  A silky-soft cream powered by miracle broth th...  \n",
       "2  A brightening serum that targets dark spots an...  \n",
       "3  A travel-sized version of SK-II's iconic essen...  \n",
       "4  A lightweight gel cream that delivers the bene...  "
      ]
     },
     "execution_count": 32,
     "metadata": {},
     "output_type": "execute_result"
    }
   ],
   "source": [
    "df.head()"
   ]
  },
  {
   "cell_type": "code",
   "execution_count": 33,
   "metadata": {},
   "outputs": [
    {
     "data": {
      "text/plain": [
       "Index(['Product Type', 'Brand', 'Product Name', 'Price', 'Rank', 'Ingredients',\n",
       "       'For Skin Type', 'Size', 'Description'],\n",
       "      dtype='object')"
      ]
     },
     "execution_count": 33,
     "metadata": {},
     "output_type": "execute_result"
    }
   ],
   "source": [
    "df.columns"
   ]
  },
  {
   "cell_type": "code",
   "execution_count": 34,
   "metadata": {},
   "outputs": [
    {
     "name": "stdout",
     "output_type": "stream",
     "text": [
      "<class 'str'>\n"
     ]
    }
   ],
   "source": [
    "for i, row in df.iterrows():\n",
    "    print(type(row[\"For Skin Type\"]))\n",
    "    break"
   ]
  },
  {
   "cell_type": "code",
   "execution_count": 36,
   "metadata": {},
   "outputs": [],
   "source": [
    "file_name = f'unstructured.txt'\n",
    "\n",
    "with open(file_name, 'w') as file:\n",
    "    for i, row in df.iterrows():\n",
    "        \n",
    "        def list_to_str(ingred_list):\n",
    "            to_return = \"\"\n",
    "            first = True\n",
    "            for elem in ingred_list:\n",
    "                if not first:\n",
    "                    to_return += \" \"\n",
    "                first = False\n",
    "                to_return += elem\n",
    "            return to_return\n",
    "\n",
    "        def clean_text(text):\n",
    "            return str(text).replace('\\u2028', '').replace('\\u2029', '').replace('\\r', '').replace('\\n', ' ').strip()\n",
    "\n",
    "        new_line = (\n",
    "            \"Product Type: \" + clean_text(row['Product Type']) + \"\\n\" +\n",
    "            \"Brand: \" + clean_text(row['Brand']) + \"\\n\" +\n",
    "            \"Product Name: \" + clean_text(row['Product Name']) + \"\\n\" +\n",
    "            \"Price: \" + clean_text(row['Price']) + \"\\n\" +\n",
    "            \"Rank: \" + clean_text(row['Rank']) + \"\\n\" +\n",
    "            \"Ingredients: \" + clean_text(row['Ingredients']) + \"\\n\" +\n",
    "            \"For Skin Type: \" + clean_text(list_to_str(ast.literal_eval(row['For Skin Type']))) + \"\\n\" +\n",
    "            \"Size: \" + clean_text(row['Size']) + \"\\n\" + \n",
    "            \"Description: \" + clean_text(row['Description']) + \"\\n\\n\"\n",
    "        )\n",
    "        \n",
    "        file.write(new_line)\n",
    "\n",
    "file.close()\n"
   ]
  },
  {
   "cell_type": "code",
   "execution_count": null,
   "metadata": {},
   "outputs": [],
   "source": []
  }
 ],
 "metadata": {
  "kernelspec": {
   "display_name": "Capstone311",
   "language": "python",
   "name": "python3"
  },
  "language_info": {
   "codemirror_mode": {
    "name": "ipython",
    "version": 3
   },
   "file_extension": ".py",
   "mimetype": "text/x-python",
   "name": "python",
   "nbconvert_exporter": "python",
   "pygments_lexer": "ipython3",
   "version": "3.11.9"
  }
 },
 "nbformat": 4,
 "nbformat_minor": 2
}
