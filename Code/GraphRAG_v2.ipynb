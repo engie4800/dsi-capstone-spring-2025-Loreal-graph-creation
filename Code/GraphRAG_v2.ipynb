{
 "cells": [
  {
   "cell_type": "markdown",
   "metadata": {},
   "source": [
    "# GraphRAG Implementation with LlamaIndex - V2\n",
    "\n",
    "[GraphRAG (Graphs + Retrieval Augmented Generation)](https://www.microsoft.com/en-us/research/project/graphrag/) combines the strengths of Retrieval Augmented Generation (RAG) and Query-Focused Summarization (QFS) to effectively handle complex queries over large text datasets. While RAG excels in fetching precise information, it struggles with broader queries that require thematic understanding, a challenge that QFS addresses but cannot scale well. GraphRAG integrates these approaches to offer responsive and thorough querying capabilities across extensive, diverse text corpora.\n",
    "\n",
    "This notebook provides guidance on constructing the GraphRAG pipeline using the LlamaIndex PropertyGraph abstractions using Neo4J.\n",
    "\n",
    "This notebook updates the GraphRAG pipeline to v2. If you haven’t checked v1 yet, you can find it [here](https://github.com/run-llama/llama_index/blob/main/docs/docs/examples/cookbooks/GraphRAG_v1.ipynb). Following are the updates to the existing implementation:\n",
    "\n",
    "1. Integrate with Neo4J Graph database.\n",
    "2. Embedding based retrieval.\n",
    "\n"
   ]
  },
  {
   "cell_type": "markdown",
   "metadata": {},
   "source": [
    "## Installation\n",
    "\n",
    "`graspologic` is used to use hierarchical_leiden for building communities."
   ]
  },
  {
   "cell_type": "code",
   "execution_count": 1,
   "metadata": {},
   "outputs": [
    {
     "name": "stdout",
     "output_type": "stream",
     "text": [
      "Requirement already satisfied: llama-index in /Users/brandonkeung/.pyenv/versions/3.11.9/envs/EvalCapstone311/lib/python3.11/site-packages (0.12.32)\n",
      "Requirement already satisfied: llama-index-graph-stores-neo4j in /Users/brandonkeung/.pyenv/versions/3.11.9/envs/EvalCapstone311/lib/python3.11/site-packages (0.4.6)\n",
      "Requirement already satisfied: graspologic in /Users/brandonkeung/.pyenv/versions/3.11.9/envs/EvalCapstone311/lib/python3.11/site-packages (3.3.0)\n",
      "Requirement already satisfied: numpy==1.24.4 in /Users/brandonkeung/.pyenv/versions/3.11.9/envs/EvalCapstone311/lib/python3.11/site-packages (1.24.4)\n",
      "Requirement already satisfied: scipy==1.12.0 in /Users/brandonkeung/.pyenv/versions/3.11.9/envs/EvalCapstone311/lib/python3.11/site-packages (1.12.0)\n",
      "Requirement already satisfied: future in /Users/brandonkeung/.pyenv/versions/3.11.9/envs/EvalCapstone311/lib/python3.11/site-packages (1.0.0)\n",
      "Requirement already satisfied: llama-index-agent-openai<0.5.0,>=0.4.0 in /Users/brandonkeung/.pyenv/versions/3.11.9/envs/EvalCapstone311/lib/python3.11/site-packages (from llama-index) (0.4.6)\n",
      "Requirement already satisfied: llama-index-cli<0.5.0,>=0.4.1 in /Users/brandonkeung/.pyenv/versions/3.11.9/envs/EvalCapstone311/lib/python3.11/site-packages (from llama-index) (0.4.1)\n",
      "Requirement already satisfied: llama-index-core<0.13.0,>=0.12.32 in /Users/brandonkeung/.pyenv/versions/3.11.9/envs/EvalCapstone311/lib/python3.11/site-packages (from llama-index) (0.12.32)\n",
      "Requirement already satisfied: llama-index-embeddings-openai<0.4.0,>=0.3.0 in /Users/brandonkeung/.pyenv/versions/3.11.9/envs/EvalCapstone311/lib/python3.11/site-packages (from llama-index) (0.3.1)\n",
      "Requirement already satisfied: llama-index-indices-managed-llama-cloud>=0.4.0 in /Users/brandonkeung/.pyenv/versions/3.11.9/envs/EvalCapstone311/lib/python3.11/site-packages (from llama-index) (0.6.11)\n",
      "Requirement already satisfied: llama-index-llms-openai<0.4.0,>=0.3.0 in /Users/brandonkeung/.pyenv/versions/3.11.9/envs/EvalCapstone311/lib/python3.11/site-packages (from llama-index) (0.3.38)\n",
      "Requirement already satisfied: llama-index-multi-modal-llms-openai<0.5.0,>=0.4.0 in /Users/brandonkeung/.pyenv/versions/3.11.9/envs/EvalCapstone311/lib/python3.11/site-packages (from llama-index) (0.4.3)\n",
      "Requirement already satisfied: llama-index-program-openai<0.4.0,>=0.3.0 in /Users/brandonkeung/.pyenv/versions/3.11.9/envs/EvalCapstone311/lib/python3.11/site-packages (from llama-index) (0.3.1)\n",
      "Requirement already satisfied: llama-index-question-gen-openai<0.4.0,>=0.3.0 in /Users/brandonkeung/.pyenv/versions/3.11.9/envs/EvalCapstone311/lib/python3.11/site-packages (from llama-index) (0.3.0)\n",
      "Requirement already satisfied: llama-index-readers-file<0.5.0,>=0.4.0 in /Users/brandonkeung/.pyenv/versions/3.11.9/envs/EvalCapstone311/lib/python3.11/site-packages (from llama-index) (0.4.7)\n",
      "Requirement already satisfied: llama-index-readers-llama-parse>=0.4.0 in /Users/brandonkeung/.pyenv/versions/3.11.9/envs/EvalCapstone311/lib/python3.11/site-packages (from llama-index) (0.4.0)\n",
      "Requirement already satisfied: nltk>3.8.1 in /Users/brandonkeung/.pyenv/versions/3.11.9/envs/EvalCapstone311/lib/python3.11/site-packages (from llama-index) (3.9.1)\n",
      "Requirement already satisfied: neo4j<6.0.0,>=5.16.0 in /Users/brandonkeung/.pyenv/versions/3.11.9/envs/EvalCapstone311/lib/python3.11/site-packages (from llama-index-graph-stores-neo4j) (5.28.1)\n",
      "Requirement already satisfied: anytree>=2.8.0 in /Users/brandonkeung/.pyenv/versions/3.11.9/envs/EvalCapstone311/lib/python3.11/site-packages (from graspologic) (2.13.0)\n",
      "Requirement already satisfied: beartype>=0.10.0 in /Users/brandonkeung/.pyenv/versions/3.11.9/envs/EvalCapstone311/lib/python3.11/site-packages (from graspologic) (0.20.2)\n",
      "Requirement already satisfied: gensim!=4.2.0,>=4.0.0 in /Users/brandonkeung/.pyenv/versions/3.11.9/envs/EvalCapstone311/lib/python3.11/site-packages (from graspologic) (4.3.3)\n",
      "Requirement already satisfied: graspologic-native>=1.1.1 in /Users/brandonkeung/.pyenv/versions/3.11.9/envs/EvalCapstone311/lib/python3.11/site-packages (from graspologic) (1.2.5)\n",
      "Requirement already satisfied: hyppo>=0.3.2 in /Users/brandonkeung/.pyenv/versions/3.11.9/envs/EvalCapstone311/lib/python3.11/site-packages (from graspologic) (0.5.1)\n",
      "Requirement already satisfied: joblib>=0.17.0 in /Users/brandonkeung/.pyenv/versions/3.11.9/envs/EvalCapstone311/lib/python3.11/site-packages (from graspologic) (1.4.2)\n",
      "Requirement already satisfied: matplotlib!=3.3.*,!=3.6.1,>=3.0.0 in /Users/brandonkeung/.pyenv/versions/3.11.9/envs/EvalCapstone311/lib/python3.11/site-packages (from graspologic) (3.10.1)\n",
      "Requirement already satisfied: networkx>=2.1 in /Users/brandonkeung/.pyenv/versions/3.11.9/envs/EvalCapstone311/lib/python3.11/site-packages (from graspologic) (3.4.2)\n",
      "Requirement already satisfied: POT>=0.7.0 in /Users/brandonkeung/.pyenv/versions/3.11.9/envs/EvalCapstone311/lib/python3.11/site-packages (from graspologic) (0.9.5)\n",
      "Requirement already satisfied: seaborn>=0.11.0 in /Users/brandonkeung/.pyenv/versions/3.11.9/envs/EvalCapstone311/lib/python3.11/site-packages (from graspologic) (0.13.2)\n",
      "Requirement already satisfied: scikit-learn>=0.22.0 in /Users/brandonkeung/.pyenv/versions/3.11.9/envs/EvalCapstone311/lib/python3.11/site-packages (from graspologic) (1.6.1)\n",
      "Requirement already satisfied: statsmodels>=0.13.2 in /Users/brandonkeung/.pyenv/versions/3.11.9/envs/EvalCapstone311/lib/python3.11/site-packages (from graspologic) (0.14.4)\n",
      "Requirement already satisfied: typing-extensions>=4.4.0 in /Users/brandonkeung/.pyenv/versions/3.11.9/envs/EvalCapstone311/lib/python3.11/site-packages (from graspologic) (4.13.2)\n",
      "Requirement already satisfied: umap-learn>=0.4.6 in /Users/brandonkeung/.pyenv/versions/3.11.9/envs/EvalCapstone311/lib/python3.11/site-packages (from graspologic) (0.5.7)\n",
      "Requirement already satisfied: smart-open>=1.8.1 in /Users/brandonkeung/.pyenv/versions/3.11.9/envs/EvalCapstone311/lib/python3.11/site-packages (from gensim!=4.2.0,>=4.0.0->graspologic) (7.1.0)\n",
      "Requirement already satisfied: numba>=0.46 in /Users/brandonkeung/.pyenv/versions/3.11.9/envs/EvalCapstone311/lib/python3.11/site-packages (from hyppo>=0.3.2->graspologic) (0.61.2)\n",
      "Requirement already satisfied: autograd>=1.3 in /Users/brandonkeung/.pyenv/versions/3.11.9/envs/EvalCapstone311/lib/python3.11/site-packages (from hyppo>=0.3.2->graspologic) (1.7.0)\n",
      "Requirement already satisfied: openai>=1.14.0 in /Users/brandonkeung/.pyenv/versions/3.11.9/envs/EvalCapstone311/lib/python3.11/site-packages (from llama-index-agent-openai<0.5.0,>=0.4.0->llama-index) (1.75.0)\n",
      "Requirement already satisfied: PyYAML>=6.0.1 in /Users/brandonkeung/.pyenv/versions/3.11.9/envs/EvalCapstone311/lib/python3.11/site-packages (from llama-index-core<0.13.0,>=0.12.32->llama-index) (6.0.2)\n",
      "Requirement already satisfied: SQLAlchemy>=1.4.49 in /Users/brandonkeung/.pyenv/versions/3.11.9/envs/EvalCapstone311/lib/python3.11/site-packages (from SQLAlchemy[asyncio]>=1.4.49->llama-index-core<0.13.0,>=0.12.32->llama-index) (2.0.40)\n",
      "Requirement already satisfied: aiohttp<4.0.0,>=3.8.6 in /Users/brandonkeung/.pyenv/versions/3.11.9/envs/EvalCapstone311/lib/python3.11/site-packages (from llama-index-core<0.13.0,>=0.12.32->llama-index) (3.11.18)\n",
      "Requirement already satisfied: banks<3.0.0,>=2.0.0 in /Users/brandonkeung/.pyenv/versions/3.11.9/envs/EvalCapstone311/lib/python3.11/site-packages (from llama-index-core<0.13.0,>=0.12.32->llama-index) (2.1.2)\n",
      "Requirement already satisfied: dataclasses-json in /Users/brandonkeung/.pyenv/versions/3.11.9/envs/EvalCapstone311/lib/python3.11/site-packages (from llama-index-core<0.13.0,>=0.12.32->llama-index) (0.6.7)\n",
      "Requirement already satisfied: deprecated>=1.2.9.3 in /Users/brandonkeung/.pyenv/versions/3.11.9/envs/EvalCapstone311/lib/python3.11/site-packages (from llama-index-core<0.13.0,>=0.12.32->llama-index) (1.2.18)\n",
      "Requirement already satisfied: dirtyjson<2.0.0,>=1.0.8 in /Users/brandonkeung/.pyenv/versions/3.11.9/envs/EvalCapstone311/lib/python3.11/site-packages (from llama-index-core<0.13.0,>=0.12.32->llama-index) (1.0.8)\n",
      "Requirement already satisfied: filetype<2.0.0,>=1.2.0 in /Users/brandonkeung/.pyenv/versions/3.11.9/envs/EvalCapstone311/lib/python3.11/site-packages (from llama-index-core<0.13.0,>=0.12.32->llama-index) (1.2.0)\n",
      "Requirement already satisfied: fsspec>=2023.5.0 in /Users/brandonkeung/.pyenv/versions/3.11.9/envs/EvalCapstone311/lib/python3.11/site-packages (from llama-index-core<0.13.0,>=0.12.32->llama-index) (2024.12.0)\n",
      "Requirement already satisfied: httpx in /Users/brandonkeung/.pyenv/versions/3.11.9/envs/EvalCapstone311/lib/python3.11/site-packages (from llama-index-core<0.13.0,>=0.12.32->llama-index) (0.28.1)\n",
      "Requirement already satisfied: nest-asyncio<2.0.0,>=1.5.8 in /Users/brandonkeung/.pyenv/versions/3.11.9/envs/EvalCapstone311/lib/python3.11/site-packages (from llama-index-core<0.13.0,>=0.12.32->llama-index) (1.6.0)\n",
      "Requirement already satisfied: pillow>=9.0.0 in /Users/brandonkeung/.pyenv/versions/3.11.9/envs/EvalCapstone311/lib/python3.11/site-packages (from llama-index-core<0.13.0,>=0.12.32->llama-index) (11.2.1)\n",
      "Requirement already satisfied: pydantic>=2.8.0 in /Users/brandonkeung/.pyenv/versions/3.11.9/envs/EvalCapstone311/lib/python3.11/site-packages (from llama-index-core<0.13.0,>=0.12.32->llama-index) (2.11.3)\n",
      "Requirement already satisfied: requests>=2.31.0 in /Users/brandonkeung/.pyenv/versions/3.11.9/envs/EvalCapstone311/lib/python3.11/site-packages (from llama-index-core<0.13.0,>=0.12.32->llama-index) (2.32.3)\n",
      "Requirement already satisfied: tenacity!=8.4.0,<10.0.0,>=8.2.0 in /Users/brandonkeung/.pyenv/versions/3.11.9/envs/EvalCapstone311/lib/python3.11/site-packages (from llama-index-core<0.13.0,>=0.12.32->llama-index) (9.1.2)\n",
      "Requirement already satisfied: tiktoken>=0.3.3 in /Users/brandonkeung/.pyenv/versions/3.11.9/envs/EvalCapstone311/lib/python3.11/site-packages (from llama-index-core<0.13.0,>=0.12.32->llama-index) (0.9.0)\n",
      "Requirement already satisfied: tqdm<5.0.0,>=4.66.1 in /Users/brandonkeung/.pyenv/versions/3.11.9/envs/EvalCapstone311/lib/python3.11/site-packages (from llama-index-core<0.13.0,>=0.12.32->llama-index) (4.67.1)\n",
      "Requirement already satisfied: typing-inspect>=0.8.0 in /Users/brandonkeung/.pyenv/versions/3.11.9/envs/EvalCapstone311/lib/python3.11/site-packages (from llama-index-core<0.13.0,>=0.12.32->llama-index) (0.9.0)\n",
      "Requirement already satisfied: wrapt in /Users/brandonkeung/.pyenv/versions/3.11.9/envs/EvalCapstone311/lib/python3.11/site-packages (from llama-index-core<0.13.0,>=0.12.32->llama-index) (1.17.2)\n",
      "Requirement already satisfied: llama-cloud<0.2.0,>=0.1.13 in /Users/brandonkeung/.pyenv/versions/3.11.9/envs/EvalCapstone311/lib/python3.11/site-packages (from llama-index-indices-managed-llama-cloud>=0.4.0->llama-index) (0.1.18)\n",
      "Requirement already satisfied: beautifulsoup4<5.0.0,>=4.12.3 in /Users/brandonkeung/.pyenv/versions/3.11.9/envs/EvalCapstone311/lib/python3.11/site-packages (from llama-index-readers-file<0.5.0,>=0.4.0->llama-index) (4.13.4)\n",
      "Requirement already satisfied: pandas in /Users/brandonkeung/.pyenv/versions/3.11.9/envs/EvalCapstone311/lib/python3.11/site-packages (from llama-index-readers-file<0.5.0,>=0.4.0->llama-index) (2.2.3)\n",
      "Requirement already satisfied: pypdf<6.0.0,>=5.1.0 in /Users/brandonkeung/.pyenv/versions/3.11.9/envs/EvalCapstone311/lib/python3.11/site-packages (from llama-index-readers-file<0.5.0,>=0.4.0->llama-index) (5.4.0)\n",
      "Requirement already satisfied: striprtf<0.0.27,>=0.0.26 in /Users/brandonkeung/.pyenv/versions/3.11.9/envs/EvalCapstone311/lib/python3.11/site-packages (from llama-index-readers-file<0.5.0,>=0.4.0->llama-index) (0.0.26)\n",
      "Requirement already satisfied: llama-parse>=0.5.0 in /Users/brandonkeung/.pyenv/versions/3.11.9/envs/EvalCapstone311/lib/python3.11/site-packages (from llama-index-readers-llama-parse>=0.4.0->llama-index) (0.6.12)\n",
      "Requirement already satisfied: contourpy>=1.0.1 in /Users/brandonkeung/.pyenv/versions/3.11.9/envs/EvalCapstone311/lib/python3.11/site-packages (from matplotlib!=3.3.*,!=3.6.1,>=3.0.0->graspologic) (1.3.2)\n",
      "Requirement already satisfied: cycler>=0.10 in /Users/brandonkeung/.pyenv/versions/3.11.9/envs/EvalCapstone311/lib/python3.11/site-packages (from matplotlib!=3.3.*,!=3.6.1,>=3.0.0->graspologic) (0.12.1)\n",
      "Requirement already satisfied: fonttools>=4.22.0 in /Users/brandonkeung/.pyenv/versions/3.11.9/envs/EvalCapstone311/lib/python3.11/site-packages (from matplotlib!=3.3.*,!=3.6.1,>=3.0.0->graspologic) (4.57.0)\n",
      "Requirement already satisfied: kiwisolver>=1.3.1 in /Users/brandonkeung/.pyenv/versions/3.11.9/envs/EvalCapstone311/lib/python3.11/site-packages (from matplotlib!=3.3.*,!=3.6.1,>=3.0.0->graspologic) (1.4.8)\n",
      "Requirement already satisfied: packaging>=20.0 in /Users/brandonkeung/.pyenv/versions/3.11.9/envs/EvalCapstone311/lib/python3.11/site-packages (from matplotlib!=3.3.*,!=3.6.1,>=3.0.0->graspologic) (24.2)\n",
      "Requirement already satisfied: pyparsing>=2.3.1 in /Users/brandonkeung/.pyenv/versions/3.11.9/envs/EvalCapstone311/lib/python3.11/site-packages (from matplotlib!=3.3.*,!=3.6.1,>=3.0.0->graspologic) (3.2.3)\n",
      "Requirement already satisfied: python-dateutil>=2.7 in /Users/brandonkeung/.pyenv/versions/3.11.9/envs/EvalCapstone311/lib/python3.11/site-packages (from matplotlib!=3.3.*,!=3.6.1,>=3.0.0->graspologic) (2.9.0.post0)\n",
      "Requirement already satisfied: pytz in /Users/brandonkeung/.pyenv/versions/3.11.9/envs/EvalCapstone311/lib/python3.11/site-packages (from neo4j<6.0.0,>=5.16.0->llama-index-graph-stores-neo4j) (2025.2)\n",
      "Requirement already satisfied: click in /Users/brandonkeung/.pyenv/versions/3.11.9/envs/EvalCapstone311/lib/python3.11/site-packages (from nltk>3.8.1->llama-index) (8.1.8)\n",
      "Requirement already satisfied: regex>=2021.8.3 in /Users/brandonkeung/.pyenv/versions/3.11.9/envs/EvalCapstone311/lib/python3.11/site-packages (from nltk>3.8.1->llama-index) (2024.11.6)\n",
      "Requirement already satisfied: threadpoolctl>=3.1.0 in /Users/brandonkeung/.pyenv/versions/3.11.9/envs/EvalCapstone311/lib/python3.11/site-packages (from scikit-learn>=0.22.0->graspologic) (3.6.0)\n",
      "Requirement already satisfied: patsy>=0.5.6 in /Users/brandonkeung/.pyenv/versions/3.11.9/envs/EvalCapstone311/lib/python3.11/site-packages (from statsmodels>=0.13.2->graspologic) (1.0.1)\n",
      "Requirement already satisfied: pynndescent>=0.5 in /Users/brandonkeung/.pyenv/versions/3.11.9/envs/EvalCapstone311/lib/python3.11/site-packages (from umap-learn>=0.4.6->graspologic) (0.5.13)\n",
      "Requirement already satisfied: aiohappyeyeballs>=2.3.0 in /Users/brandonkeung/.pyenv/versions/3.11.9/envs/EvalCapstone311/lib/python3.11/site-packages (from aiohttp<4.0.0,>=3.8.6->llama-index-core<0.13.0,>=0.12.32->llama-index) (2.6.1)\n",
      "Requirement already satisfied: aiosignal>=1.1.2 in /Users/brandonkeung/.pyenv/versions/3.11.9/envs/EvalCapstone311/lib/python3.11/site-packages (from aiohttp<4.0.0,>=3.8.6->llama-index-core<0.13.0,>=0.12.32->llama-index) (1.3.2)\n",
      "Requirement already satisfied: attrs>=17.3.0 in /Users/brandonkeung/.pyenv/versions/3.11.9/envs/EvalCapstone311/lib/python3.11/site-packages (from aiohttp<4.0.0,>=3.8.6->llama-index-core<0.13.0,>=0.12.32->llama-index) (25.3.0)\n",
      "Requirement already satisfied: frozenlist>=1.1.1 in /Users/brandonkeung/.pyenv/versions/3.11.9/envs/EvalCapstone311/lib/python3.11/site-packages (from aiohttp<4.0.0,>=3.8.6->llama-index-core<0.13.0,>=0.12.32->llama-index) (1.6.0)\n",
      "Requirement already satisfied: multidict<7.0,>=4.5 in /Users/brandonkeung/.pyenv/versions/3.11.9/envs/EvalCapstone311/lib/python3.11/site-packages (from aiohttp<4.0.0,>=3.8.6->llama-index-core<0.13.0,>=0.12.32->llama-index) (6.4.3)\n",
      "Requirement already satisfied: propcache>=0.2.0 in /Users/brandonkeung/.pyenv/versions/3.11.9/envs/EvalCapstone311/lib/python3.11/site-packages (from aiohttp<4.0.0,>=3.8.6->llama-index-core<0.13.0,>=0.12.32->llama-index) (0.3.1)\n",
      "Requirement already satisfied: yarl<2.0,>=1.17.0 in /Users/brandonkeung/.pyenv/versions/3.11.9/envs/EvalCapstone311/lib/python3.11/site-packages (from aiohttp<4.0.0,>=3.8.6->llama-index-core<0.13.0,>=0.12.32->llama-index) (1.20.0)\n",
      "Requirement already satisfied: griffe in /Users/brandonkeung/.pyenv/versions/3.11.9/envs/EvalCapstone311/lib/python3.11/site-packages (from banks<3.0.0,>=2.0.0->llama-index-core<0.13.0,>=0.12.32->llama-index) (1.7.2)\n",
      "Requirement already satisfied: jinja2 in /Users/brandonkeung/.pyenv/versions/3.11.9/envs/EvalCapstone311/lib/python3.11/site-packages (from banks<3.0.0,>=2.0.0->llama-index-core<0.13.0,>=0.12.32->llama-index) (3.1.6)\n",
      "Requirement already satisfied: platformdirs in /Users/brandonkeung/.pyenv/versions/3.11.9/envs/EvalCapstone311/lib/python3.11/site-packages (from banks<3.0.0,>=2.0.0->llama-index-core<0.13.0,>=0.12.32->llama-index) (4.3.7)\n",
      "Requirement already satisfied: soupsieve>1.2 in /Users/brandonkeung/.pyenv/versions/3.11.9/envs/EvalCapstone311/lib/python3.11/site-packages (from beautifulsoup4<5.0.0,>=4.12.3->llama-index-readers-file<0.5.0,>=0.4.0->llama-index) (2.7)\n",
      "Requirement already satisfied: certifi>=2024.7.4 in /Users/brandonkeung/.pyenv/versions/3.11.9/envs/EvalCapstone311/lib/python3.11/site-packages (from llama-cloud<0.2.0,>=0.1.13->llama-index-indices-managed-llama-cloud>=0.4.0->llama-index) (2025.1.31)\n",
      "Requirement already satisfied: anyio in /Users/brandonkeung/.pyenv/versions/3.11.9/envs/EvalCapstone311/lib/python3.11/site-packages (from httpx->llama-index-core<0.13.0,>=0.12.32->llama-index) (4.9.0)\n",
      "Requirement already satisfied: httpcore==1.* in /Users/brandonkeung/.pyenv/versions/3.11.9/envs/EvalCapstone311/lib/python3.11/site-packages (from httpx->llama-index-core<0.13.0,>=0.12.32->llama-index) (1.0.8)\n",
      "Requirement already satisfied: idna in /Users/brandonkeung/.pyenv/versions/3.11.9/envs/EvalCapstone311/lib/python3.11/site-packages (from httpx->llama-index-core<0.13.0,>=0.12.32->llama-index) (3.10)\n",
      "Requirement already satisfied: h11<0.15,>=0.13 in /Users/brandonkeung/.pyenv/versions/3.11.9/envs/EvalCapstone311/lib/python3.11/site-packages (from httpcore==1.*->httpx->llama-index-core<0.13.0,>=0.12.32->llama-index) (0.14.0)\n",
      "Requirement already satisfied: llama-cloud-services>=0.6.12 in /Users/brandonkeung/.pyenv/versions/3.11.9/envs/EvalCapstone311/lib/python3.11/site-packages (from llama-parse>=0.5.0->llama-index-readers-llama-parse>=0.4.0->llama-index) (0.6.12)\n",
      "Requirement already satisfied: llvmlite<0.45,>=0.44.0dev0 in /Users/brandonkeung/.pyenv/versions/3.11.9/envs/EvalCapstone311/lib/python3.11/site-packages (from numba>=0.46->hyppo>=0.3.2->graspologic) (0.44.0)\n",
      "Requirement already satisfied: distro<2,>=1.7.0 in /Users/brandonkeung/.pyenv/versions/3.11.9/envs/EvalCapstone311/lib/python3.11/site-packages (from openai>=1.14.0->llama-index-agent-openai<0.5.0,>=0.4.0->llama-index) (1.9.0)\n",
      "Requirement already satisfied: jiter<1,>=0.4.0 in /Users/brandonkeung/.pyenv/versions/3.11.9/envs/EvalCapstone311/lib/python3.11/site-packages (from openai>=1.14.0->llama-index-agent-openai<0.5.0,>=0.4.0->llama-index) (0.9.0)\n",
      "Requirement already satisfied: sniffio in /Users/brandonkeung/.pyenv/versions/3.11.9/envs/EvalCapstone311/lib/python3.11/site-packages (from openai>=1.14.0->llama-index-agent-openai<0.5.0,>=0.4.0->llama-index) (1.3.1)\n",
      "Requirement already satisfied: tzdata>=2022.7 in /Users/brandonkeung/.pyenv/versions/3.11.9/envs/EvalCapstone311/lib/python3.11/site-packages (from pandas->llama-index-readers-file<0.5.0,>=0.4.0->llama-index) (2025.2)\n",
      "Requirement already satisfied: annotated-types>=0.6.0 in /Users/brandonkeung/.pyenv/versions/3.11.9/envs/EvalCapstone311/lib/python3.11/site-packages (from pydantic>=2.8.0->llama-index-core<0.13.0,>=0.12.32->llama-index) (0.7.0)\n",
      "Requirement already satisfied: pydantic-core==2.33.1 in /Users/brandonkeung/.pyenv/versions/3.11.9/envs/EvalCapstone311/lib/python3.11/site-packages (from pydantic>=2.8.0->llama-index-core<0.13.0,>=0.12.32->llama-index) (2.33.1)\n",
      "Requirement already satisfied: typing-inspection>=0.4.0 in /Users/brandonkeung/.pyenv/versions/3.11.9/envs/EvalCapstone311/lib/python3.11/site-packages (from pydantic>=2.8.0->llama-index-core<0.13.0,>=0.12.32->llama-index) (0.4.0)\n",
      "Requirement already satisfied: six>=1.5 in /Users/brandonkeung/.pyenv/versions/3.11.9/envs/EvalCapstone311/lib/python3.11/site-packages (from python-dateutil>=2.7->matplotlib!=3.3.*,!=3.6.1,>=3.0.0->graspologic) (1.17.0)\n",
      "Requirement already satisfied: charset-normalizer<4,>=2 in /Users/brandonkeung/.pyenv/versions/3.11.9/envs/EvalCapstone311/lib/python3.11/site-packages (from requests>=2.31.0->llama-index-core<0.13.0,>=0.12.32->llama-index) (3.4.1)\n",
      "Requirement already satisfied: urllib3<3,>=1.21.1 in /Users/brandonkeung/.pyenv/versions/3.11.9/envs/EvalCapstone311/lib/python3.11/site-packages (from requests>=2.31.0->llama-index-core<0.13.0,>=0.12.32->llama-index) (2.4.0)\n",
      "Requirement already satisfied: greenlet>=1 in /Users/brandonkeung/.pyenv/versions/3.11.9/envs/EvalCapstone311/lib/python3.11/site-packages (from SQLAlchemy[asyncio]>=1.4.49->llama-index-core<0.13.0,>=0.12.32->llama-index) (3.2.1)\n",
      "Requirement already satisfied: mypy-extensions>=0.3.0 in /Users/brandonkeung/.pyenv/versions/3.11.9/envs/EvalCapstone311/lib/python3.11/site-packages (from typing-inspect>=0.8.0->llama-index-core<0.13.0,>=0.12.32->llama-index) (1.1.0)\n",
      "Requirement already satisfied: marshmallow<4.0.0,>=3.18.0 in /Users/brandonkeung/.pyenv/versions/3.11.9/envs/EvalCapstone311/lib/python3.11/site-packages (from dataclasses-json->llama-index-core<0.13.0,>=0.12.32->llama-index) (3.26.1)\n",
      "Requirement already satisfied: python-dotenv<2.0.0,>=1.0.1 in /Users/brandonkeung/.pyenv/versions/3.11.9/envs/EvalCapstone311/lib/python3.11/site-packages (from llama-cloud-services>=0.6.12->llama-parse>=0.5.0->llama-index-readers-llama-parse>=0.4.0->llama-index) (1.1.0)\n",
      "Requirement already satisfied: colorama>=0.4 in /Users/brandonkeung/.pyenv/versions/3.11.9/envs/EvalCapstone311/lib/python3.11/site-packages (from griffe->banks<3.0.0,>=2.0.0->llama-index-core<0.13.0,>=0.12.32->llama-index) (0.4.6)\n",
      "Requirement already satisfied: MarkupSafe>=2.0 in /Users/brandonkeung/.pyenv/versions/3.11.9/envs/EvalCapstone311/lib/python3.11/site-packages (from jinja2->banks<3.0.0,>=2.0.0->llama-index-core<0.13.0,>=0.12.32->llama-index) (3.0.2)\n"
     ]
    }
   ],
   "source": [
    "!pip install llama-index llama-index-graph-stores-neo4j graspologic numpy==1.24.4 scipy==1.12.0 future"
   ]
  },
  {
   "cell_type": "markdown",
   "metadata": {},
   "source": [
    "## Load Data\n",
    "\n",
    "We will use a sample news article dataset retrieved from Diffbot, which Tomaz has conveniently made available on GitHub for easy access.\n",
    "\n",
    "The dataset contains 2,500 samples; for ease of experimentation, we will use 50 of these samples, which include the `title` and `text` of news articles."
   ]
  },
  {
   "cell_type": "code",
   "execution_count": null,
   "metadata": {},
   "outputs": [],
   "source": [
    "# !ls"
   ]
  },
  {
   "cell_type": "code",
   "execution_count": 3,
   "metadata": {},
   "outputs": [],
   "source": [
    "# import pandas as pd\n",
    "# from llama_index.core import Document\n",
    "\n",
    "# news = pd.read_csv(\n",
    "#     \"https://raw.githubusercontent.com/tomasonjo/blog-datasets/main/news_articles.csv\"\n",
    "# )[:50]\n",
    "\n",
    "# news.head()"
   ]
  },
  {
   "cell_type": "code",
   "execution_count": 4,
   "metadata": {},
   "outputs": [
    {
     "data": {
      "text/plain": [
       "True"
      ]
     },
     "execution_count": 4,
     "metadata": {},
     "output_type": "execute_result"
    }
   ],
   "source": [
    "import pandas as pd\n",
    "from llama_index.core import Document\n",
    "import os\n",
    "from dotenv import load_dotenv\n",
    "load_dotenv(dotenv_path=\".env\", override=True)\n",
    "\n",
    "# def prepare_product_df() -> pd.DataFrame:\n",
    "#     \"\"\"\n",
    "#     Load the Amazon product dataset and filter for beauty products.\n",
    "#     \"\"\"\n",
    "#     df = pd.read_csv(\"./data/cosmetics_25_products.csv\", index_col=0)\n",
    "#     df.columns = df.columns.str.lower()\n",
    "#     df[\"title\"] = df[\"product name\"]\n",
    "#     return df\n",
    "\n",
    "# df = prepare_product_df()\n",
    "\n",
    "# cols = df.columns\n",
    "\n",
    "# docs = []\n",
    "# for i, row in df.iterrows():\n",
    "#     doctext = [f\"{col}: {row[col]}\" for col in cols]\n",
    "#     doctext = \"\\n\".join(doctext)\n",
    "#     doc = Document(\n",
    "#         text=doctext,\n",
    "#         metadata={field: row[field] for field in metadata_fields},\n",
    "#     )\n",
    "#     docs.append(doc)"
   ]
  },
  {
   "cell_type": "code",
   "execution_count": 5,
   "metadata": {},
   "outputs": [],
   "source": [
    "def prepare_product_df() -> pd.DataFrame:\n",
    "    \"\"\"\n",
    "    Load the Amazon product dataset and filter for beauty products.\n",
    "    \"\"\"\n",
    "    df = pd.read_csv(\"./data/cosmetics_25_products.csv\", index_col=0)\n",
    "    print(df.columns)\n",
    "    df.columns = df.columns.str.lower()\n",
    "    df[\"title\"] = df[\"product name\"]\n",
    "    return df\n",
    "\n",
    "async def generate_qr_data(\n",
    "        df: pd.DataFrame, \n",
    "        metadata_fields: list = [\"description\", \"title\"],\n",
    "        num_questions_per_chunk: int = 1,\n",
    "    ) -> pd.DataFrame:\n",
    "    \"\"\"\n",
    "    Generate QR data for the given DataFrame.\n",
    "    \"\"\"\n",
    "    from llama_index.core import Document\n",
    "    from llama_index.core.evaluation import DatasetGenerator\n",
    "    cols = df.columns\n",
    "\n",
    "    docs = []\n",
    "    for i, row in df.iterrows():\n",
    "        doctext = [f\"{col}: {row[col]}\" for col in cols]\n",
    "        doctext = \"\\n\".join(doctext)\n",
    "        doc = Document(\n",
    "            text=doctext,\n",
    "            metadata={field: row[field] for field in metadata_fields},\n",
    "        )\n",
    "        docs.append(doc)\n",
    "\n",
    "    dataset_generator = DatasetGenerator.from_documents(\n",
    "        docs,\n",
    "        num_questions_per_chunk=num_questions_per_chunk,\n",
    "        show_progress=True,\n",
    "    )\n",
    "    qr_ds = await dataset_generator.agenerate_dataset_from_nodes()\n",
    "    qr_ds.save_json(os.environ[\"QR_DATA\"])\n",
    "    qr_ds = {\n",
    "        \"queries\": qr_ds.queries,\n",
    "        \"responses\": qr_ds.responses,\n",
    "    }\n",
    "    return qr_ds\n",
    "\n"
   ]
  },
  {
   "cell_type": "code",
   "execution_count": 6,
   "metadata": {},
   "outputs": [
    {
     "name": "stdout",
     "output_type": "stream",
     "text": [
      "Index(['Product Type', 'Brand', 'Product Name', 'Price', 'Rank', 'Ingredients',\n",
      "       'For Skin Type', 'Size', 'Description'],\n",
      "      dtype='object')\n"
     ]
    },
    {
     "data": {
      "text/plain": [
       "Index(['product type', 'brand', 'product name', 'price', 'rank', 'ingredients',\n",
       "       'for skin type', 'size', 'description', 'title'],\n",
       "      dtype='object')"
      ]
     },
     "execution_count": 6,
     "metadata": {},
     "output_type": "execute_result"
    }
   ],
   "source": [
    "# Load QA data\n",
    "df = prepare_product_df()\n",
    "df.columns\n",
    "# if not os.path.exists(os.environ[\"QR_DATA\"]):\n",
    "#     df = prepare_product_df()\n",
    "#     print(f\"Loaded {len(df)} products\")\n",
    "#     qr_data = await generate_qr_data(\n",
    "#         df,\n",
    "#         llm,\n",
    "#         metadata_fields=[\"description\", \"title\"],\n",
    "#         num_questions_per_chunk=1,\n",
    "#     )\n",
    "# else:\n",
    "#     with open(os.environ[\"QR_DATA\"], \"r\") as f:\n",
    "#         qr_data = json.load(f)"
   ]
  },
  {
   "cell_type": "code",
   "execution_count": 7,
   "metadata": {},
   "outputs": [],
   "source": [
    "# for i, row in df.iterrows():\n",
    "#     print(row['product type'])"
   ]
  },
  {
   "cell_type": "markdown",
   "metadata": {},
   "source": [
    "Prepare documents as required by LlamaIndex"
   ]
  },
  {
   "cell_type": "code",
   "execution_count": 8,
   "metadata": {},
   "outputs": [],
   "source": [
    "# Product Type,Brand,Product Name,Price,Rank,Ingredients,For Skin Type,Size\n",
    "documents = [\n",
    "    Document(text=f\"Product Name: {row['title']}: Product Type: {row['product type']}; Brand: {row['brand']}; Price: {row['price']}; Rank: {row['rank']}; Ingredients: {row['ingredients']}; For Skin Type: {row['for skin type']}; Size: {row['size']}; Description: {row['description']}\\n\")\n",
    "    for i, row in df.iterrows()\n",
    "]"
   ]
  },
  {
   "cell_type": "code",
   "execution_count": 9,
   "metadata": {},
   "outputs": [
    {
     "data": {
      "text/plain": [
       "[Document(id_='e2ff807b-d366-43a3-869f-43cf7b514668', embedding=None, metadata={}, excluded_embed_metadata_keys=[], excluded_llm_metadata_keys=[], relationships={}, metadata_template='{key}: {value}', metadata_separator='\\n', text_resource=MediaResource(embeddings=None, data=None, text=\"Product Name: Facial Treatment Essence: Product Type: Moisturizer; Brand: SK-II; Price: 179; Rank: 4.1; Ingredients: Galactomyces Ferment Filtrate (Pitera), Butylene Glycol, Pentylene Glycol, Water, Sodium Benzoate, Methylparaben, Sorbic Acid.; For Skin Type: ['Dry', 'Normal', 'Oily', 'Sensitive']; Size: 5.0 oz (150ml); Description: A signature essence with 90% Pitera, a bio-ingredient rich in vitamins, minerals, and amino acids that promotes skin cell renewal, reduces wrinkles, refines texture, and improves radiance.\\n\", path=None, url=None, mimetype=None), image_resource=None, audio_resource=None, video_resource=None, text_template='{metadata_str}\\n\\n{content}'),\n",
       " Document(id_='e52e601b-e728-4197-9567-42aabaff8cad', embedding=None, metadata={}, excluded_embed_metadata_keys=[], excluded_llm_metadata_keys=[], relationships={}, metadata_template='{key}: {value}', metadata_separator='\\n', text_resource=MediaResource(embeddings=None, data=None, text=\"Product Name: The Moisturizing Soft Cream: Product Type: Moisturizer; Brand: LA MER; Price: 175; Rank: 3.8; Ingredients: Algae (Seaweed) Extract, Cyclopentasiloxane, Petrolatum, Glyceryl Distearate, Phenyl Trimethicone, Butylene Glycol, Hydrogenated Vegetable Oil, Cholesterol, Butyrospermum Parkii (Shea Butter), Steareth-10, Dimethicone, Glyceryl Stearate Se, Polysilicone-11, Sesamum Indicum (Sesame) Seed Oil, Medicago Sativa (Alfalfa) Seed Powder, Helianthus Annuus (Sunflower) Seedcake, Prunus Amygdalus Dulcis (Sweet Almond) Seed Meal, Eucalyptus Globulus (Eucalyptus) Leaf Oil, Sodium Gluconate, Copper Gluconate, Calcium Gluconate, Magnesium Gluconate, Zinc Gluconate, Tocopheryl Succinate, Niacin, Sesamum Indicum (Sesame) Seed Powder, Water, Citrus Aurantifolia (Lime) Peel Extract, Laminaria Digitata Extract, Crithmum Maritimum Extract, Salicornia Herbacea Extract, Plankton Extract, Chlorella Vulgaris Extract, Glycine Soja (Soybean) Seed Extract, Glycerin, Caffeine, Sea Salt/Maris Sal/Sel Marin, Micrococcus Lysate, Diethylhexyl Succinate, Adenosine Phosphate, Creatine, Hydrolyzed Algin, Isocetyl Stearoyl Stearate, Cetyl Alcohol, Sucrose, Acetyl Hexapeptide-8, Glucose Oxidase, Polyacrylamide, Acetyl Carnitine Hcl, Glucose, Caprylic/Capric Triglyceride, C13-14 Isoparaffin, Tocopheryl Acetate, Tetrahexyldecyl Ascorbate, Sodium Pca, Glycosaminoglycans, Urea, Distearyldimonium Chloride, Dipalmitoyl Hydroxyproline, Sodium Hyaluronate, Laureth-7, Lecithin, Trehalose, Polyquaternium-51, Lactoperoxidase, Hydroxypropyl Cyclodextrin, Cyanocobalamin, Pentylene Glycol, Fragrance, Disodium Edta, Bht, Citronellol, Hydroxycitronellal, Geraniol, Linalool, Limonene, Potassium Sorbate, Phenoxyethanol; For Skin Type: ['Dry', 'Normal', 'Oily', 'Sensitive']; Size: 1.0 oz (30ml); Description: A silky-soft cream powered by miracle broth that delivers healing moisture, visibly diminishes fine lines, and helps skin look firmer, healthier, and revitalized while strengthening the skin barrier.\\n\", path=None, url=None, mimetype=None), image_resource=None, audio_resource=None, video_resource=None, text_template='{metadata_str}\\n\\n{content}'),\n",
       " Document(id_='3b0d1669-4802-4611-8eab-166c2cd84d41', embedding=None, metadata={}, excluded_embed_metadata_keys=[], excluded_llm_metadata_keys=[], relationships={}, metadata_template='{key}: {value}', metadata_separator='\\n', text_resource=MediaResource(embeddings=None, data=None, text=\"Product Name: GenOptics Aura Essence Serum: Product Type: Moisturizer; Brand: SK-II; Price: 240; Rank: 4.1; Ingredients: Water, Galactomyces Ferment Filtrate (Pitera), Niacinamide, Butylene Glycol, Triethylhexanoin, Pentylene Glycol, Glycerin, Nylon-12, Phytosteryl/Octyldodecyl Lauroyl Glutamate, Polymethylsilsesquioxane, Boron Nitride, Panthenol, PEG-20 Sorbitan Cocoate, Inositol, Caprylic/Capric Triglyceride, Mica, Phenoxyethanol, Acrylates/C10-30 Alkyl Acrylate Crosspolymer, PEG-11 Methyl Ether Dimethicone, Polyacrylamide, Aminomethyl Propanol, Undecylenoyl Phenylalanine, Benzyl Alcohol, C13-14 Isoparaffin, Disodium EDTA, Hydrolyzed Prunus Domestica, Xanthan Gum, Sodium Benzoate, Hexyldecanol, Laureth-7, Citrus Reticulata Peel Extract/Citrus Reticulata (Tangerine) Peel Extract, Methylparaben, Ascorbyl Glucoside, Prunus Mume Fruit Extract, Tocopherol, Fragrance, Limonene, Citronellol, Linalool, Geraniol, Ci 77891 (Titanium Dioxide).; For Skin Type: ['Dry', 'Normal', 'Oily', 'Sensitive']; Size: 1.7 oz (50ml); Description: A brightening serum that targets dark spots and dullness, infused with SK-II's signature Pitera to help reduce the appearance of melanin and promote a more radiant, even-toned complexion.\\n\", path=None, url=None, mimetype=None), image_resource=None, audio_resource=None, video_resource=None, text_template='{metadata_str}\\n\\n{content}'),\n",
       " Document(id_='ba6c5d6c-9643-43bd-b1f2-12b028514354', embedding=None, metadata={}, excluded_embed_metadata_keys=[], excluded_llm_metadata_keys=[], relationships={}, metadata_template='{key}: {value}', metadata_separator='\\n', text_resource=MediaResource(embeddings=None, data=None, text=\"Product Name: Facial Treatment Essence Mini: Product Type: Moisturizer; Brand: SK-II; Price: 99; Rank: 4.1; Ingredients: Galactomyces Ferment Filtrate (Pitera), Butylene Glycol, Pentylene Glycol, Water, Sodium Benzoate, Methylparaben, Sorbic Acid.; For Skin Type: ['Dry', 'Normal', 'Oily', 'Sensitive']; Size: 2.5 oz (75ml); Description: A travel-sized version of SK-II's iconic essence that delivers the same skin-renewing benefits in a more portable and affordable format.\\n\", path=None, url=None, mimetype=None), image_resource=None, audio_resource=None, video_resource=None, text_template='{metadata_str}\\n\\n{content}'),\n",
       " Document(id_='98ce5a44-dc34-4bc8-8f70-81e855dad5c3', embedding=None, metadata={}, excluded_embed_metadata_keys=[], excluded_llm_metadata_keys=[], relationships={}, metadata_template='{key}: {value}', metadata_separator='\\n', text_resource=MediaResource(embeddings=None, data=None, text=\"Product Name: The Moisturizing Cool Gel Cream: Product Type: Moisturizer; Brand: LA MER; Price: 175; Rank: 3.3; Ingredients: Visit the La Mer boutique; For Skin Type: ['Dry', 'Normal', 'Oily', 'Sensitive']; Size: 1.0 oz (30ml); Description: A lightweight gel cream that delivers the benefits of La Mer's miracle broth in a refreshing formula suitable for normal to oily skin types, reducing shine while providing hydration.\\n\", path=None, url=None, mimetype=None), image_resource=None, audio_resource=None, video_resource=None, text_template='{metadata_str}\\n\\n{content}'),\n",
       " Document(id_='bd4a8bf8-b582-47ea-a176-ed275e7fff8d', embedding=None, metadata={}, excluded_embed_metadata_keys=[], excluded_llm_metadata_keys=[], relationships={}, metadata_template='{key}: {value}', metadata_separator='\\n', text_resource=MediaResource(embeddings=None, data=None, text=\"Product Name: Ultra Facial Oil-Free Gel-Cream: Product Type: Moisturizer; Brand: KIEHL'S SINCE 1851; Price: 29; Rank: 4.1; Ingredients: Water, Glycerin, Alcohol Denat., Dimethicone, Isononyl Isononanoate, Carbomer, Imperata Cylindrica Root Extract, Dimethiconol, Caprylyl Glycol, Chlorphenesin, Sodium Hydroxide, Xanthan Gum, Pseudoalteromonas Ferment Extract, Tetrasodium Edta, Tocopheryl Acetate, Menthoxypropanediol, Phenoxyethanol, Biosaccharide Gum-1, Acrylates/C10-30 Alkyl Acrylate Crosspolymer.; For Skin Type: ['Normal']; Size: 1.7 oz (50ml); Description: A shine-reducing, oil-free gel moisturizer that provides 24-hour hydration without greasiness, ideal for oily and normal skin types with Glacial Glycoprotein to maintain skin's moisture balance.\\n\", path=None, url=None, mimetype=None), image_resource=None, audio_resource=None, video_resource=None, text_template='{metadata_str}\\n\\n{content}'),\n",
       " Document(id_='ceed0dc8-0588-4657-a295-039c83ddf8c3', embedding=None, metadata={}, excluded_embed_metadata_keys=[], excluded_llm_metadata_keys=[], relationships={}, metadata_template='{key}: {value}', metadata_separator='\\n', text_resource=MediaResource(embeddings=None, data=None, text=\"Product Name: The Moisturizing Soft Lotion: Product Type: Moisturizer; Brand: LA MER; Price: 270; Rank: 3.6; Ingredients: Algae (Seaweed) Extract, Petrolatum, Isocetyl Stearoyl Stearate, Butyrospermum Parkii (Shea Butter), Butylene Glycol, Cyclopentasiloxane, Dimethicone, Glyceryl Stearate, Cetyl Esters, Phenyl Trimethicone, Diethylhexyl Succinate, Cyclohexasiloxane, Cholesterol, Steareth-10, Glyceryl Stearate Se, Polysilicone-11, Sesamum Indicum (Sesame) Seed Oil, Medicago Sativa (Alfalfa) Seed Powder, Helianthus Annuus (Sunflower) Seedcake, Prunus Amygdalus Dulcis (Sweet Almond) Seed Meal, Eucalyptus Globulus (Eucalyptus) Leaf Oil, Sodium Gluconate, Copper Gluconate, Calcium Gluconate, Magnesium Gluconate, Zinc Gluconate, Tocopheryl Succinate, Niacin, Sesamum Indicum (Sesame) Seed Powder, Water, Salicornia Herbacea Extract, Sigesbeckia Orientalis (St. Paul'S Wort) Extract, Citrus Aurantifolia (Lime) Peel Extract, Sea Salt/Maris Sal/Sel Marin, Chlorella Vulgaris Extract, Hydrolyzed Rice Extract, Micrococcus Lysate, Laminaria Digitata Extract, Plankton Extract, Caffeine, Glucose Oxidase, Trehalose, Sucrose, Acetyl Hexapeptide-8, Lactoperoxidase, Hydrolyzed Algin, Glyceryl Dilaurate, Alcaligenes Polysaccharides, Isohexadecane, Caprylic/Capric Triglyceride, Dipalmitoyl Hydroxyproline, Distearyldimonium Chloride, Glycerin, Tocopheryl Acetate, Steareth-21, Polyquaternium-51, Saccharide Isomerate, Tetrahexyldecyl Ascorbate, Sodium Pca, Urea, Glucose, Polysorbate 80, Sodium Hyaluronate, Cetyl Alcohol, Alcohol Denat., Acrylamide/Sodium Acryloyldimethyltaurate Copolymer, Fragrance, Lecithin, Bht, Linalool, Citronellol, Hydroxycitronellal, Geraniol, Limonene, Benzyl Salicylate, Phenoxyethanol; For Skin Type: ['Dry', 'Normal', 'Oily', 'Sensitive']; Size: 1.7 oz (50ml); Description: A lightweight, fast-absorbing lotion featuring miracle broth that delivers La Mer's transformative benefits in a more fluid texture suitable for normal to combination skin.\\n\", path=None, url=None, mimetype=None), image_resource=None, audio_resource=None, video_resource=None, text_template='{metadata_str}\\n\\n{content}'),\n",
       " Document(id_='3422cfd1-1efb-4c9e-90ca-bd20b45f7679', embedding=None, metadata={}, excluded_embed_metadata_keys=[], excluded_llm_metadata_keys=[], relationships={}, metadata_template='{key}: {value}', metadata_separator='\\n', text_resource=MediaResource(embeddings=None, data=None, text=\"Product Name: Resilience Lift Night Lifting/Firming Face and Neck Creme: Product Type: Moisturizer; Brand: ESTEE LAUDER; Price: 92; Rank: 4.2; Ingredients: Visit the Estée Lauder boutique; For Skin Type: ['Dry', 'Normal', 'Oily']; Size: 1.7 oz (50ml); Description: An anti-aging night cream that helps lift, firm, and repair skin while you sleep, featuring photo-activated lifters and advanced technology to counter the effects of gravity and loss of elasticity.\\n\", path=None, url=None, mimetype=None), image_resource=None, audio_resource=None, video_resource=None, text_template='{metadata_str}\\n\\n{content}'),\n",
       " Document(id_='64e250e0-83f8-4da3-885b-1dddd79c9676', embedding=None, metadata={}, excluded_embed_metadata_keys=[], excluded_llm_metadata_keys=[], relationships={}, metadata_template='{key}: {value}', metadata_separator='\\n', text_resource=MediaResource(embeddings=None, data=None, text=\"Product Name: Ultra Facial Moisturizer: Product Type: Moisturizer; Brand: KIEHL'S SINCE 1851; Price: 29; Rank: 3.9; Ingredients: Water Squalane, Glycerin, Peg-100 Stearate, Glyceryl Stearate, Butylene Glycol, Triethanolamine, Phenoxyethanol, Sorbitan Oleate, Carbomer, Methylparaben, Propylparaben, Stearic Acid, Beeswax, Myristyl Alcohol, Sweet Almond Oil, Apricot Kernel Oil, Tocopherol, Avocado Oil.; For Skin Type: ['Dry', 'Normal', 'Oily', 'Sensitive']; Size: 2.5 oz (75ml); Description: A lightweight daily moisturizer with a blend of botanical extracts and emollients to provide essential hydration without heaviness, suitable for all skin types.\\n\", path=None, url=None, mimetype=None), image_resource=None, audio_resource=None, video_resource=None, text_template='{metadata_str}\\n\\n{content}'),\n",
       " Document(id_='394f48a6-53e6-4ea9-b1de-bb12093a86c1', embedding=None, metadata={}, excluded_embed_metadata_keys=[], excluded_llm_metadata_keys=[], relationships={}, metadata_template='{key}: {value}', metadata_separator='\\n', text_resource=MediaResource(embeddings=None, data=None, text=\"Product Name: Advanced Night Repair Intensive Recovery Ampoules: Product Type: Moisturizer; Brand: ESTEE LAUDER; Price: 115; Rank: 4.9; Ingredients: Advanced Night Rpr Int Rcv Ampoule Division: El (Estee Lauder)Ingredients: Caprylic/Capric Triglyceride , Squalane , Aleurites Moluccana (Kukui) Seed Oil , Prunus Armeniaca (Apricot) Kernel Oil , Bisabolol , Garcinia Mangostana Peel Extract , Salicornia Herbacea Extract , Magnolia Officinalis Bark Extract , Salvia Hispanica Seed Extract , Anthemis Nobilis (Chamomile) Flower Extract , Rosmarinus Officinalis (Rosemary) Leaf Extract , Coffea Arabica (Coffee) Seed Extract , Helianthus Annuus (Sunflower) Seed Oil , Camelina Sativa Seed Oil , Vaccinium Myrtillus Seed Oil , Tocopheryl Acetate , Cholesterol , Linoleic Acid , Tetrahexyldecyl Ascorbate , Bht; For Skin Type: ['Dry', 'Normal', 'Oily', 'Sensitive']; Size: 60 capsules; Description: Single-dose, powerful recovery ampoules that help repair skin overnight, providing intensive treatment to boost skin's natural repair processes and strengthen the moisture barrier.\\n\", path=None, url=None, mimetype=None), image_resource=None, audio_resource=None, video_resource=None, text_template='{metadata_str}\\n\\n{content}'),\n",
       " Document(id_='701e241f-df55-4577-9efc-d5bcff2d29d9', embedding=None, metadata={}, excluded_embed_metadata_keys=[], excluded_llm_metadata_keys=[], relationships={}, metadata_template='{key}: {value}', metadata_separator='\\n', text_resource=MediaResource(embeddings=None, data=None, text=\"Product Name: Revitalizing Supreme+ Global Anti-Aging Cell Power Creme SPF 15: Product Type: Moisturizer; Brand: ESTEE LAUDER; Price: 82; Rank: 4.0; Ingredients: Visit the Estée Lauder boutique; For Skin Type: ['Dry', 'Normal', 'Oily', 'Sensitive']; Size: 1.7 oz (50ml); Description: A multi-action anti-aging moisturizer with SPF protection that helps visibly reduce lines and wrinkles while promoting skin's natural collagen production for a firmer, more youthful appearance.\\n\", path=None, url=None, mimetype=None), image_resource=None, audio_resource=None, video_resource=None, text_template='{metadata_str}\\n\\n{content}'),\n",
       " Document(id_='60863f8b-1b38-4d6d-991d-5cec243557d1', embedding=None, metadata={}, excluded_embed_metadata_keys=[], excluded_llm_metadata_keys=[], relationships={}, metadata_template='{key}: {value}', metadata_separator='\\n', text_resource=MediaResource(embeddings=None, data=None, text=\"Product Name: Ultra Facial Cream SPF 30: Product Type: Moisturizer; Brand: KIEHL'S SINCE 1851; Price: 29; Rank: 4.2; Ingredients: Water, Glycerin, Squalane, Dimethicone, Peg-100 Stearate, Glyceryl Stearate, Silica, Octyldodecanol, Stearic Acid, Phenoxyethanol, Palmitic Acid, Tocopherol, Dicaprylyl Carbonate, Steareth-100, Acrylates/C10-30 Alkyl Acrylate Crosspolymer, Ophiopogon Japonicus Root Extract, Carbomer, Chlorphenesin, Capryloyl Salicylic Acid, Caprylyl Glycol, Xanthan Gum, Dimethicone/Vinyl Dimethicone Crosspolymer, Disodium Edta, Sodium Hydroxide, Citrus Aurantium Dulcis (Orange) Peel Oil, Limonene, Ectoin, Hydrolyzed Hyaluronic Acid, Myristic Acid, Mentha Piperita (Peppermint) Oil, Pseudoalteromonas Ferment Extract, Ethylhexylglycerin, Linalool, Salicylic Acid.; For Skin Type: ['Dry', 'Normal', 'Oily', 'Sensitive']; Size: 1.7 oz (50ml); Description: A daily moisturizer with SPF 30 protection that provides lasting hydration without greasiness, helping to shield skin from sun damage while maintaining moisture balance.\\n\", path=None, url=None, mimetype=None), image_resource=None, audio_resource=None, video_resource=None, text_template='{metadata_str}\\n\\n{content}'),\n",
       " Document(id_='6e73a97a-e8f0-4be2-bb75-64dc670c0f37', embedding=None, metadata={}, excluded_embed_metadata_keys=[], excluded_llm_metadata_keys=[], relationships={}, metadata_template='{key}: {value}', metadata_separator='\\n', text_resource=MediaResource(embeddings=None, data=None, text=\"Product Name: Facial Treatment Mask: Product Type: Face Mask; Brand: SK-II; Price: 135; Rank: 4.4; Ingredients: Water, Saccharomycopsis Ferment Filtrate*, Butylene Glycol, Xanthan Gum, Sodium Salicylate, Methylparaben, Disodium EDTA. *Pitera.; For Skin Type: ['Dry', 'Normal', 'Oily', 'Sensitive']; Size: 10 sheets; Description: Luxurious single-use sheet masks saturated with SK-II's signature Pitera essence for an intensive treatment that visibly brightens, hydrates, and rejuvenates skin in just one application.\\n\", path=None, url=None, mimetype=None), image_resource=None, audio_resource=None, video_resource=None, text_template='{metadata_str}\\n\\n{content}'),\n",
       " Document(id_='61b09de1-6e52-45c7-a4d6-123a2bebeb08', embedding=None, metadata={}, excluded_embed_metadata_keys=[], excluded_llm_metadata_keys=[], relationships={}, metadata_template='{key}: {value}', metadata_separator='\\n', text_resource=MediaResource(embeddings=None, data=None, text=\"Product Name: Overnight Miracle Mask: Product Type: Face Mask; Brand: SK-II; Price: 105; Rank: 3.8; Ingredients: Galactomyces Ferment Filtrate*, Water, Glycerin, Butylene Glycol, Xylitol, Dipropylene Glycol, Cyclopentasiloxane, Dimethicone, Fragrance, Aluminum Starch Octenylsuccinate, Acrylates/C10-30 Alkyl Acrylate Crosspolymer, Glycereth-25 Pca Isostearate, Aminomethyl Propanol, Dimethiconol, Polymethylsilsesquioxane, Mica, Sodium Benzoate, Phenoxyethanol, Methylparaben, Disodium Edta, Albizia Julibrissin Bark Extract, Methicone, Ci 77891, Ci 77492. *Pitera.; For Skin Type: ['Dry', 'Normal', 'Oily', 'Sensitive']; Size: 2.8 oz (80g); Description: An overnight treatment mask infused with Pitera that works while you sleep to replenish moisture, smooth texture, and restore skin's natural radiance by morning.\\n\", path=None, url=None, mimetype=None), image_resource=None, audio_resource=None, video_resource=None, text_template='{metadata_str}\\n\\n{content}'),\n",
       " Document(id_='b0255762-9133-4699-90d1-3fd10cc97ead', embedding=None, metadata={}, excluded_embed_metadata_keys=[], excluded_llm_metadata_keys=[], relationships={}, metadata_template='{key}: {value}', metadata_separator='\\n', text_resource=MediaResource(embeddings=None, data=None, text=\"Product Name: Calendula & Aloe Soothing Hydration Mask: Product Type: Face Mask; Brand: KIEHL'S SINCE 1851; Price: 45; Rank: 4.0; Ingredients: Water, Glycerin, Aloe Barbadensis Leaf Juice, Butylene Glycol, Ppg-26-Buteth-26, Peg-40 Hydrogenated Castor Oil, Glyceryl Acrylate/Acrylic Acid Copolymer, Carbomer, Calendula Officinalis Flower, Phenoxyethanol, Limonene, Calendula Officinalis Flower Extract, Ethylhexylglycerin, Citrus Limon Peel Oil, Lemon Peel Oil, Paeonia Suffruticosa Root Extract, Scutellaria Baicalensis Root Extract, Sodium Hydroxide, Citrus Aurantium Dulcis (Orange) Peel Oil, Tocopheryl Acetate, Cassia Angustifolia Seed Polysaccharide, Pelargonium Graveolens Flower Oil, Anthemis Nobilis Flower Oil, Citral, Citric Acid, Potassium Sorbate, Artemisia Absinthium Extract, Sodium Benzoate, Tocopherol.; For Skin Type: ['Dry', 'Normal', 'Oily', 'Sensitive']; Size: 3.4 oz (100ml); Description: A refreshing gel mask with calendula flower petals and aloe vera that provides immediate soothing hydration for dry, sensitive or irritated skin, leaving it feeling calm and replenished.\\n\", path=None, url=None, mimetype=None), image_resource=None, audio_resource=None, video_resource=None, text_template='{metadata_str}\\n\\n{content}'),\n",
       " Document(id_='04c83675-85c0-4ba5-bb00-ee1f87fd2af5', embedding=None, metadata={}, excluded_embed_metadata_keys=[], excluded_llm_metadata_keys=[], relationships={}, metadata_template='{key}: {value}', metadata_separator='\\n', text_resource=MediaResource(embeddings=None, data=None, text=\"Product Name: Brightening Derm Revival Mask: Product Type: Face Mask; Brand: SK-II; Price: 170; Rank: 4.5; Ingredients: Water, Galactomyces Ferment Filtrate (Pitera), Butylene Glycol, Niacinamide, Glycerin, Pentylene Glycol, Ascorbyl Glucoside, Inositol, Acrylates/C10-30 Alkyl Acrylate Crosspolymer, Hexapeptide-11, Sodium Hydroxide, Disodium EDTA, Benzyl Alcohol, Methylparaben, Phenoxyethanol.; For Skin Type: ['Dry', 'Normal', 'Oily', 'Sensitive']; Size: 10 sheets; Description: An illuminating mask treatment that helps brighten and even skin tone, diminishing the appearance of dark spots and dullness for a more radiant complexion.\\n\", path=None, url=None, mimetype=None), image_resource=None, audio_resource=None, video_resource=None, text_template='{metadata_str}\\n\\n{content}'),\n",
       " Document(id_='493f7aea-3af9-407a-b299-d997a587543c', embedding=None, metadata={}, excluded_embed_metadata_keys=[], excluded_llm_metadata_keys=[], relationships={}, metadata_template='{key}: {value}', metadata_separator='\\n', text_resource=MediaResource(embeddings=None, data=None, text=\"Product Name: Ginger Leaf & Hibiscus Firming Mask: Product Type: Face Mask; Brand: KIEHL'S SINCE 1851; Price: 54; Rank: 4.4; Ingredients: Water, PVP, Propanediol, Behenyl Alcohol, Caprylic/Capric Triglyceride, Isoamyl Laurate, Mangifera Indica Seed Butter/Mango Seed Butter, Butyrospermum Parkii Butter/Shea Butter, Butyrospermum Parkii Oil/Shea Oil, Pullulan, Arachidyl Alcohol, Euphorbia Cerifera Cera/Candelilla Wax, Cetearyl Alcohol, Glycerin, Butylene Glycol, Coco-Glucoside, Paeonia Suffruticosa Root Extract, Scutellaria Baicalensis Root Extract, Prunus Amygdalus Dulcis Oil/Sweet Almond Oil, Hibiscus Esculentus Seed Extract, Sodium Polyacrylate, Acrylates/C10-30 Feel the instant firming effect of our indulgent velvety cream mask. Formulated with Hibiscus, whose flower is Alkyl Acrylate Crosspolymer, Arachidyl Glucoside, Ethylhexylglycerin, PEG-100 Stearate,Lavandula Angustifolia Oil/Lavender Oil, Corallina Officinalis Extract, Curcuma Longa Root Extract/Turmeric Root Extract, Elettaria Cardamomum Seed Oil, Salvia Sclarea Extract/Clary Extract, Moringa Oleifera Seed Oil, Ocimum Basilicum Flower/Leaf Extract - Basil Flower/Leaf Extract, Dipteryx Odorata Seed Extract, Cistus Ladaniferus Leaf/Stem Extract, Coumarin, Ocimum Sanctum Leaf Extract, Citral, Rosa Damascena Extract, Vanilla Planifolia Fruit Extract, Tocopherol, Citric Acid.; For Skin Type: ['Dry', 'Normal', 'Oily', 'Sensitive']; Size: 3.5 oz (100ml); Description: A firming mask formulated with ginger leaf and hibiscus seed extract to help visibly improve skin's elasticity and reduce the appearance of fine lines and wrinkles.\\n\", path=None, url=None, mimetype=None), image_resource=None, audio_resource=None, video_resource=None, text_template='{metadata_str}\\n\\n{content}'),\n",
       " Document(id_='af49220b-6aca-4174-bcfa-9b78a6fbe3b3', embedding=None, metadata={}, excluded_embed_metadata_keys=[], excluded_llm_metadata_keys=[], relationships={}, metadata_template='{key}: {value}', metadata_separator='\\n', text_resource=MediaResource(embeddings=None, data=None, text=\"Product Name: Treatment Lotion Hydrating Mask: Product Type: Face Mask; Brand: LA MER; Price: 150; Rank: 4.1; Ingredients: Water, Algae (Seaweed) Extract, Glycerin, Methyl Gluceth-20, Bis-Peg-18 Methyl EtherDimethyl Silane, Butylene Glycol, Hypnea Musciformis (Algae) Extract, Sucrose, Propanediol, Sesamum Indicum (Sesame) Seed Oil, Medicago Sativa (Alfalfa) Seed Powder, Helianthus Annuus (Sunflower) Seedcake, Prunus Amygdalus Dulcis (Sweet Almond) Seed Meal, Eucalyptus Globulus (Eucalyptus) Leaf Oil, Sodium Gluconate, Copper Gluconate, Calcium Gluconate, Magnesium Gluconate, Zinc Gluconate, Tocopheryl Succinate, Niacin, Sesamum Indicum (Sesame) Seed Powder, Citrus Aurantifolia (Lime) Peel Extract, Glycine Soja (Soybean) Seed Extract, Acetyl Hexapeptide-8, Acetyl Dipeptide-1 Cetyl Ester, Sea Salt\\\\Maris Sal\\\\Sel Marin, Codium Tomentosum Extract, Gelidiella Acerosa Extract, Caffeine, Laminaria Saccharina Extract, Alcaligenes Polysaccharides, Dipotassium Glycyrrhizate, Glycereth-26, Laminaria Digitata Extract, PlanktonExtract, Glycosaminoglycans, Palmaria Palmata Extract, Peg-8, Ethylhexylglycerin, Sodium Pca, Urea, Ppg-5-Ceteth-20, Jojoba Wax Peg-120 Esters, Polysorbate 20, Carbomer, Yeast Extract\\\\Faex\\\\Extrait De Levure, Sodium Hyaluronate, Xanthan Gum, Pentylene Glycol, Trehalose, Laureth-3, Hydrolyzed Yeast Protein, Hydroxyethylcellulose, Caprylyl Glycol, Fragrance, Tourmaline, Hydroxypropyl Cyclodextrin, Glycine Soja (Soybean) Protein, Alcohol Denat., Sodium Hydroxide, Lecithin, Polyquaternium-51, Disodium Edta, Citronellol, Geraniol, Hydroxycitronellal, Linalool, Limonene, Potassium Sorbate, Chlorphenesin, Phenoxyethanol.; For Skin Type: ['Dry', 'Normal', 'Oily', 'Sensitive']; Size: 6 sheets; Description: Innovative hydrating sheet masks infused with La Mer's treatment lotion and miracle broth to deliver intense moisture and renewal, transforming skin in just one use.\\n\", path=None, url=None, mimetype=None), image_resource=None, audio_resource=None, video_resource=None, text_template='{metadata_str}\\n\\n{content}'),\n",
       " Document(id_='e174ba87-1350-49ec-9071-3b7506861666', embedding=None, metadata={}, excluded_embed_metadata_keys=[], excluded_llm_metadata_keys=[], relationships={}, metadata_template='{key}: {value}', metadata_separator='\\n', text_resource=MediaResource(embeddings=None, data=None, text=\"Product Name: Advanced Night Repair Concentrated Recovery Eye Mask: Product Type: Face Mask; Brand: ESTEE LAUDER; Price: 46; Rank: 3.3; Ingredients: Advanced Night Rpr Cnc Rcvr Eyemsk Division: El (Estee Lauder)Ingredients: Water , Methyl Gluceth-20 , Peg-75 , Bis-Peg-18 Methyl Ether Dimethyl Silane , Butylene Glycol , Propanediol , Glycereth-26 , Cladosiphon Okamuranus Extract , Silybum Marianum (Lady'S Thistle) Extract , Echinacea Purpurea (Coneflower) Extract , Garcinia Mangostana Peel Extract , Anthemis Nobilis (Chamomile) Flower Extract , Caffeine , Coffea Arabica (Coffee) Seed Extract , Artemia Extract , Betula Alba (Birch) Extract , Poria Cocos Sclerotium Extract , Hydrolyzed Rice Extract , Camelina Sativa Seed Oil , Algae Extract , Lactobacillus Ferment , Hydrolyzed Algin , Squalane , C12-15 Alkyl Benzoate , Yeast Extract/Faex/Extrait De Levure , Caprylyl Glycol , Tocopheryl Acetate , Peg-8 Glyceryl Isostearate , Polysorbate 20 , Glycine , Carbomer , Sodium Hyaluronate , Dextrin , Xanthan Gum , Sodium Hydroxide , Lecithin , Triethoxycaprylylsilane , Polyhydroxystearic Acid , Trisodium Edta , Phenoxyethanol , Iron Oxides (Ci 77491); For Skin Type: ['Dry', 'Normal', 'Oily']; Size: 4 pairs; Description: Specialized eye masks designed to target signs of fatigue and aging around the delicate eye area, reducing puffiness, fine lines, and dark circles for a refreshed appearance.\\n\", path=None, url=None, mimetype=None), image_resource=None, audio_resource=None, video_resource=None, text_template='{metadata_str}\\n\\n{content}'),\n",
       " Document(id_='c221e4a1-59f6-4290-a3d0-45e5149b6458', embedding=None, metadata={}, excluded_embed_metadata_keys=[], excluded_llm_metadata_keys=[], relationships={}, metadata_template='{key}: {value}', metadata_separator='\\n', text_resource=MediaResource(embeddings=None, data=None, text=\"Product Name: Cilantro & Orange Extract Pollutant Defending Mask: Product Type: Face Mask; Brand: KIEHL'S SINCE 1851; Price: 39; Rank: 4.1; Ingredients: Water, Propanediol, Shea Butter, Glycerin, Cetearyl Alcohol, Arginine, Glyceryl Stearate, Apricot Kernel Oil, Lauroyl Lysine, Vaccinium Myrtillus Fruit Extract, Olive Fruit Oil, Cetearyl Glucoside, Squalane, Neohesperidin Dihydrochalcone, Coriander Seed Oil, Tocopherol, Sugar Cane Extract, Sclerotium Gum, Caprylyl Glycol, Ferulic Acid, Orange Fruit Water, Lemon Fruit Extract, Xanthan Gum, Lavender Oil, Peppermint Oil, Rice Bran Oil, Sugar Maple Extract, Ci 77288, Chromium Oxide Greens, Linalool, Sunflower Seed Oil, Phytic Acid, Limonene, Citral, Geraniol, Citric Acid.; For Skin Type: ['Dry', 'Normal', 'Oily', 'Sensitive']; Size: 2.5 oz (75ml); Description: A purifying mask with cilantro and orange extract that helps defend against environmental pollutants while gently removing impurities for clearer, healthier-looking skin.\\n\", path=None, url=None, mimetype=None), image_resource=None, audio_resource=None, video_resource=None, text_template='{metadata_str}\\n\\n{content}'),\n",
       " Document(id_='c1034e0c-de14-4cfc-988e-92a1fa81f45b', embedding=None, metadata={}, excluded_embed_metadata_keys=[], excluded_llm_metadata_keys=[], relationships={}, metadata_template='{key}: {value}', metadata_separator='\\n', text_resource=MediaResource(embeddings=None, data=None, text=\"Product Name: Advanced Night Repair Eye Concentrate Matrix: Product Type: Eye cream; Brand: ESTEE LAUDER; Price: 69; Rank: 3.2; Ingredients: Advanced Night Rpr Eye Conc Matrix Division: El (Estee Lauder)Ingredients: Water , Dimethicone , Isohexadecane , Glycerin , Butylene Glycol , Bis-Peg-18 Methyl Ether Dimethyl Silane , Peg-10 Dimethicone , Disteardimonium Hectorite , Isopropyl Isostearate , Ppg-15 Stearyl Ether , Sucrose , Trehalose , Pentylene Glycol , Hydroxyethyl Urea , Cucumis Sativus (Cucumber) Fruit Extract , Garcinia Mangostana Peel Extract , Anthemis Nobilis (Chamomile) Flower Extract , Hordeum Vulgare (Barley) Extract/Extrait D'Orge , Silybum Marianum (Lady'S Thistle) Extract , Glycine Soja (Soybean) Seed Extract , Lactobacillus Ferment , Algae Extract , Sorbitol , Betula Alba (Birch) Extract , Scutellaria Baicalensis Root Extract , Morus Bombycis (Mulberry) Root Extract , Poria Cocos Sclerotium Extract , Camelina Sativa Seed Oil , Bifida Ferment Lysate , Propylene Glycol Dicaprate , Caffeine , Sodium Hyaluronate , Sodium Polyaspartate , Hydrogenated Lecithin , Aminopropyl Ascorbyl Phosphate , Phytosphingosine , Yeast Extract/Faex/Extrait De Levure , Ethylhexylglycerin , Sodium Rna , Hydrolyzed Algin , Tripeptide-32 , Polysilicone-11 , Isododecane , Tocopheryl Acetate , Helianthus Annuus (Sunflower) Seedcake , Polyethylene , Propylene Carbonate , Polyacrylate Crosspolymer-6 , Sodium Dehydroacetate , Potassium Sorbate , Lecithin , Disodium Edta , Bht , Phenoxyethanol , Iron Oxides (Ci 77491); For Skin Type: ['Dry', 'Normal', 'Oily']; Size: 0.5 oz (15ml); Description: A concentrated eye treatment that visibly reduces puffiness, fine lines, and crepiness around the eyes using a matrix technology that provides 360° eye support for a more lifted appearance.\\n\", path=None, url=None, mimetype=None), image_resource=None, audio_resource=None, video_resource=None, text_template='{metadata_str}\\n\\n{content}'),\n",
       " Document(id_='51f65d18-f502-472a-a434-8bc9a349082b', embedding=None, metadata={}, excluded_embed_metadata_keys=[], excluded_llm_metadata_keys=[], relationships={}, metadata_template='{key}: {value}', metadata_separator='\\n', text_resource=MediaResource(embeddings=None, data=None, text=\"Product Name: Advanced Night Repair Eye Serum Synchronized Complex II: Product Type: Eye cream; Brand: ESTEE LAUDER; Price: 66; Rank: 3.5; Ingredients: Advanced Night Rp Eye Sr Syn Cmpii Division: El (Estee Lauder)Ingredients: Water , Bifida Ferment Lysate , Caprylic/Capric Triglyceride , Dimethicone , Nylon-12 , Cetyl Ricinoleate , Propanediol , Bis-Peg-18 Methyl Ether Dimethyl Silane , Glycerin , Trehalose , Algae Extract , Morus Bombycis (Mulberry) Root Extract , Scutellaria Baicalensis Root Extract , Lactobacillus Ferment , Triticum Vulgare (Wheat) Germ Extract , Betula Alba (Birch) Extract , Hydrolyzed Algin , Poria Cocos Sclerotium Extract , Glycine Soja (Soybean) Seed Extract , Sucrose , Yeast Extract/Faex/Extrait De Levure , Hydrogenated Lecithin , Hordeum Vulgare (Barley) Extract/Extrait D'Orge , Cholesterol , Anthemis Nobilis (Chamomile) , Tocopheryl Acetate , Sodium Rna , Tromethamine , Caffeine , Caprylyl Glycol , Oleth-10 , Phytosphingosine , Squalane , Ammonium Acryloyldimethyltaurate/Vp Copolymer , Potassium Sulfate , Biosaccharide Gum - 1 , Lecithin , Sodium Hyaluronate , Acrylates/C10-30 Alkyl Acrylate Crosspolymer , Sodium Acrylates/Acrylonitrogens Copolymer , Hexylene Glycol , Sodium Metabisulfite , Aminopropyl Ascorbyl Phosphate , Tripeptide-32 , Butylene Glycol , Sodium Sulfite , Disodium Edta , Bht , Phenoxyethanol , Mica , Titanium Dioxide (Ci 77891) , Iron Oxides (Ci 77491, Ci 77492, Ci 77499); For Skin Type: ['Dry', 'Normal', 'Oily', 'Sensitive']; Size: 0.5 oz (15ml); Description: A silky serum for the eye area that helps reduce the appearance of fine lines, wrinkles, and dark circles while hydrating and fortifying the delicate skin around the eyes.\\n\", path=None, url=None, mimetype=None), image_resource=None, audio_resource=None, video_resource=None, text_template='{metadata_str}\\n\\n{content}'),\n",
       " Document(id_='3e29aeee-6118-432e-a900-7d952610ee9c', embedding=None, metadata={}, excluded_embed_metadata_keys=[], excluded_llm_metadata_keys=[], relationships={}, metadata_template='{key}: {value}', metadata_separator='\\n', text_resource=MediaResource(embeddings=None, data=None, text=\"Product Name: Youth Dose Eye Treatment: Product Type: Eye cream; Brand: KIEHL'S SINCE 1851; Price: 39; Rank: 2.8; Ingredients: Water, Dimethicone, Glycerin, Dimethicone/Vinyl Dimethicone Crosspolymer, Vinly Dimethicone/Methicone Silsesquioxane Crosspollymer, Hydroxypropyl Tetrahydropyrantriol, Isononyl Isononanoate, Propylene Glycol, Ascorbyl Glucoside, Octyldoecanol, Lauryl PEG-9 Polydimethylsiloxyethyl Dimethicone, Methyl Methacrylate Crosspolymer, Boron Nitride, CI 77891/Titanium Dioxide, Mica, Phenoxyethanol, PEG/PPPG-18/18 DImethicone, Silica Silylate, Hydrolyzed Soy protein, CI 77163/Bismuth Oxychloride, Sodium Hyaluronate, Chlorphenesin, Magnesium Sulfate, Sodium Hydroxide, Caffine, Retinyl Palmitate, Vitis Vinifer Seed Extract/Grape Seed Extract, Capryloyl Salicyclic Acid, Pentaerythrityl Tetra-Di-T-Butyl Hydroxyhydrocinnamate, Tetrasodium EDTA, CI 77491/Iron Oxides, Adenosine, Pentylene Glycol, Tocopherol.; For Skin Type: ['Dry', 'Normal', 'Oily', 'Sensitive']; Size: 0.5 oz (15ml); Description: A brightening and smoothing eye treatment formulated with pro-retinol, vitamin C, and grape seed extract to help diminish dark circles, fine lines, and puffiness.\\n\", path=None, url=None, mimetype=None), image_resource=None, audio_resource=None, video_resource=None, text_template='{metadata_str}\\n\\n{content}'),\n",
       " Document(id_='38953dc2-21be-4d08-bef8-82aa915fb02b', embedding=None, metadata={}, excluded_embed_metadata_keys=[], excluded_llm_metadata_keys=[], relationships={}, metadata_template='{key}: {value}', metadata_separator='\\n', text_resource=MediaResource(embeddings=None, data=None, text=\"Product Name: Powerful-Strength Line-Reducing Eye-Brightening Concentrate: Product Type: Eye cream; Brand: KIEHL'S SINCE 1851; Price: 44; Rank: 3.1; Ingredients: Propylene Glycol Cyclopentasiloxane Ascorbic Acid Glycerin Cetyl Peg/Ppg-10/1 Dimethicone Dimethicone Crosspolymer Aqua, Water Lauroyl Lysine Acrylates Copolymer Escin Silica Dimethyl Silylate Adenosine N-Hydroxysuccinimide Palmitoyl Oligopeptide Chrysin Palmitoyl Tetrapeptide-7.; For Skin Type: ['Dry', 'Normal', 'Oily']; Size: 0.5 oz (15ml); Description: A dual-action eye treatment that helps visibly reduce the appearance of lines and dark circles, combining powerful vitamin C with illuminating minerals for brighter-looking eyes.\\n\", path=None, url=None, mimetype=None), image_resource=None, audio_resource=None, video_resource=None, text_template='{metadata_str}\\n\\n{content}'),\n",
       " Document(id_='6fc4b487-f0cb-440b-a20f-c1204145c368', embedding=None, metadata={}, excluded_embed_metadata_keys=[], excluded_llm_metadata_keys=[], relationships={}, metadata_template='{key}: {value}', metadata_separator='\\n', text_resource=MediaResource(embeddings=None, data=None, text=\"Product Name: Clearly Corrective™ Dark Circle Perfector: Product Type: Eye cream; Brand: KIEHL'S SINCE 1851; Price: 38; Rank: 3.6; Ingredients: Water, Cyclopentasiloxane, Isododecane, Dimethicone, Glycerin, Nylon-12, Peg-9 Polydimethylsiloxyethyl Dimethicone, Butylene Glycol, Cyclohexasiloxane, Silica, Dimethicone Crosspolymer, Disteardimonium Hectorite, 3-O-Ethyl Ascorbic Acid, Zinc Pca, Peg-10 Dimethicone, Cetyl Peg/Ppg-10/1 Dimethicone, Phenoxyethanol, Sodium Chloride, Polyglyceryl-4 Isostearate, Caprylyl Glycol, Ethylhexylglycerin, Chlorphenesin, Disodium Stearoyl Glutamate, Caffeine, Peg-9, Glycyrrhiza Glabra (Licorice) Root Extract, Aluminum Hydroxide, May Contain, Titanium Dioxide, Iron Oxides, Mica.; For Skin Type: ['Dry', 'Normal', 'Oily', 'Sensitive']; Size: 0.5 oz (15ml); Description: A tinted eye treatment with color-correcting technology that instantly conceals dark circles while delivering skincare benefits to improve their appearance over time.\\n\", path=None, url=None, mimetype=None), image_resource=None, audio_resource=None, video_resource=None, text_template='{metadata_str}\\n\\n{content}')]"
      ]
     },
     "execution_count": 9,
     "metadata": {},
     "output_type": "execute_result"
    }
   ],
   "source": [
    "documents"
   ]
  },
  {
   "cell_type": "markdown",
   "metadata": {},
   "source": [
    "## Setup API Key and LLM"
   ]
  },
  {
   "cell_type": "code",
   "execution_count": 10,
   "metadata": {},
   "outputs": [],
   "source": [
    "import os\n",
    "\n",
    "os.environ[\"OPENAI_API_KEY\"] = os.getenv(\"OPENAI_API_KEY\")\n",
    "\n",
    "from llama_index.llms.openai import OpenAI\n",
    "\n",
    "llm = OpenAI(model=\"gpt-4\")"
   ]
  },
  {
   "cell_type": "markdown",
   "metadata": {},
   "source": [
    "## GraphRAGExtractor\n",
    "\n",
    "The GraphRAGExtractor class is designed to extract triples (subject-relation-object) from text and enrich them by adding descriptions for entities and relationships to their properties using an LLM.\n",
    "\n",
    "This functionality is similar to that of the `SimpleLLMPathExtractor`, but includes additional enhancements to handle entity, relationship descriptions. For guidance on implementation, you may look at similar existing [extractors](https://docs.llamaindex.ai/en/latest/examples/property_graph/Dynamic_KG_Extraction/?h=comparing).\n",
    "\n",
    "Here's a breakdown of its functionality:\n",
    "\n",
    "**Key Components:**\n",
    "\n",
    "1. `llm:` The language model used for extraction.\n",
    "2. `extract_prompt:` A prompt template used to guide the LLM in extracting information.\n",
    "3. `parse_fn:` A function to parse the LLM's output into structured data.\n",
    "4. `max_paths_per_chunk:` Limits the number of triples extracted per text chunk.\n",
    "5. `num_workers:` For parallel processing of multiple text nodes.\n",
    "\n",
    "\n",
    "**Main Methods:**\n",
    "\n",
    "1. `__call__:` The entry point for processing a list of text nodes.\n",
    "2. `acall:` An asynchronous version of __call__ for improved performance.\n",
    "3. `_aextract:` The core method that processes each individual node.\n",
    "\n",
    "\n",
    "**Extraction Process:**\n",
    "\n",
    "For each input node (chunk of text):\n",
    "1. It sends the text to the LLM along with the extraction prompt.\n",
    "2. The LLM's response is parsed to extract entities, relationships, descriptions for entities and relations.\n",
    "3. Entities are converted into EntityNode objects. Entity description is stored in metadata\n",
    "4. Relationships are converted into Relation objects. Relationship description is stored in metadata.\n",
    "5. These are added to the node's metadata under KG_NODES_KEY and KG_RELATIONS_KEY.\n",
    "\n",
    "**NOTE:** In the current implementation, we are using only relationship descriptions. In the next implementation, we will utilize entity descriptions during the retrieval stage."
   ]
  },
  {
   "cell_type": "code",
   "execution_count": 11,
   "metadata": {},
   "outputs": [],
   "source": [
    "import asyncio\n",
    "import nest_asyncio\n",
    "\n",
    "nest_asyncio.apply()\n",
    "\n",
    "from typing import Any, List, Callable, Optional, Union, Dict\n",
    "from IPython.display import Markdown, display\n",
    "\n",
    "from llama_index.core.async_utils import run_jobs\n",
    "from llama_index.core.indices.property_graph.utils import (\n",
    "    default_parse_triplets_fn,\n",
    ")\n",
    "from llama_index.core.graph_stores.types import (\n",
    "    EntityNode,\n",
    "    KG_NODES_KEY,\n",
    "    KG_RELATIONS_KEY,\n",
    "    Relation,\n",
    ")\n",
    "from llama_index.core.llms.llm import LLM\n",
    "from llama_index.core.prompts import PromptTemplate\n",
    "from llama_index.core.prompts.default_prompts import (\n",
    "    DEFAULT_KG_TRIPLET_EXTRACT_PROMPT,\n",
    ")\n",
    "from llama_index.core.schema import TransformComponent, BaseNode\n",
    "from llama_index.core.bridge.pydantic import BaseModel, Field\n",
    "\n",
    "\n",
    "class GraphRAGExtractor(TransformComponent):\n",
    "    \"\"\"Extract triples from a graph.\n",
    "\n",
    "    Uses an LLM and a simple prompt + output parsing to extract paths (i.e. triples) and entity, relation descriptions from text.\n",
    "\n",
    "    Args:\n",
    "        llm (LLM):\n",
    "            The language model to use.\n",
    "        extract_prompt (Union[str, PromptTemplate]):\n",
    "            The prompt to use for extracting triples.\n",
    "        parse_fn (callable):\n",
    "            A function to parse the output of the language model.\n",
    "        num_workers (int):\n",
    "            The number of workers to use for parallel processing.\n",
    "        max_paths_per_chunk (int):\n",
    "            The maximum number of paths to extract per chunk.\n",
    "    \"\"\"\n",
    "\n",
    "    llm: LLM\n",
    "    extract_prompt: PromptTemplate\n",
    "    parse_fn: Callable\n",
    "    num_workers: int\n",
    "    max_paths_per_chunk: int\n",
    "\n",
    "    def __init__(\n",
    "        self,\n",
    "        llm: Optional[LLM] = None,\n",
    "        extract_prompt: Optional[Union[str, PromptTemplate]] = None,\n",
    "        parse_fn: Callable = default_parse_triplets_fn,\n",
    "        max_paths_per_chunk: int = 10,\n",
    "        num_workers: int = 4,\n",
    "    ) -> None:\n",
    "        \"\"\"Init params.\"\"\"\n",
    "        from llama_index.core import Settings\n",
    "\n",
    "        if isinstance(extract_prompt, str):\n",
    "            extract_prompt = PromptTemplate(extract_prompt)\n",
    "\n",
    "        super().__init__(\n",
    "            llm=llm or Settings.llm,\n",
    "            extract_prompt=extract_prompt or DEFAULT_KG_TRIPLET_EXTRACT_PROMPT,\n",
    "            parse_fn=parse_fn,\n",
    "            num_workers=num_workers,\n",
    "            max_paths_per_chunk=max_paths_per_chunk,\n",
    "        )\n",
    "\n",
    "    @classmethod\n",
    "    def class_name(cls) -> str:\n",
    "        return \"GraphExtractor\"\n",
    "\n",
    "    def __call__(\n",
    "        self, nodes: List[BaseNode], show_progress: bool = False, **kwargs: Any\n",
    "    ) -> List[BaseNode]:\n",
    "        \"\"\"Extract triples from nodes.\"\"\"\n",
    "        return asyncio.run(\n",
    "            self.acall(nodes, show_progress=show_progress, **kwargs)\n",
    "        )\n",
    "\n",
    "    async def _aextract(self, node: BaseNode) -> BaseNode:\n",
    "        \"\"\"Extract triples from a node.\"\"\"\n",
    "        assert hasattr(node, \"text\")\n",
    "\n",
    "        text = node.get_content(metadata_mode=\"llm\")\n",
    "        try:\n",
    "            llm_response = await self.llm.apredict(\n",
    "                self.extract_prompt,\n",
    "                text=text,\n",
    "                max_knowledge_triplets=self.max_paths_per_chunk,\n",
    "            )\n",
    "            entities, entities_relationship = self.parse_fn(llm_response)\n",
    "        except ValueError:\n",
    "            entities = []\n",
    "            entities_relationship = []\n",
    "\n",
    "        existing_nodes = node.metadata.pop(KG_NODES_KEY, [])\n",
    "        existing_relations = node.metadata.pop(KG_RELATIONS_KEY, [])\n",
    "        entity_metadata = node.metadata.copy()\n",
    "        for entity, entity_type, description in entities:\n",
    "            entity_metadata[\"entity_description\"] = description\n",
    "            entity_node = EntityNode(\n",
    "                name=entity, label=entity_type, properties=entity_metadata\n",
    "            )\n",
    "            existing_nodes.append(entity_node)\n",
    "\n",
    "        relation_metadata = node.metadata.copy()\n",
    "        for triple in entities_relationship:\n",
    "            subj, obj, rel, description = triple\n",
    "            relation_metadata[\"relationship_description\"] = description\n",
    "            rel_node = Relation(\n",
    "                label=rel,\n",
    "                source_id=subj,\n",
    "                target_id=obj,\n",
    "                properties=relation_metadata,\n",
    "            )\n",
    "\n",
    "            existing_relations.append(rel_node)\n",
    "\n",
    "        node.metadata[KG_NODES_KEY] = existing_nodes\n",
    "        node.metadata[KG_RELATIONS_KEY] = existing_relations\n",
    "        return node\n",
    "\n",
    "    async def acall(\n",
    "        self, nodes: List[BaseNode], show_progress: bool = False, **kwargs: Any\n",
    "    ) -> List[BaseNode]:\n",
    "        \"\"\"Extract triples from nodes async.\"\"\"\n",
    "        jobs = []\n",
    "        for node in nodes:\n",
    "            jobs.append(self._aextract(node))\n",
    "\n",
    "        return await run_jobs(\n",
    "            jobs,\n",
    "            workers=self.num_workers,\n",
    "            show_progress=show_progress,\n",
    "            desc=\"Extracting paths from text\",\n",
    "        )"
   ]
  },
  {
   "cell_type": "markdown",
   "metadata": {},
   "source": [
    "## GraphRAGStore\n",
    "\n",
    "The `GraphRAGStore` class is an extension of the `Neo4jPropertyGraphStore`class, designed to implement GraphRAG pipeline. Here's a breakdown of its key components and functions:\n",
    "\n",
    "\n",
    "The class uses community detection algorithms to group related nodes in the graph and then it generates summaries for each community using an LLM.\n",
    "\n",
    "\n",
    "**Key Methods:**\n",
    "\n",
    "`build_communities():`\n",
    "\n",
    "1. Converts the internal graph representation to a NetworkX graph.\n",
    "\n",
    "2. Applies the hierarchical Leiden algorithm for community detection.\n",
    "\n",
    "3. Collects detailed information about each community.\n",
    "\n",
    "4. Generates summaries for each community.\n",
    "\n",
    "`generate_community_summary(text):`\n",
    "\n",
    "1. Uses LLM to generate a summary of the relationships in a community.\n",
    "2. The summary includes entity names and a synthesis of relationship descriptions.\n",
    "\n",
    "`_create_nx_graph():`\n",
    "\n",
    "1. Converts the internal graph representation to a NetworkX graph for community detection.\n",
    "\n",
    "`_collect_community_info(nx_graph, clusters):`\n",
    "\n",
    "1. Collects detailed information about each node based on its community.\n",
    "2. Creates a string representation of each relationship within a community.\n",
    "\n",
    "`_summarize_communities(community_info):`\n",
    "\n",
    "1. Generates and stores summaries for each community using LLM.\n",
    "\n",
    "`get_community_summaries():`\n",
    "\n",
    "1. Returns the community summaries by building them if not already done."
   ]
  },
  {
   "cell_type": "code",
   "execution_count": 12,
   "metadata": {},
   "outputs": [
    {
     "name": "stderr",
     "output_type": "stream",
     "text": [
      "/Users/brandonkeung/.pyenv/versions/3.11.9/envs/EvalCapstone311/lib/python3.11/site-packages/tqdm/auto.py:21: TqdmWarning: IProgress not found. Please update jupyter and ipywidgets. See https://ipywidgets.readthedocs.io/en/stable/user_install.html\n",
      "  from .autonotebook import tqdm as notebook_tqdm\n"
     ]
    }
   ],
   "source": [
    "import re\n",
    "import networkx as nx\n",
    "from graspologic.partition import hierarchical_leiden\n",
    "from collections import defaultdict\n",
    "\n",
    "from llama_index.core.llms import ChatMessage\n",
    "from llama_index.graph_stores.neo4j import Neo4jPropertyGraphStore\n",
    "\n",
    "\n",
    "class GraphRAGStore(Neo4jPropertyGraphStore):\n",
    "    community_summary = {}\n",
    "    entity_info = None\n",
    "    max_cluster_size = 5\n",
    "\n",
    "    def generate_community_summary(self, text):\n",
    "        \"\"\"Generate summary for a given text using an LLM.\"\"\"\n",
    "        messages = [\n",
    "            ChatMessage(\n",
    "                role=\"system\",\n",
    "                content=(\n",
    "                    \"You are provided with a set of relationships from a knowledge graph, each represented as \"\n",
    "                    \"entity1->entity2->relation->relationship_description. Your task is to create a summary of these \"\n",
    "                    \"relationships. The summary should include the names of the entities involved and a concise synthesis \"\n",
    "                    \"of the relationship descriptions. The goal is to capture the most critical and relevant details that \"\n",
    "                    \"highlight the nature and significance of each relationship. Ensure that the summary is coherent and \"\n",
    "                    \"integrates the information in a way that emphasizes the key aspects of the relationships.\"\n",
    "                ),\n",
    "            ),\n",
    "            ChatMessage(role=\"user\", content=text),\n",
    "        ]\n",
    "        response = OpenAI().chat(messages)\n",
    "        clean_response = re.sub(r\"^assistant:\\s*\", \"\", str(response)).strip()\n",
    "        return clean_response\n",
    "\n",
    "    def build_communities(self):\n",
    "        \"\"\"Builds communities from the graph and summarizes them.\"\"\"\n",
    "        nx_graph = self._create_nx_graph()\n",
    "        community_hierarchical_clusters = hierarchical_leiden(\n",
    "            nx_graph, max_cluster_size=self.max_cluster_size\n",
    "        )\n",
    "        self.entity_info, community_info = self._collect_community_info(\n",
    "            nx_graph, community_hierarchical_clusters\n",
    "        )\n",
    "        self._summarize_communities(community_info)\n",
    "\n",
    "    def _create_nx_graph(self):\n",
    "        \"\"\"Converts internal graph representation to NetworkX graph.\"\"\"\n",
    "        nx_graph = nx.Graph()\n",
    "        triplets = self.get_triplets()\n",
    "        for entity1, relation, entity2 in triplets:\n",
    "            nx_graph.add_node(entity1.name)\n",
    "            nx_graph.add_node(entity2.name)\n",
    "            nx_graph.add_edge(\n",
    "                relation.source_id,\n",
    "                relation.target_id,\n",
    "                relationship=relation.label,\n",
    "                description=relation.properties[\"relationship_description\"],\n",
    "            )\n",
    "        return nx_graph\n",
    "\n",
    "    def _collect_community_info(self, nx_graph, clusters):\n",
    "        \"\"\"\n",
    "        Collect information for each node based on their community,\n",
    "        allowing entities to belong to multiple clusters.\n",
    "        \"\"\"\n",
    "        entity_info = defaultdict(set)\n",
    "        community_info = defaultdict(list)\n",
    "\n",
    "        for item in clusters:\n",
    "            node = item.node\n",
    "            cluster_id = item.cluster\n",
    "\n",
    "            # Update entity_info\n",
    "            entity_info[node].add(cluster_id)\n",
    "\n",
    "            for neighbor in nx_graph.neighbors(node):\n",
    "                edge_data = nx_graph.get_edge_data(node, neighbor)\n",
    "                if edge_data:\n",
    "                    detail = f\"{node} -> {neighbor} -> {edge_data['relationship']} -> {edge_data['description']}\"\n",
    "                    community_info[cluster_id].append(detail)\n",
    "\n",
    "        # Convert sets to lists for easier serialization if needed\n",
    "        entity_info = {k: list(v) for k, v in entity_info.items()}\n",
    "\n",
    "        return dict(entity_info), dict(community_info)\n",
    "\n",
    "    def _summarize_communities(self, community_info):\n",
    "        \"\"\"Generate and store summaries for each community.\"\"\"\n",
    "        for community_id, details in community_info.items():\n",
    "            details_text = (\n",
    "                \"\\n\".join(details) + \".\"\n",
    "            )  # Ensure it ends with a period\n",
    "            self.community_summary[\n",
    "                community_id\n",
    "            ] = self.generate_community_summary(details_text)\n",
    "\n",
    "    def get_community_summaries(self):\n",
    "        \"\"\"Returns the community summaries, building them if not already done.\"\"\"\n",
    "        if not self.community_summary:\n",
    "            self.build_communities()\n",
    "        return self.community_summary"
   ]
  },
  {
   "cell_type": "markdown",
   "metadata": {},
   "source": [
    "## GraphRAGQueryEngine\n",
    "\n",
    "The GraphRAGQueryEngine class is a custom query engine designed to process queries using the GraphRAG approach. It leverages the community summaries generated by the GraphRAGStore to answer user queries. Here's a breakdown of its functionality:\n",
    "\n",
    "**Main Components:**\n",
    "\n",
    "`graph_store:` An instance of GraphRAGStore, which contains the community summaries.\n",
    "`llm:` A Language Model (LLM) used for generating and aggregating answers.\n",
    "\n",
    "\n",
    "**Key Methods:**\n",
    "\n",
    "`custom_query(query_str: str)`\n",
    "\n",
    "1. This is the main entry point for processing a query. It retrieves community summaries, generates answers from each summary, and then aggregates these answers into a final response.\n",
    "\n",
    "`generate_answer_from_summary(community_summary, query):`\n",
    "\n",
    "1. Generates an answer for the query based on a single community summary.\n",
    "Uses the LLM to interpret the community summary in the context of the query.\n",
    "\n",
    "`aggregate_answers(community_answers):`\n",
    "\n",
    "1. Combines individual answers from different communities into a coherent final response.\n",
    "2. Uses the LLM to synthesize multiple perspectives into a single, concise answer.\n",
    "\n",
    "\n",
    "**Query Processing Flow:**\n",
    "\n",
    "1. Retrieve community summaries from the graph store.\n",
    "2. For each community summary, generate a specific answer to the query.\n",
    "3. Aggregate all community-specific answers into a final, coherent response.\n",
    "\n",
    "\n",
    "**Example usage:**\n",
    "\n",
    "```\n",
    "query_engine = GraphRAGQueryEngine(graph_store=graph_store, llm=llm)\n",
    "\n",
    "response = query_engine.query(\"query\")\n",
    "```"
   ]
  },
  {
   "cell_type": "code",
   "execution_count": 13,
   "metadata": {},
   "outputs": [],
   "source": [
    "from llama_index.core.query_engine import CustomQueryEngine\n",
    "from llama_index.core.llms import LLM\n",
    "from llama_index.core import PropertyGraphIndex\n",
    "\n",
    "import re\n",
    "\n",
    "\n",
    "class GraphRAGQueryEngine(CustomQueryEngine):\n",
    "    graph_store: GraphRAGStore\n",
    "    index: PropertyGraphIndex\n",
    "    llm: LLM\n",
    "    similarity_top_k: int = 20\n",
    "\n",
    "    def custom_query(self, query_str: str) -> str:\n",
    "        \"\"\"Process all community summaries to generate answers to a specific query.\"\"\"\n",
    "\n",
    "        entities = self.get_entities(query_str, self.similarity_top_k)\n",
    "\n",
    "        community_ids = self.retrieve_entity_communities(\n",
    "            self.graph_store.entity_info, entities\n",
    "        )\n",
    "        community_summaries = self.graph_store.get_community_summaries()\n",
    "        community_answers = [\n",
    "            self.generate_answer_from_summary(community_summary, query_str)\n",
    "            for id, community_summary in community_summaries.items()\n",
    "            if id in community_ids\n",
    "        ]\n",
    "\n",
    "        final_answer = self.aggregate_answers(community_answers)\n",
    "        return final_answer\n",
    "\n",
    "    def get_entities(self, query_str, similarity_top_k):\n",
    "        nodes_retrieved = self.index.as_retriever(\n",
    "            similarity_top_k=similarity_top_k\n",
    "        ).retrieve(query_str)\n",
    "\n",
    "        enitites = set()\n",
    "        pattern = (\n",
    "            r\"^(\\w+(?:\\s+\\w+)*)\\s*->\\s*([a-zA-Z\\s]+?)\\s*->\\s*(\\w+(?:\\s+\\w+)*)$\"\n",
    "        )\n",
    "\n",
    "        for node in nodes_retrieved:\n",
    "            matches = re.findall(\n",
    "                pattern, node.text, re.MULTILINE | re.IGNORECASE\n",
    "            )\n",
    "\n",
    "            for match in matches:\n",
    "                subject = match[0]\n",
    "                obj = match[2]\n",
    "                enitites.add(subject)\n",
    "                enitites.add(obj)\n",
    "\n",
    "        return list(enitites)\n",
    "\n",
    "    def retrieve_entity_communities(self, entity_info, entities):\n",
    "        \"\"\"\n",
    "        Retrieve cluster information for given entities, allowing for multiple clusters per entity.\n",
    "\n",
    "        Args:\n",
    "        entity_info (dict): Dictionary mapping entities to their cluster IDs (list).\n",
    "        entities (list): List of entity names to retrieve information for.\n",
    "\n",
    "        Returns:\n",
    "        List of community or cluster IDs to which an entity belongs.\n",
    "        \"\"\"\n",
    "        community_ids = []\n",
    "\n",
    "        for entity in entities:\n",
    "            if entity in entity_info:\n",
    "                community_ids.extend(entity_info[entity])\n",
    "\n",
    "        return list(set(community_ids))\n",
    "\n",
    "    def generate_answer_from_summary(self, community_summary, query):\n",
    "        \"\"\"Generate an answer from a community summary based on a given query using LLM.\"\"\"\n",
    "        prompt = (\n",
    "            f\"Given the community summary: {community_summary}, \"\n",
    "            f\"how would you answer the following query? Query: {query}\"\n",
    "        )\n",
    "        messages = [\n",
    "            ChatMessage(role=\"system\", content=prompt),\n",
    "            ChatMessage(\n",
    "                role=\"user\",\n",
    "                content=\"I need an answer based on the above information.\",\n",
    "            ),\n",
    "        ]\n",
    "        response = self.llm.chat(messages)\n",
    "        cleaned_response = re.sub(r\"^assistant:\\s*\", \"\", str(response)).strip()\n",
    "        return cleaned_response\n",
    "\n",
    "    def aggregate_answers(self, community_answers):\n",
    "        \"\"\"Aggregate individual community answers into a final, coherent response.\"\"\"\n",
    "        # intermediate_text = \" \".join(community_answers)\n",
    "        prompt = \"Combine the following intermediate answers into a final, concise response.\"\n",
    "        messages = [\n",
    "            ChatMessage(role=\"system\", content=prompt),\n",
    "            ChatMessage(\n",
    "                role=\"user\",\n",
    "                content=f\"Intermediate answers: {community_answers}\",\n",
    "            ),\n",
    "        ]\n",
    "        final_response = self.llm.chat(messages)\n",
    "        cleaned_final_response = re.sub(\n",
    "            r\"^assistant:\\s*\", \"\", str(final_response)\n",
    "        ).strip()\n",
    "        return cleaned_final_response"
   ]
  },
  {
   "cell_type": "markdown",
   "metadata": {},
   "source": [
    "##  Build End to End GraphRAG Pipeline\n",
    "\n",
    "Now that we have defined all the necessary components, let’s construct the GraphRAG pipeline:\n",
    "\n",
    "1. Create nodes/chunks from the text.\n",
    "2. Build a PropertyGraphIndex using `GraphRAGExtractor` and `GraphRAGStore`.\n",
    "3. Construct communities and generate a summary for each community using the graph built above.\n",
    "4. Create a `GraphRAGQueryEngine` and begin querying."
   ]
  },
  {
   "cell_type": "markdown",
   "metadata": {},
   "source": [
    "### Create nodes/ chunks from the text."
   ]
  },
  {
   "cell_type": "code",
   "execution_count": 14,
   "metadata": {},
   "outputs": [],
   "source": [
    "from llama_index.core.node_parser import SentenceSplitter\n",
    "\n",
    "splitter = SentenceSplitter(\n",
    "    chunk_size=1024,\n",
    "    chunk_overlap=20,\n",
    ")\n",
    "nodes = splitter.get_nodes_from_documents(documents)"
   ]
  },
  {
   "cell_type": "code",
   "execution_count": 15,
   "metadata": {},
   "outputs": [
    {
     "data": {
      "text/plain": [
       "25"
      ]
     },
     "execution_count": 15,
     "metadata": {},
     "output_type": "execute_result"
    }
   ],
   "source": [
    "len(nodes)"
   ]
  },
  {
   "cell_type": "markdown",
   "metadata": {},
   "source": [
    "### Build ProperGraphIndex using `GraphRAGExtractor` and `GraphRAGStore`"
   ]
  },
  {
   "cell_type": "code",
   "execution_count": 16,
   "metadata": {},
   "outputs": [],
   "source": [
    "KG_TRIPLET_EXTRACT_TMPL = \"\"\"\n",
    "-Goal-\n",
    "Given a text document, identify all entities and their entity types from the text and all relationships among the identified entities.\n",
    "Given the text, extract up to {max_knowledge_triplets} entity-relation triplets.\n",
    "\n",
    "-Steps-\n",
    "1. Identify all entities. For each identified entity, extract the following information:\n",
    "- entity_name: Name of the entity, capitalized\n",
    "- entity_type: Type of the entity\n",
    "- entity_description: Comprehensive description of the entity's attributes and activities\n",
    "\n",
    "2. From the entities identified in step 1, identify all pairs of (source_entity, target_entity) that are *clearly related* to each other.\n",
    "For each pair of related entities, extract the following information:\n",
    "- source_entity: name of the source entity, as identified in step 1\n",
    "- target_entity: name of the target entity, as identified in step 1\n",
    "- relation: relationship between source_entity and target_entity\n",
    "- relationship_description: explanation as to why you think the source entity and the target entity are related to each other\n",
    "\n",
    "3. Output Formatting:\n",
    "- Return the result in valid JSON format with two keys: 'entities' (list of entity objects) and 'relationships' (list of relationship objects).\n",
    "- Exclude any text outside the JSON structure (e.g., no explanations or comments).\n",
    "- If no entities or relationships are identified, return empty lists: { \"entities\": [], \"relationships\": [] }.\n",
    "\n",
    "-An Output Example-\n",
    "{\n",
    "  \"entities\": [\n",
    "    {\n",
    "      \"entity_name\": \"Albert Einstein\",\n",
    "      \"entity_type\": \"Person\",\n",
    "      \"entity_description\": \"Albert Einstein was a theoretical physicist who developed the theory of relativity and made significant contributions to physics.\"\n",
    "    },\n",
    "    {\n",
    "      \"entity_name\": \"Theory of Relativity\",\n",
    "      \"entity_type\": \"Scientific Theory\",\n",
    "      \"entity_description\": \"A scientific theory developed by Albert Einstein, describing the laws of physics in relation to observers in different frames of reference.\"\n",
    "    },\n",
    "    {\n",
    "      \"entity_name\": \"Nobel Prize in Physics\",\n",
    "      \"entity_type\": \"Award\",\n",
    "      \"entity_description\": \"A prestigious international award in the field of physics, awarded annually by the Royal Swedish Academy of Sciences.\"\n",
    "    }\n",
    "  ],\n",
    "  \"relationships\": [\n",
    "    {\n",
    "      \"source_entity\": \"Albert Einstein\",\n",
    "      \"target_entity\": \"Theory of Relativity\",\n",
    "      \"relation\": \"developed\",\n",
    "      \"relationship_description\": \"Albert Einstein is the developer of the theory of relativity.\"\n",
    "    },\n",
    "    {\n",
    "      \"source_entity\": \"Albert Einstein\",\n",
    "      \"target_entity\": \"Nobel Prize in Physics\",\n",
    "      \"relation\": \"won\",\n",
    "      \"relationship_description\": \"Albert Einstein won the Nobel Prize in Physics in 1921.\"\n",
    "    }\n",
    "  ]\n",
    "}\n",
    "\n",
    "-Real Data-\n",
    "######################\n",
    "text: {text}\n",
    "######################\n",
    "output:\"\"\""
   ]
  },
  {
   "cell_type": "code",
   "execution_count": 17,
   "metadata": {},
   "outputs": [],
   "source": [
    "import json\n",
    "\n",
    "\n",
    "def parse_fn(response_str: str) -> Any:\n",
    "    json_pattern = r\"\\{.*\\}\"\n",
    "    match = re.search(json_pattern, response_str, re.DOTALL)\n",
    "    entities = []\n",
    "    relationships = []\n",
    "    if not match:\n",
    "        return entities, relationships\n",
    "    json_str = match.group(0)\n",
    "    try:\n",
    "        data = json.loads(json_str)\n",
    "        entities = [\n",
    "            (\n",
    "                entity[\"entity_name\"],\n",
    "                entity[\"entity_type\"],\n",
    "                entity[\"entity_description\"],\n",
    "            )\n",
    "            for entity in data.get(\"entities\", [])\n",
    "        ]\n",
    "        relationships = [\n",
    "            (\n",
    "                relation[\"source_entity\"],\n",
    "                relation[\"target_entity\"],\n",
    "                relation[\"relation\"],\n",
    "                relation[\"relationship_description\"],\n",
    "            )\n",
    "            for relation in data.get(\"relationships\", [])\n",
    "        ]\n",
    "        return entities, relationships\n",
    "    except json.JSONDecodeError as e:\n",
    "        print(\"Error parsing JSON:\", e)\n",
    "        return entities, relationships\n",
    "\n",
    "\n",
    "kg_extractor = GraphRAGExtractor(\n",
    "    llm=llm,\n",
    "    extract_prompt=KG_TRIPLET_EXTRACT_TMPL,\n",
    "    max_paths_per_chunk=2,\n",
    "    parse_fn=parse_fn,\n",
    ")"
   ]
  },
  {
   "cell_type": "markdown",
   "metadata": {},
   "source": [
    "## Docker Setup And Neo4J setup\n",
    "\n",
    "To launch Neo4j locally, first ensure you have docker installed. Then, you can launch the database with the following docker command.\n",
    "\n",
    "```\n",
    "docker run \\\n",
    "    -p 7474:7474 -p 7687:7687 \\\n",
    "    -v $PWD/data:/data -v $PWD/plugins:/plugins \\\n",
    "    --name neo4j-apoc \\\n",
    "    -e NEO4J_apoc_export_file_enabled=true \\\n",
    "    -e NEO4J_apoc_import_file_enabled=true \\\n",
    "    -e NEO4J_apoc_import_file_use__neo4j__config=true \\\n",
    "    -e NEO4JLABS_PLUGINS=\\[\\\"apoc\\\"\\] \\\n",
    "    neo4j:latest\n",
    "```\n",
    "From here, you can open the db at http://localhost:7474/. On this page, you will be asked to sign in. Use the default username/password of neo4j and neo4j.\n",
    "\n",
    "Once you login for the first time, you will be asked to change the password."
   ]
  },
  {
   "cell_type": "code",
   "execution_count": 18,
   "metadata": {},
   "outputs": [],
   "source": [
    "from llama_index.graph_stores.neo4j import Neo4jPropertyGraphStore\n",
    "\n",
    "# Note: used to be `Neo4jPGStore`\n",
    "NEO4J_URI=os.getenv(\"NEO4J_CONNECTION_URL\")\n",
    "NEO4J_USERNAME = os.getenv(\"NEO4J_USER\")\n",
    "NEO4J_PASSWORD = os.getenv(\"NEO4J_PASSWORD\")\n",
    "# print(NEO4J_USERNAME, NEO4J_URI, NEO4J_PASSWORD)\n",
    "\n",
    "graph_store = GraphRAGStore(\n",
    "    username=NEO4J_USERNAME, password=NEO4J_PASSWORD, url=NEO4J_URI\n",
    ")"
   ]
  },
  {
   "cell_type": "code",
   "execution_count": 19,
   "metadata": {},
   "outputs": [
    {
     "name": "stderr",
     "output_type": "stream",
     "text": [
      "Extracting paths from text: 100%|██████████| 25/25 [02:05<00:00,  5.02s/it]\n",
      "Generating embeddings: 100%|██████████| 1/1 [00:00<00:00,  1.47it/s]\n",
      "Generating embeddings: 100%|██████████| 1/1 [00:01<00:00,  1.20s/it]\n"
     ]
    }
   ],
   "source": [
    "from llama_index.core import PropertyGraphIndex\n",
    "\n",
    "index = PropertyGraphIndex(\n",
    "    nodes=nodes,\n",
    "    kg_extractors=[kg_extractor],\n",
    "    property_graph_store=graph_store,\n",
    "    show_progress=True,\n",
    ")"
   ]
  },
  {
   "cell_type": "code",
   "execution_count": 20,
   "metadata": {},
   "outputs": [
    {
     "data": {
      "text/plain": [
       "[EntityNode(label='Ingredient', embedding=None, properties={'id': 'Pitera', 'entity_description': \"Pitera is an ingredient in the Overnight Miracle Mask that helps replenish moisture, smooth texture, and restore skin's natural radiance.\", 'triplet_source_id': 'e237d8d2-304d-4b46-aed5-135b21a059f6'}, name='Pitera'),\n",
       " Relation(label='is an ingredient in', source_id='Pitera', target_id='Overnight Miracle Mask', properties={'triplet_source_id': 'e237d8d2-304d-4b46-aed5-135b21a059f6', 'relationship_description': 'Pitera is an ingredient in the Overnight Miracle Mask.'}),\n",
       " EntityNode(label='Product', embedding=None, properties={'id': 'Overnight Miracle Mask', 'entity_description': \"Overnight Miracle Mask is a face mask product by SK-II. It is priced at 105 and has a rank of 3.8. It contains ingredients such as Galactomyces Ferment Filtrate*, Water, Glycerin, Butylene Glycol, Xylitol, Dipropylene Glycol, Cyclopentasiloxane, Dimethicone, Fragrance, Aluminum Starch Octenylsuccinate, Acrylates/C10-30 Alkyl Acrylate Crosspolymer, Glycereth-25 Pca Isostearate, Aminomethyl Propanol, Dimethiconol, Polymethylsilsesquioxane, Mica, Sodium Benzoate, Phenoxyethanol, Methylparaben, Disodium Edta, Albizia Julibrissin Bark Extract, Methicone, Ci 77891, Ci 77492. *Pitera. It is suitable for Dry, Normal, Oily, Sensitive skin types and comes in a size of 2.8 oz (80g). It is an overnight treatment mask that works while you sleep to replenish moisture, smooth texture, and restore skin's natural radiance by morning.\", 'triplet_source_id': 'e237d8d2-304d-4b46-aed5-135b21a059f6'}, name='Overnight Miracle Mask')]"
      ]
     },
     "execution_count": 20,
     "metadata": {},
     "output_type": "execute_result"
    }
   ],
   "source": [
    "index.property_graph_store.get_triplets()[10]"
   ]
  },
  {
   "cell_type": "code",
   "execution_count": 21,
   "metadata": {},
   "outputs": [
    {
     "data": {
      "text/plain": [
       "{'id': 'Pitera',\n",
       " 'entity_description': \"Pitera is an ingredient in the Overnight Miracle Mask that helps replenish moisture, smooth texture, and restore skin's natural radiance.\",\n",
       " 'triplet_source_id': 'e237d8d2-304d-4b46-aed5-135b21a059f6'}"
      ]
     },
     "execution_count": 21,
     "metadata": {},
     "output_type": "execute_result"
    }
   ],
   "source": [
    "index.property_graph_store.get_triplets()[10][0].properties"
   ]
  },
  {
   "cell_type": "code",
   "execution_count": 22,
   "metadata": {},
   "outputs": [
    {
     "data": {
      "text/plain": [
       "{'triplet_source_id': 'e237d8d2-304d-4b46-aed5-135b21a059f6',\n",
       " 'relationship_description': 'Pitera is an ingredient in the Overnight Miracle Mask.'}"
      ]
     },
     "execution_count": 22,
     "metadata": {},
     "output_type": "execute_result"
    }
   ],
   "source": [
    "index.property_graph_store.get_triplets()[10][1].properties"
   ]
  },
  {
   "cell_type": "markdown",
   "metadata": {},
   "source": [
    "### Build communities\n",
    "\n",
    "This will create communities and summary for each community."
   ]
  },
  {
   "cell_type": "code",
   "execution_count": 23,
   "metadata": {},
   "outputs": [],
   "source": [
    "index.property_graph_store.build_communities()"
   ]
  },
  {
   "cell_type": "markdown",
   "metadata": {},
   "source": [
    "### Create QueryEngine"
   ]
  },
  {
   "cell_type": "code",
   "execution_count": 24,
   "metadata": {},
   "outputs": [],
   "source": [
    "query_engine = GraphRAGQueryEngine(\n",
    "    graph_store=index.property_graph_store,\n",
    "    llm=llm,\n",
    "    index=index,\n",
    "    similarity_top_k=10,\n",
    ")"
   ]
  },
  {
   "cell_type": "markdown",
   "metadata": {},
   "source": [
    "### Querying"
   ]
  },
  {
   "cell_type": "code",
   "execution_count": 25,
   "metadata": {},
   "outputs": [
    {
     "data": {
      "text/markdown": [
       "The information provided is inconsistent, with mentions of SK-II offering four to six products in the collection. The exact number is unclear due to the lack of comprehensive data in the summary."
      ],
      "text/plain": [
       "<IPython.core.display.Markdown object>"
      ]
     },
     "metadata": {},
     "output_type": "display_data"
    }
   ],
   "source": [
    "response = query_engine.query(\n",
    "    \"How many products does SK-II offer in the collection?\"\n",
    ")\n",
    "display(Markdown(f\"{response.response}\"))"
   ]
  },
  {
   "cell_type": "code",
   "execution_count": 26,
   "metadata": {},
   "outputs": [
    {
     "data": {
      "text/markdown": [
       "The community summary does not provide information on the average prices of face masks versus eye creams. This includes brands such as Estee Lauder, SK-II, and LA MER. Therefore, it's not possible to determine which product type is more expensive on average and by how much based on the given information."
      ],
      "text/plain": [
       "<IPython.core.display.Markdown object>"
      ]
     },
     "metadata": {},
     "output_type": "display_data"
    }
   ],
   "source": [
    "response = query_engine.query(\"Compare the average prices of face masks versus eye creams. Which product type is more expensive on average and by how much?\")\n",
    "display(Markdown(f\"{response.response}\"))"
   ]
  },
  {
   "cell_type": "code",
   "execution_count": null,
   "metadata": {},
   "outputs": [],
   "source": []
  }
 ],
 "metadata": {
  "colab": {
   "provenance": []
  },
  "kernelspec": {
   "display_name": "EvalCapstone311",
   "language": "python",
   "name": "python3"
  },
  "language_info": {
   "codemirror_mode": {
    "name": "ipython",
    "version": 3
   },
   "file_extension": ".py",
   "mimetype": "text/x-python",
   "name": "python",
   "nbconvert_exporter": "python",
   "pygments_lexer": "ipython3",
   "version": "3.11.9"
  }
 },
 "nbformat": 4,
 "nbformat_minor": 0
}
